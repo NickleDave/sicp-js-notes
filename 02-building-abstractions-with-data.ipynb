{
 "cells": [
  {
   "cell_type": "markdown",
   "id": "1b9754fc-7299-4b53-ba99-eb242952f9ca",
   "metadata": {},
   "source": [
    "# Building Abstractions with Data\n",
    "\n",
    "In this chapter we are going to look at more complex data. Thus we turn to another key aspect of any programming language: the means it provides for building abstractions by combining data objects to form *compound data*.\n",
    "\n",
    "Why do we want compound data? The same reason we want compound functions: to elevate the conceptual level at which we can design our programs, to increase the modulatiry of our designs, and to enhance the expressive power of our language. The ability to construct compound data enables us to deal with data at a higher conceptual level than that of the primitive data objects of the language.\n",
    "\n",
    "Consider a program that performs arithmetic with rational numbers. We can imagine an operation `add_rat` that takes two rational numbers and produces their sum. In terms of primitive data, a rational number can be thought of as two integers: a numerator and a denominator. Thus, we could design a program in which each rational number would be represented by two integers (a numerator and a denominator) and where `add_rat` would be implemented by two functions (one producing the numerator of the sum and one producing the denominator). But this would be awkward, because we would then need to explicitly keep track of which numerators corresponded to which denominators. In a system intended to perform many operations on many rational numbers, such bookkeeping details would clutter the programs substantially, to say nothing of what they would do to our minds. It would be much better if we could “glue together” a numerator and denominator to form a pair--a *compound data object*--that our programs could manipulate in a way that would be consistent with regarding a rational number as a single conceptual unit.\n",
    "\n",
    "Use of compound data also enables us to increase the modularity of our programs. If we can manipulate rational numbers directly as objects in their own right, then we can separate the part of our program that deals with rational numbers per se from the details of how rational numbers may be represented as pairs of integers. The general technique of isolating the parts of a program that deal with how data objects are represented from the parts of a program that deal with how data objects are used is a powerful design methodology called *data abstraction*. We will see how data abstraction makes programs much easier to design, maintain, and modify.\n",
    "\n",
    "The use of compound data also leads to a real increase in the expressive power of our programming language. Consider the idea of forming a \"linear combination\", $ax + by$. We might like to write a function that would accept $a$, $b$, $x$, and $$ as arguments and return the value of $ax + by$. This presents no difficulty if the argumetns are to be numbers, because we can readily declare the function\n",
    "\n",
    "```javascript\n",
    "function linear_combination(a, b, x, y) {\n",
    "    return a * x + b * y;\n",
    "}\n",
    "```\n",
    "\n",
    "But suppose we are not concerned only with numbers. Suppose we would like to describe a process that forms linear combinations whenever addition and multiplication are defined—for rational numbers, complex numbers, polynomials, or whatever. We could express this as a function of the form\n",
    "\n",
    "```javascript\n",
    "function linear_combination(a, b, x, y) {\n",
    "    return add(mul(a, x), mul(b, y));\n",
    "}\n",
    "```\n",
    "\n",
    "where `add` and `mul` are not the primitive functions `+` and `*` but rather more complex things that will perform the appropriate operations for whatever kinds of data we pass in as the arguments `a`, `b`, `x`, and `y`. The key point is that the only thing `linear_combination` should need to know about `a`, `b`, `x`, and `y` is that the functions `add` and `mul` will perform the appropriate manipulations. From the perspective of the function `linear_combination`, it is irrelevant what `a`, `b`, `x`, and `y` are and even more irrelevant how they might happen to be represented in terms of more primitive data. This same example shows why it is important that our programming language provide the ability to manipulate compound objects directly: Without this, there is no way for a function such as `linear_combination` to pass its arguments along to `add` and `mul` without having to know their detailed structure.\n",
    "\n",
    "We begin this chapter by implementing the rational-number arithmetic system described above. The main issue to be addressed is that of abstraction as a technique for coping with complexity, and we will see how data abstraction enables us to erect suitable *abstraction barriers* between different parts of a program.\n",
    "\n",
    "We will see that the key to forming compound data is that a programming language should provide some kind of “glue” so that data objects can be combined to form more complex data objects. There are many possible kinds of glue. Indeed, we will discover how to form compound data using no special “data” operations at all, only functions. This will further blur the distinction between “function” and “data,” which was already becoming tenuous toward the end of chapter 1. One key idea in dealing with compound data is the notion of *closure*—that the glue we use for combining data objects should allow us to combine not only primitive data objects, but compound data objects as well. Another key idea is that compound data objects can serve as *conventional interfaces* for combining program modules in mix-and-match ways. We illustrate some of these ideas by presenting a simple graphics language that exploits closure.\n",
    "\n",
    "We will then augment the representational power of our language by introducing *symbolic expressions*—data whose elementary parts can be arbitrary symbols rather than only numbers.\n",
    "\n",
    "Next we will take up the problem of working with data that may be represented differently by different parts of a program. This leads to the need to implement *generic operations*, which must handle many different types of data. Maintaining modularity in the presence of generic operations requires more powerful abstraction barriers than can be erected with simple data abstraction alone. In particular, we introduce *data-directed programming* as a technique that allows individual data representations to be designed in isolation and then combined *additively* (i.e., without modification)."
   ]
  },
  {
   "cell_type": "markdown",
   "id": "28b551fb-0ab4-411d-94b8-6414e904190d",
   "metadata": {},
   "source": [
    "## 2.1 Introduction to Data Abstraction\n",
    "\n",
    "In section 1.1.8, we noted that a function used as an element in creating a more complex function could be regarded not only as a collection of particular operations but also as a functional abstraction. The analogous notion for compound data is called *data abstraction*. Data abstraction is a methodology that enables us to isolate how a compound data object is used from the details of how it is constructed from more primitive data objects.\n",
    "\n",
    "The basic idea of data abstraction is to structure the programs that are to use compound data objects so that they operate on “abstract data.” That is, our programs should use data in such a way as to make no assumptions about the data that are not strictly necessary for performing the task at hand. At the same time, a “concrete” data representation is defined independent of the programs that use the data. The interface between these two parts of our system will be a set of functions, called *selectors* and *constructors*, that implement the abstract data in terms of the concrete representation. To illustrate this technique, we will consider how to design a set of functions for manipulating rational numbers."
   ]
  },
  {
   "cell_type": "markdown",
   "id": "a236d566-d546-4ebf-9a9b-a8bdd4234d80",
   "metadata": {},
   "source": [
    "### 2.1.1 Example: Arithmetic Operations for Rational Numbers\n",
    "\n",
    "Suppose we want to do arithmetic with rational numbers. We want to be able to add, subtract, multiply, and divide them and to test whether two rational numbers are equal.\n",
    "\n",
    "Let us begin by assuming that we already have a way of constructing a rational number from a numerator and a denominator. We also assume that, given a rational number, we have a way of extracting (or selecting) its numerator and its denominator. Let us further assume that the constructor and selectors are available as functions:\n",
    "\n",
    "- `make_rat(n, d)` returns the rational number whose numerator is the integer $n$ and whose denominator is the integer $d$.\n",
    "- `numer(x)` returns the numerator of the rational number $x$.\n",
    "- `denom(x)` returns the denominator of the rational number $x$.\n",
    "\n",
    "We are using here a powerful strategy of synthesis: *wishful thinking*. We haven’t yet said how a rational number is represented, or how the functions `numer`, `denom`, and `make_rat` should be implemented. Even so, if we did have these three functions, we could then add, subtract, multiply, divide, and test equality by using the following relations:\n",
    "\n",
    "$$\n",
    "\\begin{align}\n",
    "\\frac{n_1}{d_1} + \\frac{n_2}{d_2} &= \\frac{n_1 d_2 + n_2 d_1}{d_1 d_2} \\\\\n",
    "\\frac{n_1}{d_1} - \\frac{n_2}{d_2} &= \\frac{n_1 d_2 - n_2 d_1}{d_1 d_2} \\\\\n",
    "\\frac{n_1}{d_1} \\cdot \\frac{n_2}{d_2} &= \\frac{n_1 n_2}{d_1 d_2} \\\\\n",
    "\\frac{n_1 / d_1}{n_2 / d_2} &= \\frac{n_1 d_2}{d_1 n_2} \\\\\n",
    "\\frac{n_1}{d_1} &= \\frac{n_2}{d_2} \\text{ if and only if } n_1 d_2 = n_2 d_1\n",
    "\\end{align}\n",
    "$$\n",
    "\n",
    "We can express these rules as functions:"
   ]
  },
  {
   "cell_type": "code",
   "execution_count": 40,
   "id": "4af35212-c809-4cb4-bf87-740683fe6618",
   "metadata": {},
   "outputs": [],
   "source": [
    "function add_rat(x, y) {\n",
    "    return make_rat(numer(x) * denom(y) + numer(y) * denom(x), denom(x) * denom(y));\n",
    "}"
   ]
  },
  {
   "cell_type": "code",
   "execution_count": 41,
   "id": "4fe825fb-e2ee-4466-98d0-d0eb58d6d8ae",
   "metadata": {},
   "outputs": [],
   "source": [
    "function sub_rat(x, y) {\n",
    "    return make_rat(numer(x) * denom(y) - numer(y) * denom(x), denom(x) * denom(y)); \n",
    "}"
   ]
  },
  {
   "cell_type": "code",
   "execution_count": 42,
   "id": "e1832b19-e7da-466b-a605-1236070f0dd3",
   "metadata": {},
   "outputs": [],
   "source": [
    "function mul_rat(x, y) {\n",
    "    return make_rat(numer(x) * numer(y), denom(x) * denom(y)); \n",
    "}\n"
   ]
  },
  {
   "cell_type": "code",
   "execution_count": 43,
   "id": "64273ac9-3a2d-44c6-98f3-ad0a431b23be",
   "metadata": {},
   "outputs": [],
   "source": [
    "function div_rat(x, y) {\n",
    "    return make_rat(numer(x) * denom(y), denom(x) * numer(y)); \n",
    "} "
   ]
  },
  {
   "cell_type": "code",
   "execution_count": 44,
   "id": "cb0ddc4f-cf64-414e-842b-b0eaaa6b3624",
   "metadata": {},
   "outputs": [],
   "source": [
    "function equal_rat(x, y) {\n",
    "    return numer(x) * denom(y) === numer(y) * denom(x);\n",
    "}"
   ]
  },
  {
   "cell_type": "markdown",
   "id": "b830b0d2-790a-44c1-9179-4c546eea0838",
   "metadata": {},
   "source": [
    "Now we have the operations on rational numbers defined in terms of the selector and constructor functions `numer`, `denom`, and `make_rat`. But we haven’t yet defined these. What we need is some way to glue together a numerator and a denominator to form a rational number."
   ]
  },
  {
   "cell_type": "markdown",
   "id": "bf8706f8-fe78-466d-9c40-49fae8dedd61",
   "metadata": {},
   "source": [
    "#### Pairs"
   ]
  },
  {
   "cell_type": "markdown",
   "id": "c380a9be-3260-49fc-8519-4bb3fc2205ae",
   "metadata": {},
   "source": [
    "To enable us to implement the concrete level of our data abstraction, we define a compound structure called a *pair*, which can be constructed with a function `pair`. This function takes two arguments and returns a compound data object (an array) that contains the two arguments as parts."
   ]
  },
  {
   "cell_type": "code",
   "execution_count": 2,
   "id": "37fef0e9-5cf4-4223-b06c-1172e4a9aed9",
   "metadata": {},
   "outputs": [],
   "source": [
    "function pair(x, xs){\n",
    "  return [x, xs]\n",
    "}"
   ]
  },
  {
   "cell_type": "markdown",
   "id": "3d1d38f0-bcaf-4a22-9ba4-4f228d1fa2fb",
   "metadata": {},
   "source": [
    "Given a pair, we can extract the parts using the primitive functions `head` and `tail`."
   ]
  },
  {
   "cell_type": "code",
   "execution_count": 4,
   "id": "fc0241b7-dc15-47c9-ab4f-c8a61897cf9e",
   "metadata": {},
   "outputs": [],
   "source": [
    "function array_test(x) {\n",
    "  if (Array.isArray === undefined) {\n",
    "    return x instanceof Array\n",
    "  } else {\n",
    "    return Array.isArray(x)\n",
    "  }\n",
    "}"
   ]
  },
  {
   "cell_type": "code",
   "execution_count": 3,
   "id": "e1d75d18-77a4-441f-92db-38bbad727e39",
   "metadata": {},
   "outputs": [],
   "source": [
    "// is_pair returns true iff arg is a two-element array\n",
    "function is_pair(x){\n",
    "  return array_test(x) && x.length === 2\n",
    "}"
   ]
  },
  {
   "cell_type": "code",
   "execution_count": 9,
   "id": "f24d091a-0546-4172-92fe-d9a5e519248b",
   "metadata": {},
   "outputs": [],
   "source": [
    "// head returns the first component of the given pair,\n",
    "// throws an exception if the argument is not a pair\n",
    "function head(xs) {\n",
    "  if (is_pair(xs)) {\n",
    "    return xs[0]\n",
    "  } else {\n",
    "    throw new Error('head(xs) expects a pair as argument xs, but encountered ' + stringify(xs))\n",
    "  }\n",
    "}"
   ]
  },
  {
   "cell_type": "code",
   "execution_count": null,
   "id": "090a8030-237d-4234-b12a-2909935a9803",
   "metadata": {},
   "outputs": [],
   "source": [
    "// tail returns the second component of the given pair\n",
    "// throws an exception if the argument is not a pair\n",
    "function tail(xs) {\n",
    "  if (is_pair(xs)) {\n",
    "    return xs[1]\n",
    "  } else {\n",
    "    throw new Error('tail(xs) expects a pair as argument xs, but encountered ' + stringify(xs))\n",
    "  }\n",
    "}"
   ]
  },
  {
   "cell_type": "markdown",
   "id": "a265ae45-bf0a-4fe9-b068-10d680fbf76b",
   "metadata": {},
   "source": [
    "Thus, we can use pair, head, and tail as follows:"
   ]
  },
  {
   "cell_type": "code",
   "execution_count": 12,
   "id": "3257b4dc-01ec-4195-9f81-2e617cfe5d3f",
   "metadata": {},
   "outputs": [],
   "source": [
    "const x = pair(1, 2);"
   ]
  },
  {
   "cell_type": "code",
   "execution_count": 13,
   "id": "c21cc149-85b5-4eac-a044-b453412f3988",
   "metadata": {},
   "outputs": [
    {
     "data": {
      "text/plain": [
       "\u001b[33m1\u001b[39m"
      ]
     },
     "execution_count": 13,
     "metadata": {},
     "output_type": "execute_result"
    }
   ],
   "source": [
    "head(x);"
   ]
  },
  {
   "cell_type": "code",
   "execution_count": 14,
   "id": "cf90b41f-6347-47f9-8e49-371dc477d9df",
   "metadata": {},
   "outputs": [
    {
     "data": {
      "text/plain": [
       "\u001b[33m2\u001b[39m"
      ]
     },
     "execution_count": 14,
     "metadata": {},
     "output_type": "execute_result"
    }
   ],
   "source": [
    "tail(x);"
   ]
  },
  {
   "cell_type": "markdown",
   "id": "32995cc7-0d40-489f-92ae-6cd71ba62d52",
   "metadata": {},
   "source": [
    "Notice that a pair is a data object that can be given a name and manipulated, just like a primitive data object. Moreover, `pair` can be used to form pairs whose elements are pairs, and so on:"
   ]
  },
  {
   "cell_type": "code",
   "execution_count": 15,
   "id": "d969bab9-418b-4a23-84ef-7477c9b8266a",
   "metadata": {},
   "outputs": [],
   "source": [
    "const x = pair(1, 2);"
   ]
  },
  {
   "cell_type": "code",
   "execution_count": 16,
   "id": "12bb91ef-35ba-4e79-9826-27d2a64bd376",
   "metadata": {},
   "outputs": [],
   "source": [
    "const y = pair(3, 4);"
   ]
  },
  {
   "cell_type": "code",
   "execution_count": 17,
   "id": "6e62e410-877c-434b-8bb6-27880342d2d5",
   "metadata": {},
   "outputs": [],
   "source": [
    "const z = pair(x, y);"
   ]
  },
  {
   "cell_type": "code",
   "execution_count": 18,
   "id": "a16fa064-6a78-4bb3-9cf5-cfc6280bd849",
   "metadata": {},
   "outputs": [
    {
     "data": {
      "text/plain": [
       "\u001b[33m1\u001b[39m"
      ]
     },
     "execution_count": 18,
     "metadata": {},
     "output_type": "execute_result"
    }
   ],
   "source": [
    "head(head(z));"
   ]
  },
  {
   "cell_type": "code",
   "execution_count": 19,
   "id": "f04cae75-9444-4cd7-8265-252401bddf58",
   "metadata": {},
   "outputs": [
    {
     "data": {
      "text/plain": [
       "\u001b[33m3\u001b[39m"
      ]
     },
     "execution_count": 19,
     "metadata": {},
     "output_type": "execute_result"
    }
   ],
   "source": [
    "head(tail(z));"
   ]
  },
  {
   "cell_type": "markdown",
   "id": "cdccd702-0f10-4546-ac23-9cb31f42a9e2",
   "metadata": {},
   "source": [
    "In section 2.2 we will see how this ability to combine pairs means that pairs can be used as general-purpose building blocks to create all sorts of complex data structures. The single compound-data primitive *pair*, implemented by the functions `pair`, `head`, and `tail`, is the only glue we need. Data objects constructed from pairs are called *list-structured* data."
   ]
  },
  {
   "cell_type": "markdown",
   "id": "adb9b82d-2a0e-497a-9ebd-55037e3715b3",
   "metadata": {},
   "source": [
    "#### Representing rational numbers\n",
    "\n",
    "Pairs offer a natural way to complete the rational-number system. Simply represent a rational number as a pair of two integers: a numerator and a denominator. Then `make_rat`, `numer`, and `denom` are readily implemented as follows:"
   ]
  },
  {
   "cell_type": "code",
   "execution_count": 20,
   "id": "20072dbf-c0cc-4943-ae8d-23848f42cd1f",
   "metadata": {},
   "outputs": [],
   "source": [
    "function make_rat(n, d) { return pair(n, d); }\n",
    "function numer(x) { return head(x); }\n",
    "function denom(x) { return tail(x); }"
   ]
  },
  {
   "cell_type": "markdown",
   "id": "9ea9fd76-27ad-45c3-8712-99c3dd78b962",
   "metadata": {},
   "source": [
    "Another way to define the selectors and constructor would be\n",
    "\n",
    "```javascript\n",
    "const make_rat = pair;\n",
    "const numer = head;\n",
    "const denom = tail;\n",
    "````\n",
    "    \n",
    "The first definition associates the name `make_rat` with the value of the expression `pair`, which is the primitive function that constructs pairs. Thus `make_rat` and `pair` are names for the same primitive constructor.\n",
    "\n",
    "Defining selectors and constructors in this way is efficient: Instead of `make_rat` calling `pair`, `make_rat` *is* `pair`, so there is only one function called, not two, when `make_rat` is called. On the other hand, doing this defeats debugging aids that trace function calls or put breakpoints on function calls: You may want to watch `make_rat` being called, but you certainly don’t want to watch every call to `pair`.\n",
    "\n",
    "We have chosen not to use this style of definition in this book."
   ]
  },
  {
   "cell_type": "markdown",
   "id": "73012739-4660-44b3-b542-eeb24c23dc3e",
   "metadata": {},
   "source": [
    "Also, in order to display the results of our computations, we can print rational numbers by printing the numerator, a slash, and the denominator. We can use the primitive function `stringify` to turn any value (here a number) into a string. To combine the numbers that we `stringify`, we can use the operator `+` in JavaScript, that is *overloaded*; it can be applied to two numbers or to two strings, and in the latter case it returns the result of *concatenating* the two strings."
   ]
  },
  {
   "cell_type": "code",
   "execution_count": 34,
   "id": "a469914a-6d53-4f24-a78c-4a57a5e92610",
   "metadata": {},
   "outputs": [],
   "source": [
    "function print_rat(x) {\n",
    "    return JSON.stringify(numer(x)) + \" / \" + JSON.stringify(denom(x));\n",
    "}"
   ]
  },
  {
   "cell_type": "markdown",
   "id": "a29d700e-673d-4a24-8be4-a9e631d10545",
   "metadata": {},
   "source": [
    "How we can try our rational-number functions:"
   ]
  },
  {
   "cell_type": "code",
   "execution_count": 36,
   "id": "3bdb3883-d5ca-46b7-9f73-174e5a0438a1",
   "metadata": {},
   "outputs": [],
   "source": [
    "const one_half = make_rat(1, 2);"
   ]
  },
  {
   "cell_type": "code",
   "execution_count": 37,
   "id": "02e58de2-4b75-42a5-a003-1078caf36c97",
   "metadata": {},
   "outputs": [
    {
     "data": {
      "text/plain": [
       "\u001b[32m\"1 / 2\"\u001b[39m"
      ]
     },
     "execution_count": 37,
     "metadata": {},
     "output_type": "execute_result"
    }
   ],
   "source": [
    "print_rat(one_half);"
   ]
  },
  {
   "cell_type": "code",
   "execution_count": 38,
   "id": "eef842d1-83ca-4300-9746-6c84e12c66c9",
   "metadata": {},
   "outputs": [],
   "source": [
    "const one_third = make_rat(1, 3);"
   ]
  },
  {
   "cell_type": "code",
   "execution_count": 45,
   "id": "840e9eb6-1871-4ce0-87ba-14f7c8ee8734",
   "metadata": {},
   "outputs": [
    {
     "data": {
      "text/plain": [
       "\u001b[32m\"5 / 6\"\u001b[39m"
      ]
     },
     "execution_count": 45,
     "metadata": {},
     "output_type": "execute_result"
    }
   ],
   "source": [
    "print_rat(add_rat(one_half, one_third));"
   ]
  },
  {
   "cell_type": "code",
   "execution_count": 47,
   "id": "12f10afa-f9e7-4488-a652-7474f38544b2",
   "metadata": {},
   "outputs": [
    {
     "data": {
      "text/plain": [
       "\u001b[32m\"1 / 6\"\u001b[39m"
      ]
     },
     "execution_count": 47,
     "metadata": {},
     "output_type": "execute_result"
    }
   ],
   "source": [
    "print_rat(mul_rat(one_half, one_third));"
   ]
  },
  {
   "cell_type": "code",
   "execution_count": 48,
   "id": "a8716859-2bbe-45c9-b6ad-200a4730d974",
   "metadata": {},
   "outputs": [
    {
     "data": {
      "text/plain": [
       "\u001b[32m\"6 / 9\"\u001b[39m"
      ]
     },
     "execution_count": 48,
     "metadata": {},
     "output_type": "execute_result"
    }
   ],
   "source": [
    "print_rat(add_rat(one_third, one_third));"
   ]
  },
  {
   "cell_type": "markdown",
   "id": "bbba83aa-46df-412b-91ae-db03789fec10",
   "metadata": {},
   "source": [
    "As the final example shows, our rational-number implementation does not reduce rational numbers to lowest terms. We can remedy this by changing `make_rat`. If we have a `gcd` function like the one in section 1.2.5 that produces the greatest common divisor of two integers, we can use `gcd` to reduce the numerator and the denominator to lowest terms before constructing the pair:"
   ]
  },
  {
   "cell_type": "code",
   "execution_count": 49,
   "id": "29799fc3-6e0e-4c22-a574-21df0d021c27",
   "metadata": {},
   "outputs": [],
   "source": [
    "function gcd(a, b) {\n",
    "    return b === 0 ? a : gcd(b, a % b); \n",
    "}"
   ]
  },
  {
   "cell_type": "code",
   "execution_count": 50,
   "id": "d37bb3a8-be66-4486-aa57-07731150dc3e",
   "metadata": {},
   "outputs": [],
   "source": [
    "function make_rat(n, d) {\n",
    "    const g = gcd(n, d);\n",
    "    return pair(n / g, d / g);\n",
    "}"
   ]
  },
  {
   "cell_type": "markdown",
   "id": "28b8b061-9b55-4efc-904c-1f5410685d92",
   "metadata": {},
   "source": [
    "Now we have"
   ]
  },
  {
   "cell_type": "code",
   "execution_count": 51,
   "id": "265c0c76-12d8-4648-9e5c-225fd3e6b214",
   "metadata": {},
   "outputs": [
    {
     "data": {
      "text/plain": [
       "\u001b[32m\"2 / 3\"\u001b[39m"
      ]
     },
     "execution_count": 51,
     "metadata": {},
     "output_type": "execute_result"
    }
   ],
   "source": [
    "print_rat(add_rat(one_third, one_third));"
   ]
  },
  {
   "cell_type": "markdown",
   "id": "2d69b52a-aa23-40e0-b8db-e275acfd6626",
   "metadata": {},
   "source": [
    "as desired. This modification was accomplished by changing the constructor `make_rat` without changing any of the functions (such as `add_rat` and `mul_rat`) that implement the actual operations."
   ]
  },
  {
   "cell_type": "markdown",
   "id": "8da36edf-c731-49ea-a060-ed63bd9ce705",
   "metadata": {},
   "source": [
    "#### Exercise 2.1\n",
    "\n",
    "Define a better version of `make_rat` that handles both positive and negative arguments. The function `make_rat` should normalize the sign so that if the rational number is positive, both the numerator and denominator are positive, and if the rational number is negative, only the numerator is negative."
   ]
  },
  {
   "cell_type": "code",
   "execution_count": null,
   "id": "b24356ac-4e2b-4d2b-9486-d261cf5a12bb",
   "metadata": {},
   "outputs": [],
   "source": [
    "function make_rat(n, d) {\n",
    "    const g = gcd(n, d);\n",
    "    return pair(n / g, d / g);\n",
    "}"
   ]
  },
  {
   "cell_type": "code",
   "execution_count": 52,
   "id": "3a03d4e8-a494-4c02-a637-cc360d6626b5",
   "metadata": {},
   "outputs": [
    {
     "data": {
      "text/plain": [
       "\u001b[33m-2\u001b[39m"
      ]
     },
     "execution_count": 52,
     "metadata": {},
     "output_type": "execute_result"
    }
   ],
   "source": [
    "gcd(-2, -4);"
   ]
  },
  {
   "cell_type": "code",
   "execution_count": 53,
   "id": "9a2404a5-14d3-47c8-85e3-7ce173136892",
   "metadata": {},
   "outputs": [
    {
     "data": {
      "text/plain": [
       "\u001b[33m-2\u001b[39m"
      ]
     },
     "execution_count": 53,
     "metadata": {},
     "output_type": "execute_result"
    }
   ],
   "source": [
    "-2 % -4"
   ]
  },
  {
   "cell_type": "code",
   "execution_count": 57,
   "id": "9b4422a7-5aba-490e-8919-b99947192e06",
   "metadata": {},
   "outputs": [
    {
     "data": {
      "text/plain": [
       "\u001b[33m0.5\u001b[39m"
      ]
     },
     "execution_count": 57,
     "metadata": {},
     "output_type": "execute_result"
    }
   ],
   "source": [
    "-2 / -4"
   ]
  },
  {
   "cell_type": "markdown",
   "id": "c5a62696-910e-4365-ad1f-0d5d370f0fea",
   "metadata": {},
   "source": [
    "### 2.1.2 Abstraction Barriers\n",
    "\n",
    "Before continuing with more examples of compound data and data abstraction, let us consider some of the issues raised by the rational-number example. We defined the rational-number operations in terms of a constructor `make_rat` and selectors `numer` and `denom`. **In general, the underlying idea of data abstraction is to identify for each type of data object a basic set of operations in terms of which all manipulations of data objects of that type will be expressed, and then to use only those operations in manipulating the data.**\n",
    "\n",
    "![fig 2.1](./figs/fig2.1.png)\n",
    "\n",
    "We can envision the structure of the rational-number system as shown in figure 2.1. **The horizontal lines represent *abstraction barriers* that isolate different “levels” of the system. At each level, the barrier separates the programs (above) that use the data abstraction from the programs (below) that implement the data abstraction.** Programs that use rational numbers manipulate them solely in terms of the functions supplied “for public use” by the rational-number package: `add_rat`, `sub_rat`, `mul_rat`, `div_rat`, and `equal_rat`. These, in turn, are implemented solely in terms of the constructor and selectors `make_rat`, `numer`, and `denom`, which themselves are implemented in terms of pairs. The details of how pairs are implemented are irrelevant to the rest of the rational-number package so long as pairs can be manipulated by the use of `pair`, `head`, and `tail`. **In effect, functions at each level are the interfaces that define the abstraction barriers and connect the different levels.**\n",
    "\n",
    "This simple idea has many advantages. One advantage is that it makes programs much easier to maintain and to modify. Any complex data structure can be represented in a variety of ways with the primitive data structures provided by a programming language. Of course, the choice of representation influences the programs that operate on it; thus, if the representation were to be changed at some later time, all such programs might have to be modified accordingly. This task could be time-consuming and expensive in the case of large programs unless the dependence on the representation were to be confined by design to a very few program modules.\n",
    "\n",
    "For example, an alternate way to address the problem of reducing rational numbers to lowest terms is to perform the reduction whenever we access the parts of a rational number, rather than when we construct it. This leads to different constructor and selector functions:\n",
    "\n",
    "```javascript\n",
    "function make_rat(n, d) {\n",
    "    return pair(n, d);\n",
    "}\n",
    "function numer(x) {\n",
    "    const g = gcd(head(x), tail(x));\n",
    "    return head(x) / g;\n",
    "}\n",
    "function denom(x) {\n",
    "    const g = gcd(head(x), tail(x));\n",
    "    return tail(x) / g;\n",
    "}\n",
    "```\n",
    "\n",
    "The difference between this implementation and the previous one lies in when we compute the `gcd`. If in our typical use of rational numbers we access the numerators and denominators of the same rational numbers many times, it would be preferable to compute the `gcd` when the rational numbers are constructed. If not, we may be better off waiting until access time to compute the `gcd`. In any case, when we change from one representation to the other, the functions `add_rat`, `sub_rat`, and so on do not have to be modified at all."
   ]
  },
  {
   "cell_type": "markdown",
   "id": "1632870a-6377-4665-b918-5fe329aca13b",
   "metadata": {},
   "source": [
    "#### Exercise 2.2\n",
    "\n",
    "Consider the problem of representing line segments in a plane. Each segment is represented as a pair of points: a starting point and an ending point. Declare a constructor `make_segment` and selectors `start_segment` and `end_segment` that define the representation of segments in terms of points. Furthermore, a point can be represented as a pair of numbers: the $x$ coordinate and the $y$ coordinate. Accordingly, specify a constructor `make_point` and selectors `x_point` and `y_point` that define this representation. Finally, using your selectors and constructors, declare a function `midpoint_segment` that takes a line segment as argument and returns its midpoint (the point whose coordinates are the average of the coordinates of the endpoints). To try your functions, you’ll need a way to print points:"
   ]
  },
  {
   "cell_type": "code",
   "execution_count": 58,
   "id": "9b3de7a2-6e43-4880-b1aa-8ba83bb90aa3",
   "metadata": {},
   "outputs": [],
   "source": [
    "function make_point(x, y) {\n",
    "    return pair(x, y);\n",
    "}"
   ]
  },
  {
   "cell_type": "code",
   "execution_count": 59,
   "id": "4d8d8865-6f65-40df-ae30-c5fa7717b3a7",
   "metadata": {},
   "outputs": [],
   "source": [
    "function x_point(point) {\n",
    "    return head(point);\n",
    "}"
   ]
  },
  {
   "cell_type": "code",
   "execution_count": 60,
   "id": "a57ceee8-7751-4bb2-8e8b-5430ce0e4e37",
   "metadata": {},
   "outputs": [],
   "source": [
    "function y_point(point) {\n",
    "    return tail(point);\n",
    "}"
   ]
  },
  {
   "cell_type": "code",
   "execution_count": 61,
   "id": "e83b376d-59a5-4e8d-b062-4d638edb9ac7",
   "metadata": {},
   "outputs": [],
   "source": [
    "function make_segment(start_point, end_point) {\n",
    "    return pair(start_point, end_point);\n",
    "}"
   ]
  },
  {
   "cell_type": "code",
   "execution_count": 62,
   "id": "893b61d7-33a4-4698-8725-5f233df956ca",
   "metadata": {},
   "outputs": [],
   "source": [
    "function start_segment(segment) {\n",
    "    return head(segment);\n",
    "}"
   ]
  },
  {
   "cell_type": "code",
   "execution_count": 63,
   "id": "a0834f76-4743-4423-a368-fe3fe8f3f5f5",
   "metadata": {},
   "outputs": [],
   "source": [
    "function end_segment(segment) {\n",
    "    return tail(segment);\n",
    "}"
   ]
  },
  {
   "cell_type": "code",
   "execution_count": null,
   "id": "a27c8164-ba5c-40f3-9ad3-b0e9c22669da",
   "metadata": {},
   "outputs": [],
   "source": [
    "function print_point(p) {\n",
    "    return display(\"(\" + JSON.stringify(x_point(p)) + \", \" + JSON.stringify(y_point(p)) + \")\"); \n",
    "}"
   ]
  },
  {
   "cell_type": "code",
   "execution_count": null,
   "id": "722b1cb0-449a-4c8f-8e01-13c2923d2fae",
   "metadata": {},
   "outputs": [],
   "source": [
    "function midpoint_segment(segment) {\n",
    "    return point(\n",
    "        (x_point(start_segment(segment)) + x_point(end_segment(segment))) / 2\n",
    "        (y_point(start_segment(segment)) + y_point(end_segment(segment))) / 2\n",
    "    );\n",
    "}"
   ]
  }
 ],
 "metadata": {
  "kernelspec": {
   "display_name": "Deno",
   "language": "typescript",
   "name": "deno"
  },
  "language_info": {
   "codemirror_mode": "typescript",
   "file_extension": ".ts",
   "mimetype": "text/x.typescript",
   "name": "typescript",
   "nbconvert_exporter": "script",
   "pygments_lexer": "typescript",
   "version": "5.6.2"
  }
 },
 "nbformat": 4,
 "nbformat_minor": 5
}
