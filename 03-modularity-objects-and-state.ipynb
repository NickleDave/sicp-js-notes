{
 "cells": [
  {
   "cell_type": "markdown",
   "id": "2d3f930e-6fe6-417c-b842-bfb6e7a54d5e",
   "metadata": {},
   "source": [
    "# Modularity, Objects, and State\n",
    "\n",
    "The preceding chapters introduced the basic elements from which programs are made. We saw how primitive functions and primitive data are combined to construct compound entities, and we learned that abstraction is vital in helping us to cope with the complexity of large systems. But these tools are not sufficient for designing programs. Effective program synthesis also requires organizational principles that can guide us in formulating the overall design of a program. **In particular, we need strategies to help us structure large systems so that they will be *modular*, that is, so that they can be divided “naturally” into coherent parts that can be separately developed and maintained.**\n",
    "\n",
    "**One powerful design strategy, which is particularly appropriate to the construction of programs for modeling physical systems, is to base the structure of our programs on the structure of the system being modeled. For each object in the system, we construct a corresponding computational object.** For each system action, we define a symbolic operation in our computational model. Our hope in using this strategy is that extending the model to accommodate new objects or new actions will require no strategic changes to the program, only the addition of the new symbolic analogs of those objects or actions. If we have been successful in our system organization, then to add a new feature or debug an old one we will have to work on only a localized part of the system.\n",
    "\n",
    "To a large extent, then, the way we organize a large program is dictated by our perception of the system to be modeled. **In this chapter we will investigate two prominent organizational strategies arising from two rather different “world views” of the structure of systems.** The first organizational strategy concentrates on *objects*, viewing a large system as a collection of distinct objects whose behaviors may change over time. An alternative organizational strategy concentrates on the *streams* of information that flow in the system, much as an electrical engineer views a signal-processing system.\n",
    "\n",
    "Both the object-based approach and the stream-processing approach raise significant linguistic issues in programming. With objects, we must be concerned with how a computational object can change and yet maintain its identity. This will force us to abandon our old substitution model of computation (section 1.1.5) in favor of a more mechanistic but less theoretically tractable *environment model* of computation. The difficulties of dealing with objects, change, and identity are a fundamental consequence of the need to grapple with time in our computational models. These difficulties become even greater when we allow the possibility of concurrent execution of programs. The stream approach can be most fully exploited when we decouple simulated time in our model from the order of the events that take place in the computer during evaluation. We will accomplish this using a technique known as *delayed evaluation*."
   ]
  },
  {
   "cell_type": "markdown",
   "id": "e2353525-6bc1-49d3-8dbd-8996f16000a1",
   "metadata": {},
   "source": [
    "## 3.1 Assignment and Local State\n",
    "\n",
    "We ordinarily view the world as populated by independent objects, each of which has a state that changes over time. An object is said to “have state” if its behavior is influenced by its history. A bank account, for example, has state in that the answer to the question “Can I withdraw $100?” depends upon the history of deposit and withdrawal transactions. **We can characterize an object’s state by one or more *state variables*, which among them maintain enough information about history to determine the object’s current behavior.** In a simple banking system, we could characterize the state of an account by a current balance rather than by remembering the entire history of account transactions.\n",
    "\n",
    "In a system composed of many objects, the objects are rarely completely independent. Each may influence the states of others through interactions, which serve to couple the state variables of one object to those of other objects. Indeed, the view that a system is composed of separate objects is most useful when the state variables of the system can be grouped into closely coupled subsystems that are only loosely coupled to other subsystems.\n",
    "\n",
    "This view of a system can be a powerful framework for organizing computational models of the system. For such a model to be modular, it should be decomposed into computational objects that model the actual objects in the system. Each computational object must have its own *local state variables* describing the actual object’s state. Since the states of objects in the system being modeled change over time, the state variables of the corresponding computational objects must also change. If we choose to model the flow of time in the system by the elapsed time in the computer, then we must have a way to construct computational objects whose behaviors change as our programs run. In particular, **if we wish to model state variables by ordinary symbolic names in the programming language, then the language must provide an *assignment operation* to enable us to change the value associated with a name.**"
   ]
  },
  {
   "cell_type": "markdown",
   "id": "54d24609-b74b-4030-bee0-e0751c8ff4aa",
   "metadata": {},
   "source": [
    "### 3.1.1 Local State Variables\n",
    "\n",
    "To illustrate what we mean by having a computational object with time-varying state, let us model the situation of withdrawing money from a bank account. We will do this using a function `withdraw`, which takes as argument an amount to be withdrawn. If there is enough money in the account to accommodate the withdrawal, then `withdraw` should return the balance remaining after the withdrawal. Otherwise, `withdraw` should return the message Insufficient funds. For example, if we begin with $100 in the account, we should obtain the following sequence of responses using `withdraw`:\n",
    "\n",
    "```javascript\n",
    "withdraw(25);\n",
    "75\n",
    "\n",
    "withdraw(25);\n",
    "50\n",
    "\n",
    "withdraw(60);\n",
    "\"Insufficient funds\"\n",
    "\n",
    "withdraw(15);\n",
    "35\n",
    "```\n",
    "\n",
    "Observe that the expression `withdraw(25)`, evaluated twice, yields different values. This is a new kind of behavior for a function. Until now, all our JavaScript functions could be viewed as specifications for computing mathematical functions. A call to a function computed the value of the function applied to the given arguments, and two calls to the same function with the same arguments always produced the same result.\n",
    "\n",
    "So far, all our names have been *immutable*. When a function was applied, the values that its parameters referred to never changed, and once a declaration was evaluated, the declared name never changed its value. To implement functions like `withdraw`, we introduce *variable declarations*, which use the keyword `let`, in addition to constant declarations, which use the keyword `const`. We can declare a variable `balance` to indicate the balance of money in the account and define `withdraw` as a function that accesses `balance`. The `withdraw` function checks to see if `balance` is at least as large as the requested amount. If so, `withdraw` decrements `balance` by `amount` and returns the new value of `balance`. Otherwise, `withdraw` returns the *Insufficient funds* message. Here are the declarations of `balance` and `withdraw`:"
   ]
  },
  {
   "cell_type": "code",
   "execution_count": 2,
   "id": "00e82dd9-73bb-48a4-8452-c85566398884",
   "metadata": {},
   "outputs": [],
   "source": [
    "let balance = 100;\n",
    "\n",
    "function withdraw(amount) {\n",
    "    if (balance >= amount) {\n",
    "        balance = balance - amount;\n",
    "        return balance;\n",
    "    } else {\n",
    "        return \"Insufficient funds\";\n",
    "    }\n",
    "}"
   ]
  },
  {
   "cell_type": "markdown",
   "id": "abc387bf-8084-491d-9b7d-523aa715f93e",
   "metadata": {},
   "source": [
    "Decrementing `balance` is accomplished by the expression statement\n",
    "\n",
    "```javascript\n",
    "balance = balance - amount;\n",
    "```\n",
    "\n",
    "The syntax of *assignment* expressions is\n",
    "\n",
    "*name* `=` *new-value*\n",
    "\n",
    "Here *name* has been declared with `let` or as a function parameter and *new-value* is any expression. The assignment changes *name* so that its value is the result obtained by evaluating *new-value*. In the case at hand, we are changing `balance` so that its new value will be the result of subtracting `amount` from the previous value of `balance`.\n",
    "\n",
    "The function `withdraw` also uses a *sequence of statements* to cause two statements to be evaluated in the case where the `if` test is true: first decrementing `balance` and then returning the value of `balance`. In general, executing a sequence\n",
    "\n",
    "$$\n",
    "\\textit{stmt}_1 \\text{ } \\textit{stmt}_2 \\text{ } \\dots \\text{ } \\textit{stmt}_n\n",
    "$$\n",
    "\n",
    "causes the statemtents $\\textit{stmt}_1$ through $\\textit{stmt}_n$ to be evaluated in sequence.\n",
    "\n",
    "Although `withdraw` works as desired, the variable `balance` presents a problem. As specified above, `balance` is a name defined in the program environment and is freely accessible to be examined or modified by any function. It would be much better if we could somehow make `balance` internal to `withdraw`, so that `withdraw` would be the only function that could access `balance` directly and any other function could access `balance` only indirectly (through calls to `withdraw`). This would more accurately model the notion that `balance` is a local state variable used by `withdraw` to keep track of the state of the account.\n",
    "\n",
    "We can make `balance` internal to `withdraw` by rewriting the definition as follows:"
   ]
  },
  {
   "cell_type": "code",
   "execution_count": 3,
   "id": "97b9a3f7-c624-4bb0-b609-be466e36f585",
   "metadata": {},
   "outputs": [],
   "source": [
    "function make_withdraw_balance_100() {\n",
    "    let balance = 100;\n",
    "    // anonymous function that accepts the argument `amount`\n",
    "    return amount => {\n",
    "        if (balance >= amount) {\n",
    "            balance = balance - amount;\n",
    "            return balance\n",
    "        } else {\n",
    "            return \"Insufficient funds\";\n",
    "        ;}\n",
    "    };\n",
    "}\n",
    "const new_withdraw = make_withdraw_balance_100();"
   ]
  },
  {
   "cell_type": "markdown",
   "id": "a8f67266-bd9e-40b7-9c8c-83350f37d3ad",
   "metadata": {},
   "source": [
    "What we have done here is use let to establish an environment with a local variable `balance`, bound to the initial value 100. Within this local environment, we use a lambda expression4 to create a function that takes `amount` as an argument and behaves like our previous `withdraw` function. This function—returned as the result of evaluating the body of the `make_withdraw_balance_100` function—behaves in precisely the same way as `withdraw`, but its variable `balance` is not accessible by any other function.\n",
    "\n",
    "> In programming-language jargon, the variable `balance` is said to be *encapsulated* within the `new_withdraw` function. Encapsulation reflects the general system-design principle known as the *hiding principle*: One can make a system more modular and robust by protecting parts of the system from each other; that is, by providing information access only to those parts of the system that have a “need to know.”\n",
    "\n",
    "Combining assignments with variable declarations is the general programming technique we will use for constructing computational objects with local state. Unfortunately, using this technique raises a serious problem: when we first introduced functions, we also introduced the substitution model of evaluation (section 1.1.5) to provide an interpretation of what function application means. We said that applying a function whose body is a return statement should be interpreted as evaluating the return expression of the function with the parameters replaced by their values. For functions with more complex bodies, we need to evaluate the whole body with the parameters replaced by their values. The trouble is that, as soon as we introduce assignment into our language, substitution is no longer an adequate model of function application. (We will see why this is so in section 3.1.3.) As a consequence, we technically have at this point no way to understand why the `new_withdraw` function behaves as claimed above. In order to really understand a function such as `new_withdraw`, we will need to develop a new model of function application. In section 3.2 we will introduce such a model, together with an explanation of assignments and variable declarations. First, however, we examine some variations on the theme established by new_withdraw."
   ]
  },
  {
   "cell_type": "markdown",
   "id": "24bec96e-bcf3-42e6-9144-eb18bc7b8536",
   "metadata": {},
   "source": [
    "Parameters of functions as well as names declared with `let` are variables. The following function, `make_withdraw`, creates “withdrawal processors.” The parameter `balance` in `make_withdraw` specifies the initial amount of money in the account.\n",
    "\n",
    "> In contrast with `make_withdraw_balance_100` above, we do not have to use let to make `balance` a local variable, since parameters are already local. This will be clearer after the discussion of the environment model of evaluation in section 3.2. (See also exercise 3.10.)"
   ]
  },
  {
   "cell_type": "code",
   "execution_count": 4,
   "id": "f9a7c613-f567-45bc-b9c7-1d73dc2a72b6",
   "metadata": {},
   "outputs": [],
   "source": [
    "function make_withdraw(balance) {\n",
    "    return amount => {\n",
    "        if (balance >= amount) {\n",
    "            balance = balance - amount;\n",
    "            return balance;\n",
    "        } else {\n",
    "            return \"Insufficient funds\";\n",
    "        }\n",
    "    };\n",
    "}"
   ]
  },
  {
   "cell_type": "markdown",
   "id": "a29ac355-2a1f-4639-a207-ea401984f6b9",
   "metadata": {},
   "source": [
    "The function `make_withdraw` can be used as follows to create two objects `W1` and `W2`:"
   ]
  },
  {
   "cell_type": "code",
   "execution_count": 5,
   "id": "9c5a3201-6160-41f4-b4f6-97d6c2e416a5",
   "metadata": {},
   "outputs": [],
   "source": [
    "const W1 = make_withdraw(100);\n",
    "const W2 = make_withdraw(100);"
   ]
  },
  {
   "cell_type": "code",
   "execution_count": 6,
   "id": "f0ec8f10-824f-4a6a-9ecc-bb29f7a5f377",
   "metadata": {},
   "outputs": [
    {
     "data": {
      "text/plain": [
       "\u001b[33m50\u001b[39m"
      ]
     },
     "execution_count": 6,
     "metadata": {},
     "output_type": "execute_result"
    }
   ],
   "source": [
    "W1(50);"
   ]
  },
  {
   "cell_type": "code",
   "execution_count": 7,
   "id": "320dd3f1-ce3d-45d4-b54f-f097de4fb7e1",
   "metadata": {},
   "outputs": [
    {
     "data": {
      "text/plain": [
       "\u001b[33m30\u001b[39m"
      ]
     },
     "execution_count": 7,
     "metadata": {},
     "output_type": "execute_result"
    }
   ],
   "source": [
    "W2(70);"
   ]
  },
  {
   "cell_type": "code",
   "execution_count": 8,
   "id": "b5c68400-a369-49f5-a539-e47e8e1339bf",
   "metadata": {},
   "outputs": [
    {
     "data": {
      "text/plain": [
       "\u001b[32m\"Insufficient funds\"\u001b[39m"
      ]
     },
     "execution_count": 8,
     "metadata": {},
     "output_type": "execute_result"
    }
   ],
   "source": [
    "W2(40);"
   ]
  },
  {
   "cell_type": "code",
   "execution_count": 9,
   "id": "e31cd332-4e49-4566-ac3f-8a689def047f",
   "metadata": {},
   "outputs": [
    {
     "data": {
      "text/plain": [
       "\u001b[33m10\u001b[39m"
      ]
     },
     "execution_count": 9,
     "metadata": {},
     "output_type": "execute_result"
    }
   ],
   "source": [
    "W1(40);"
   ]
  },
  {
   "cell_type": "markdown",
   "id": "6b0de8e5-fb48-4e73-a3d5-013d4d8a9b2a",
   "metadata": {},
   "source": [
    "Observe that `W1` and `W2` are completely independent objects, each with its own local state variable balance. Withdrawals from one do not affect the other."
   ]
  },
  {
   "cell_type": "markdown",
   "id": "b5cee6fc-62ab-4820-ba4d-18c09531db4e",
   "metadata": {},
   "source": [
    "We can also create objects that handle deposits as well as withdrawals, and thus we can represent simple bank accounts. Here is a function that returns a “bank-account object” with a specified initial balance:"
   ]
  },
  {
   "cell_type": "code",
   "execution_count": 12,
   "id": "7d2dcb57-f27a-4f0b-89ba-034e84adea83",
   "metadata": {},
   "outputs": [],
   "source": [
    "function make_account(balance) {\n",
    "    function withdraw(amount) {\n",
    "        if (balance >= amount) {\n",
    "            balance = balance - amount;\n",
    "            return balance;\n",
    "        } else {\n",
    "            return \"Insufficient funds\";\n",
    "        }\n",
    "    }\n",
    "    function deposit(amount) {\n",
    "        balance = balance + amount;\n",
    "        return balance;\n",
    "    }\n",
    "    function dispatch(m) {\n",
    "        return m === \"withdraw\"\n",
    "               ? withdraw\n",
    "               : m === \"deposit\"\n",
    "               ? deposit\n",
    "               : error(m, \"unknown request -- make_account\");\n",
    "    }\n",
    "    return dispatch;\n",
    "}"
   ]
  },
  {
   "cell_type": "markdown",
   "id": "e0356c7f-c64f-4ee5-8e16-00f2e713a8b6",
   "metadata": {},
   "source": [
    "Each call to `make_account` sets up an environment with a local state variable `balance`. Within this environment, `make_account` defines functions `deposit` and `withdraw` that access `balanc`e and an additional function `dispatch` that takes a “message” as input and returns one of the two local functions. The `dispatch` function itself is returned as the value that represents the bank-account object. This is precisely the *message-passing* style of programming that we saw in section 2.4.3, although here we are using it in conjunction with the ability to modify local variables.\n",
    "\n",
    "The function `make_account` can be used as follows:"
   ]
  },
  {
   "cell_type": "code",
   "execution_count": 13,
   "id": "2a6e09dc-f213-4cfc-a1b1-0a6dcab7743f",
   "metadata": {},
   "outputs": [],
   "source": [
    "const acc = make_account(100);"
   ]
  },
  {
   "cell_type": "code",
   "execution_count": 14,
   "id": "41245e04-8cc9-41d2-b153-455c572adf78",
   "metadata": {},
   "outputs": [
    {
     "data": {
      "text/plain": [
       "\u001b[33m50\u001b[39m"
      ]
     },
     "execution_count": 14,
     "metadata": {},
     "output_type": "execute_result"
    }
   ],
   "source": [
    "acc(\"withdraw\")(50);"
   ]
  },
  {
   "cell_type": "code",
   "execution_count": 15,
   "id": "beff68cd-0849-4887-8a22-f232d973fd1f",
   "metadata": {},
   "outputs": [
    {
     "data": {
      "text/plain": [
       "\u001b[32m\"Insufficient funds\"\u001b[39m"
      ]
     },
     "execution_count": 15,
     "metadata": {},
     "output_type": "execute_result"
    }
   ],
   "source": [
    "acc(\"withdraw\")(60);"
   ]
  },
  {
   "cell_type": "code",
   "execution_count": 16,
   "id": "03d05220-d79e-40f4-ac15-5e049783b286",
   "metadata": {},
   "outputs": [
    {
     "data": {
      "text/plain": [
       "\u001b[33m90\u001b[39m"
      ]
     },
     "execution_count": 16,
     "metadata": {},
     "output_type": "execute_result"
    }
   ],
   "source": [
    "acc(\"deposit\")(40);"
   ]
  },
  {
   "cell_type": "code",
   "execution_count": 17,
   "id": "4ab1f6f7-ade9-45f3-9b24-beabd6fb6a99",
   "metadata": {},
   "outputs": [
    {
     "data": {
      "text/plain": [
       "\u001b[33m30\u001b[39m"
      ]
     },
     "execution_count": 17,
     "metadata": {},
     "output_type": "execute_result"
    }
   ],
   "source": [
    "acc(\"withdraw\")(60);"
   ]
  },
  {
   "cell_type": "markdown",
   "id": "6e61a17b-63cd-4c63-bf3d-afa866a5ba8f",
   "metadata": {},
   "source": [
    "### 3.1.2 The Benefits of Introducing Assignment\n",
    "\n",
    "As we shall see, introducing assignment into our programming language leads us into a thicket of difficult conceptual issues. Nevertheless, viewing systems as collections of objects with local state is a powerful technique for maintaining a modular design. As a simple example, consider the design of a function rand that, whenever it is called, returns an integer chosen at random.\n",
    "\n",
    "It is not at all clear what is meant by “chosen at random.” What we presumably want is for successive calls to `rand` to produce a sequence of numbers that has statistical properties of uniform distribution. We will not discuss methods for generating suitable sequences here. Rather, let us assume that we have a function `rand_update` that has the property that if we start with a given number $x_1$ and form\n",
    "\n",
    "$$\n",
    "\\begin{align}\n",
    "x_2\\texttt{ = rand\\_update(}x_1\\texttt{);}\\\\\n",
    "x_3\\texttt{ = rand\\_update(}x_2\\texttt{);}\n",
    "\\end{align}\n",
    "$$\n",
    "\n",
    "then the sequence of values $x_1, x_2, x_3, \\dots,$ will have the desired statistical properties."
   ]
  },
  {
   "cell_type": "markdown",
   "id": "9e554469-92d8-4b67-a17d-30d49c4df1e6",
   "metadata": {},
   "source": [
    "> One common way to implement `rand_update` is to use the rule that $x$ is updated to $ax + b$ modulo $m$, where $a, b,$ and $m$ are appropriately chosen integers. Chapter 3 of Knuth 1997b includes an extensive discussion of techniques for generating sequences of random numbers and establishing their statistical properties. Notice that the rand_update function computes a mathematical function: Given the same input twice, it produces the same output. Therefore, the number sequence produced by rand_update certainly is not “random,” if by “random” we insist that each number in the sequence is unrelated to the preceding number. The relation between “real randomness” and so-called *pseudo-random* sequences, which are produced by well-determined computations and yet have suitable statistical properties, is a complex question involving difficult issues in mathematics and philosophy. Kolmogorov, Solomonoff, and Chaitin have made great progress in clarifying these issues; a discussion can be found in Chaitin 1975."
   ]
  },
  {
   "cell_type": "code",
   "execution_count": 19,
   "id": "1797d341-56be-4cb5-9df3-cddc06dcc54e",
   "metadata": {},
   "outputs": [],
   "source": [
    "// A very simple rand_update function computes a \n",
    "// number from 0 (inclusive) to 2^31 (exclusive) \n",
    "// from a value x by multiplying it with a constant a, \n",
    "// adding a constant c. We used it here for illustration\n",
    "// only, and do not claim any statistical properties.\n",
    "const m = Math.pow(2, 31); \n",
    "const a = 1103515245;\n",
    "const c = 12345;\n",
    "\n",
    "function rand_update(x) {\n",
    "    return (a * x + c) % m;\n",
    "}"
   ]
  },
  {
   "cell_type": "markdown",
   "id": "893e3806-b22c-47a9-be8d-d690724b4d06",
   "metadata": {},
   "source": [
    "We can implement `rand` as a function with a local state variable `x` that is initialized to some fixed value `random_init`. Each call to `rand` computes `rand_update` of the current value of `x`, returns this as the random number, and also stores this as the new value of `x`."
   ]
  },
  {
   "cell_type": "code",
   "execution_count": 22,
   "id": "2e452d0e-eba4-47ae-a1f5-9d0c151742af",
   "metadata": {},
   "outputs": [],
   "source": [
    "const random_init = 123456789;\n",
    "\n",
    "function make_rand() {\n",
    "    let x = random_init;\n",
    "    return () => {\n",
    "        x = rand_update(x);\n",
    "        return x;\n",
    "    };\n",
    "}"
   ]
  },
  {
   "cell_type": "markdown",
   "id": "7f3b73f6-94ba-49b4-a5e1-31aa6dbbaa5d",
   "metadata": {},
   "source": [
    "Of course, we could generate the same sequence of random numbers without using assignment by simply calling `rand_update` directly. However, this would mean that any part of our program that used random numbers would have to explicitly remember the current value of `x` to be passed as an argument to `rand_update`. To realize what an annoyance this would be, consider using random numbers to implement a technique called *Monte Carlo simulation*.\n",
    "\n",
    "The Monte Carlo method consists of choosing sample experiments at random from a large set and then making deductions on the basis of the probabilities estimated from tabulating the results of those experiments. For example, we can approximate $\\pi$ using the fact that $6/\\pi2$ is the probability that two integers chosen at random will have no factors in common; that is, that their greatest common divisor will be 1. To obtain the approximation to $\\pi$, we perform a large number of experiments. In each experiment we choose two integers at random and perform a test to see if their GCD is 1. The fraction of times that the test is passed gives us our estimate of $6/\\pi2$, and from this we obtain our approximation to $\\pi$.\n",
    "\n",
    "The heart of our program is a function `monte_carlo`, which takes as arguments the number of times to try an experiment, together with the experiment, represented as a no-argument function that will return either true or false each time it is run. The function `monte_carlo` runs the experiment for the designated number of trials and returns a number telling the fraction of the trials in which the experiment was found to be true."
   ]
  },
  {
   "cell_type": "code",
   "execution_count": 33,
   "id": "6930bcaf-f891-4c09-8132-4ec77a449704",
   "metadata": {},
   "outputs": [],
   "source": [
    "const rand = make_rand();\n",
    "function gcd(a, b) {\n",
    "    return b === 0 ? a : gcd(b, a % b);\n",
    "}\n",
    "function dirichlet_test() {\n",
    "    return gcd(rand(), rand()) === 1;\n",
    "}\n",
    "function monte_carlo(trials, experiment) {\n",
    "    function iter(trials_remaining, trials_passed) {\n",
    "        return trials_remaining === 0\n",
    "               ? trials_passed / trials\n",
    "               : experiment()\n",
    "               ? iter(trials_remaining - 1, trials_passed + 1)\n",
    "               : iter(trials_remaining - 1, trials_passed);\n",
    "    }\n",
    "    return iter(trials, 0);\n",
    "}\n",
    "function estimate_pi(trials) {\n",
    "    return Math.sqrt(6 / monte_carlo(trials, dirichlet_test));\n",
    "}"
   ]
  },
  {
   "cell_type": "code",
   "execution_count": 38,
   "id": "90156c10-e595-49ac-8d6c-60d6ce432473",
   "metadata": {},
   "outputs": [
    {
     "data": {
      "text/plain": [
       "\u001b[33m29.277002188455995\u001b[39m"
      ]
     },
     "execution_count": 38,
     "metadata": {},
     "output_type": "execute_result"
    }
   ],
   "source": [
    "estimate_pi(1000);"
   ]
  },
  {
   "cell_type": "markdown",
   "id": "59ab447e-1b2c-4150-976d-1aca2a7606e6",
   "metadata": {},
   "source": [
    "Now let us try the same computation using `rand_update` directly rather than `rand`, the way we would be forced to proceed if we did not use assignment to model local state:"
   ]
  },
  {
   "cell_type": "code",
   "execution_count": null,
   "id": "3e4f15fc-da6a-46d6-becd-d42e7aeefb30",
   "metadata": {},
   "outputs": [],
   "source": [
    "function estimate_pi(trials) {\n",
    "    return math_sqrt(6 / random_gcd_test(trials, random_init));\n",
    "}\n",
    "function random_gcd_test(trials, initial_x) {\n",
    "    function iter(trials_remaining, trials_passed, x) {\n",
    "        const x1 = rand_update(x);\n",
    "        const x2 = rand_update(x1);\n",
    "        return trials_remaining === 0\n",
    "               ? trials_passed / trials\n",
    "               : gcd(x1, x2) === 1\n",
    "               ? iter(trials_remaining - 1, trials_passed + 1, x2)\n",
    "               : iter(trials_remaining, trials_passed, x2);\n",
    "    }\n",
    "    return iter(trials, 0, initial_x);\n",
    "}"
   ]
  },
  {
   "cell_type": "markdown",
   "id": "e00097a8-a4ce-4ff3-8fd3-d8230204f61f",
   "metadata": {},
   "source": [
    "While the program is still simple, it betrays some painful breaches of modularity. In our first version of the program, using `rand`, we can express the Monte Carlo method directly as a general `monte_carlo` function that takes as an argument an arbitrary experiment function. In our second version of the program, with no local state for the random-number generator, `random_gcd_test` must explicitly manipulate the random numbers `x1` and `x2` and recycle `x2` through the iterative loop as the new input to `rand_update`. This explicit handling of the random numbers intertwines the structure of accumulating test results with the fact that our particular experiment uses two random numbers, whereas other Monte Carlo experiments might use one random number or three. Even the top-level function `estimate_pi` has to be concerned with supplying an initial random number. The fact that the random-number generator’s insides are leaking out into other parts of the program makes it difficult for us to isolate the Monte Carlo idea so that it can be applied to other tasks. In the first version of the program, assignment encapsulates the state of the random-number generator within the `rand` function, so that the details of random-number generation remain independent of the rest of the program."
   ]
  },
  {
   "cell_type": "markdown",
   "id": "d241e517-c024-4755-83aa-071ea38d0348",
   "metadata": {},
   "source": [
    "The general phenomenon illustrated by the Monte Carlo example is this: From the point of view of one part of a complex process, the other parts appear to change with time. They have hidden time-varying local state. If we wish to write computer programs whose structure reflects this decomposition, we make computational objects (such as bank accounts and random-number generators) whose behavior changes with time. We model state with local state variables, and we model the changes of state with assignments to those variables.\n",
    "\n",
    "It is tempting to conclude this discussion by saying that, by introducing assignment and the technique of hiding state in local variables, we are able to structure systems in a more modular fashion than if all state had to be manipulated explicitly, by passing additional parameters. Unfortunately, as we shall see, the story is not so simple."
   ]
  },
  {
   "cell_type": "markdown",
   "id": "e68ea653-5e15-43cc-a0ff-2ddac0f462be",
   "metadata": {},
   "source": [
    "### 3.1.3 The Costs of Introducing Assignment\n",
    "\n",
    "As we have seen, assignment enables us to model objects that have local state. However, this advantage comes at a price. Our programming language can no longer be interpreted in terms of the substitution model of function application that we introduced in section 1.1.5. Moreover, no simple model with “nice” mathematical properties can be an adequate framework for dealing with objects and assignment in programming languages.\n",
    "\n",
    "So long as we do not use assignments, two evaluations of the same function with the same arguments will produce the same result, so that functions can be viewed as computing mathematical functions. Programming without any use of assignments, as we did throughout the first two chapters of this book, is accordingly known as *functional programming*.\n",
    "\n",
    "To understand how assignment complicates matters, consider a simplified version of the `make_withdraw` function of section 3.1.1 that does not bother to check for an insufficient amount:"
   ]
  },
  {
   "cell_type": "code",
   "execution_count": 39,
   "id": "082debfd-9fe2-48f9-93a6-bebbfa6359f9",
   "metadata": {},
   "outputs": [],
   "source": [
    "function make_withdraw_simplified(balance) {\n",
    "    return amount => {\n",
    "        balance = balance - amount;\n",
    "        return balance;\n",
    "    };\n",
    "}"
   ]
  },
  {
   "cell_type": "code",
   "execution_count": 40,
   "id": "43f8a405-951f-4c8e-989c-b99e783d0b36",
   "metadata": {},
   "outputs": [],
   "source": [
    "const W = make_withdraw_simplified(25);"
   ]
  },
  {
   "cell_type": "code",
   "execution_count": 41,
   "id": "d5d6a5fa-9f3c-4f40-a2f6-b7dd75777832",
   "metadata": {},
   "outputs": [
    {
     "data": {
      "text/plain": [
       "\u001b[33m5\u001b[39m"
      ]
     },
     "execution_count": 41,
     "metadata": {},
     "output_type": "execute_result"
    }
   ],
   "source": [
    "W(20);"
   ]
  },
  {
   "cell_type": "code",
   "execution_count": 42,
   "id": "7ce029e0-ac31-4ca1-a50d-fb0cfcfeb7f3",
   "metadata": {},
   "outputs": [
    {
     "data": {
      "text/plain": [
       "\u001b[33m-5\u001b[39m"
      ]
     },
     "execution_count": 42,
     "metadata": {},
     "output_type": "execute_result"
    }
   ],
   "source": [
    "W(10);"
   ]
  },
  {
   "cell_type": "markdown",
   "id": "d32ee5f8-a7a0-413d-894d-d5a0e6338497",
   "metadata": {},
   "source": [
    "Compare this function with the following `make_decrementer` function, which does not use assignment:"
   ]
  },
  {
   "cell_type": "code",
   "execution_count": 43,
   "id": "4f8674ce-87a4-4ef9-a338-11f9335b9bd1",
   "metadata": {},
   "outputs": [],
   "source": [
    "function make_decrementer(balance) { \n",
    "    return amount => balance - amount; \n",
    "}"
   ]
  },
  {
   "cell_type": "markdown",
   "id": "2b70e45b-bb0c-43c4-8cf5-b1a136b57842",
   "metadata": {},
   "source": [
    "The function `make_decrementer` returns a function that subtracts its input from a designated amount `balance`, but there is no accumulated effect over successive calls, as with `make_simplified_withdraw`:"
   ]
  },
  {
   "cell_type": "code",
   "execution_count": 44,
   "id": "f418a1c4-4372-4a9f-9d5f-fec5f455f3f0",
   "metadata": {},
   "outputs": [],
   "source": [
    "const D = make_decrementer(25);"
   ]
  },
  {
   "cell_type": "code",
   "execution_count": 45,
   "id": "3c5fb66a-c17a-4845-8d4f-0474fbf82405",
   "metadata": {},
   "outputs": [
    {
     "data": {
      "text/plain": [
       "\u001b[33m5\u001b[39m"
      ]
     },
     "execution_count": 45,
     "metadata": {},
     "output_type": "execute_result"
    }
   ],
   "source": [
    "D(20);"
   ]
  },
  {
   "cell_type": "code",
   "execution_count": 46,
   "id": "47ee1356-4dff-4d82-98ec-e00c5c6527ee",
   "metadata": {},
   "outputs": [
    {
     "data": {
      "text/plain": [
       "\u001b[33m15\u001b[39m"
      ]
     },
     "execution_count": 46,
     "metadata": {},
     "output_type": "execute_result"
    }
   ],
   "source": [
    "D(10);"
   ]
  },
  {
   "cell_type": "markdown",
   "id": "cbaaf1d8-9217-4513-99da-534b7457a671",
   "metadata": {},
   "source": [
    "We can use the substitution model to explain how `make_decrementer` works. For instance, let us analyze the evaluation of the expression\n",
    "\n",
    "```javascript\n",
    "make_decrementer(25)(20)\n",
    "```\n",
    "\n",
    "We first simplify the function expression of the application by substituting 25 for `balance` in the body of `make_decrementer`. This reduces the expression to\n",
    "\n",
    "```javascript\n",
    "(amount => 25 - amount)(20)\n",
    "```\n",
    "\n",
    "Now we apply the function by substituting 20 for `amount` in the body of the lambda expression:\n",
    "```javascript\n",
    "25 - 20\n",
    "```\n",
    "\n",
    "The final answer is 5.\n",
    "\n",
    "Observe, however, what happens if we attempt a similar substitution analysis with `make_withdraw_simplified`:\n",
    "```javascript\n",
    "make_withdraw_simplified(25)(20)\n",
    "```\n",
    "\n",
    "We first simplify the function expression by substituting 25 for `balance` in the body of `make_withdraw_simplified`. This reduces the expression to\n",
    "\n",
    "```javascript\n",
    "(amount => {\n",
    "    balance = 25 - amount;\n",
    "    return 25;\n",
    "})(20)\n",
    "```\n",
    "\n",
    "Now we apply the function by substituting 20 for `amount` in the body of the lambda expression:\n",
    "\n",
    "```javascript\n",
    "balance = 25 - 20;\n",
    "return 25;\n",
    "```\n",
    "\n",
    "If we adhered to the substitution model, we would have to say that the meaning of the function application is to first set balance to 5 and then return 25 as the value of the expression. This gets the wrong answer. In order to get the correct answer, we would have to somehow distinguish the first occurrence of `balance` (before the effect of the assignment) from the second occurrence of `balance` (after the effect of the assignment), and the substitution model cannot do this.\n",
    "\n",
    "The trouble here is that substitution is based ultimately on the notion that the name in our language are essentially symbols for values. This worked well for constants. But a variable, whose value can change with assignment, cannot simply be a name for a value. A variable somehow refers to a place where a value can be stored, and the value stored at this place can change. In section 3.2 we will see how environments play this role of “place” in our computational model."
   ]
  },
  {
   "cell_type": "code",
   "execution_count": null,
   "id": "7ba541f2-3f82-4683-bc91-d467ed9a7c38",
   "metadata": {},
   "outputs": [],
   "source": [
    "#### Sameness and change\n",
    "\n"
   ]
  }
 ],
 "metadata": {
  "kernelspec": {
   "display_name": "Deno",
   "language": "typescript",
   "name": "deno"
  },
  "language_info": {
   "codemirror_mode": "typescript",
   "file_extension": ".ts",
   "mimetype": "text/x.typescript",
   "name": "typescript",
   "nbconvert_exporter": "script",
   "pygments_lexer": "typescript",
   "version": "5.6.2"
  }
 },
 "nbformat": 4,
 "nbformat_minor": 5
}
