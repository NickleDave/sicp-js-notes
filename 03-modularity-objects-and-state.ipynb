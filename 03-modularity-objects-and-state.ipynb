{
 "cells": [
  {
   "cell_type": "markdown",
   "id": "2d3f930e-6fe6-417c-b842-bfb6e7a54d5e",
   "metadata": {},
   "source": [
    "# Modularity, Objects, and State\n",
    "\n",
    "The preceding chapters introduced the basic elements from which programs are made. We saw how primitive functions and primitive data are combined to construct compound entities, and we learned that abstraction is vital in helping us to cope with the complexity of large systems. But these tools are not sufficient for designing programs. Effective program synthesis also requires organizational principles that can guide us in formulating the overall design of a program. **In particular, we need strategies to help us structure large systems so that they will be *modular*, that is, so that they can be divided “naturally” into coherent parts that can be separately developed and maintained.**\n",
    "\n",
    "**One powerful design strategy, which is particularly appropriate to the construction of programs for modeling physical systems, is to base the structure of our programs on the structure of the system being modeled. For each object in the system, we construct a corresponding computational object.** For each system action, we define a symbolic operation in our computational model. Our hope in using this strategy is that extending the model to accommodate new objects or new actions will require no strategic changes to the program, only the addition of the new symbolic analogs of those objects or actions. If we have been successful in our system organization, then to add a new feature or debug an old one we will have to work on only a localized part of the system.\n",
    "\n",
    "To a large extent, then, the way we organize a large program is dictated by our perception of the system to be modeled. **In this chapter we will investigate two prominent organizational strategies arising from two rather different “world views” of the structure of systems.** The first organizational strategy concentrates on *objects*, viewing a large system as a collection of distinct objects whose behaviors may change over time. An alternative organizational strategy concentrates on the *streams* of information that flow in the system, much as an electrical engineer views a signal-processing system.\n",
    "\n",
    "Both the object-based approach and the stream-processing approach raise significant linguistic issues in programming. With objects, we must be concerned with how a computational object can change and yet maintain its identity. This will force us to abandon our old substitution model of computation (section 1.1.5) in favor of a more mechanistic but less theoretically tractable *environment model* of computation. The difficulties of dealing with objects, change, and identity are a fundamental consequence of the need to grapple with time in our computational models. These difficulties become even greater when we allow the possibility of concurrent execution of programs. The stream approach can be most fully exploited when we decouple simulated time in our model from the order of the events that take place in the computer during evaluation. We will accomplish this using a technique known as *delayed evaluation*."
   ]
  },
  {
   "cell_type": "markdown",
   "id": "e2353525-6bc1-49d3-8dbd-8996f16000a1",
   "metadata": {},
   "source": [
    "## 3.1 Assignment and Local State\n",
    "\n",
    "We ordinarily view the world as populated by independent objects, each of which has a state that changes over time. An object is said to “have state” if its behavior is influenced by its history. A bank account, for example, has state in that the answer to the question “Can I withdraw $100?” depends upon the history of deposit and withdrawal transactions. **We can characterize an object’s state by one or more *state variables*, which among them maintain enough information about history to determine the object’s current behavior.** In a simple banking system, we could characterize the state of an account by a current balance rather than by remembering the entire history of account transactions.\n",
    "\n",
    "In a system composed of many objects, the objects are rarely completely independent. Each may influence the states of others through interactions, which serve to couple the state variables of one object to those of other objects. Indeed, the view that a system is composed of separate objects is most useful when the state variables of the system can be grouped into closely coupled subsystems that are only loosely coupled to other subsystems.\n",
    "\n",
    "This view of a system can be a powerful framework for organizing computational models of the system. For such a model to be modular, it should be decomposed into computational objects that model the actual objects in the system. Each computational object must have its own *local state variables* describing the actual object’s state. Since the states of objects in the system being modeled change over time, the state variables of the corresponding computational objects must also change. If we choose to model the flow of time in the system by the elapsed time in the computer, then we must have a way to construct computational objects whose behaviors change as our programs run. In particular, **if we wish to model state variables by ordinary symbolic names in the programming language, then the language must provide an *assignment operation* to enable us to change the value associated with a name.**"
   ]
  },
  {
   "cell_type": "markdown",
   "id": "54d24609-b74b-4030-bee0-e0751c8ff4aa",
   "metadata": {},
   "source": [
    "### 3.1.1 Local State Variables\n",
    "\n",
    "To illustrate what we mean by having a computational object with time-varying state, let us model the situation of withdrawing money from a bank account. We will do this using a function `withdraw`, which takes as argument an amount to be withdrawn. If there is enough money in the account to accommodate the withdrawal, then `withdraw` should return the balance remaining after the withdrawal. Otherwise, `withdraw` should return the message Insufficient funds. For example, if we begin with $100 in the account, we should obtain the following sequence of responses using `withdraw`:\n",
    "\n",
    "```javascript\n",
    "withdraw(25);\n",
    "75\n",
    "\n",
    "withdraw(25);\n",
    "50\n",
    "\n",
    "withdraw(60);\n",
    "\"Insufficient funds\"\n",
    "\n",
    "withdraw(15);\n",
    "35\n",
    "```\n",
    "\n",
    "Observe that the expression `withdraw(25)`, evaluated twice, yields different values. This is a new kind of behavior for a function. Until now, all our JavaScript functions could be viewed as specifications for computing mathematical functions. A call to a function computed the value of the function applied to the given arguments, and two calls to the same function with the same arguments always produced the same result.\n",
    "\n",
    "So far, all our names have been *immutable*. When a function was applied, the values that its parameters referred to never changed, and once a declaration was evaluated, the declared name never changed its value. To implement functions like `withdraw`, we introduce *variable declarations*, which use the keyword `let`, in addition to constant declarations, which use the keyword `const`. We can declare a variable `balance` to indicate the balance of money in the account and define `withdraw` as a function that accesses `balance`. The `withdraw` function checks to see if `balance` is at least as large as the requested amount. If so, `withdraw` decrements `balance` by `amount` and returns the new value of `balance`. Otherwise, `withdraw` returns the *Insufficient funds* message. Here are the declarations of `balance` and `withdraw`:"
   ]
  },
  {
   "cell_type": "code",
   "execution_count": 2,
   "id": "00e82dd9-73bb-48a4-8452-c85566398884",
   "metadata": {},
   "outputs": [],
   "source": [
    "let balance = 100;\n",
    "\n",
    "function withdraw(amount) {\n",
    "    if (balance >= amount) {\n",
    "        balance = balance - amount;\n",
    "        return balance;\n",
    "    } else {\n",
    "        return \"Insufficient funds\";\n",
    "    }\n",
    "}"
   ]
  },
  {
   "cell_type": "markdown",
   "id": "abc387bf-8084-491d-9b7d-523aa715f93e",
   "metadata": {},
   "source": [
    "Decrementing `balance` is accomplished by the expression statement\n",
    "\n",
    "```javascript\n",
    "balance = balance - amount;\n",
    "```\n",
    "\n",
    "The syntax of *assignment* expressions is\n",
    "\n",
    "*name* `=` *new-value*\n",
    "\n",
    "Here *name* has been declared with `let` or as a function parameter and *new-value* is any expression. The assignment changes *name* so that its value is the result obtained by evaluating *new-value*. In the case at hand, we are changing `balance` so that its new value will be the result of subtracting `amount` from the previous value of `balance`.\n",
    "\n",
    "The function `withdraw` also uses a *sequence of statements* to cause two statements to be evaluated in the case where the `if` test is true: first decrementing `balance` and then returning the value of `balance`. In general, executing a sequence\n",
    "\n",
    "$$\n",
    "\\textit{stmt}_1 \\text{ } \\textit{stmt}_2 \\text{ } \\dots \\text{ } \\textit{stmt}_n\n",
    "$$\n",
    "\n",
    "causes the statemtents $\\textit{stmt}_1$ through $\\textit{stmt}_n$ to be evaluated in sequence.\n",
    "\n",
    "Although `withdraw` works as desired, the variable `balance` presents a problem. As specified above, `balance` is a name defined in the program environment and is freely accessible to be examined or modified by any function. It would be much better if we could somehow make `balance` internal to `withdraw`, so that `withdraw` would be the only function that could access `balance` directly and any other function could access `balance` only indirectly (through calls to `withdraw`). This would more accurately model the notion that `balance` is a local state variable used by `withdraw` to keep track of the state of the account.\n",
    "\n",
    "We can make `balance` internal to `withdraw` by rewriting the definition as follows:"
   ]
  },
  {
   "cell_type": "code",
   "execution_count": 3,
   "id": "97b9a3f7-c624-4bb0-b609-be466e36f585",
   "metadata": {},
   "outputs": [],
   "source": [
    "function make_withdraw_balance_100() {\n",
    "    let balance = 100;\n",
    "    // anonymous function that accepts the argument `amount`\n",
    "    return amount => {\n",
    "        if (balance >= amount) {\n",
    "            balance = balance - amount;\n",
    "            return balance\n",
    "        } else {\n",
    "            return \"Insufficient funds\";\n",
    "        ;}\n",
    "    };\n",
    "}\n",
    "const new_withdraw = make_withdraw_balance_100();"
   ]
  },
  {
   "cell_type": "markdown",
   "id": "a8f67266-bd9e-40b7-9c8c-83350f37d3ad",
   "metadata": {},
   "source": [
    "What we have done here is use let to establish an environment with a local variable `balance`, bound to the initial value 100. Within this local environment, we use a lambda expression4 to create a function that takes `amount` as an argument and behaves like our previous `withdraw` function. This function—returned as the result of evaluating the body of the `make_withdraw_balance_100` function—behaves in precisely the same way as `withdraw`, but its variable `balance` is not accessible by any other function.\n",
    "\n",
    "> In programming-language jargon, the variable `balance` is said to be *encapsulated* within the `new_withdraw` function. Encapsulation reflects the general system-design principle known as the *hiding principle*: One can make a system more modular and robust by protecting parts of the system from each other; that is, by providing information access only to those parts of the system that have a “need to know.”"
   ]
  },
  {
   "cell_type": "code",
   "execution_count": null,
   "id": "c1570f1c-4953-46d2-87c8-59086e100831",
   "metadata": {},
   "outputs": [],
   "source": []
  }
 ],
 "metadata": {
  "kernelspec": {
   "display_name": "Deno",
   "language": "typescript",
   "name": "deno"
  },
  "language_info": {
   "codemirror_mode": "typescript",
   "file_extension": ".ts",
   "mimetype": "text/x.typescript",
   "name": "typescript",
   "nbconvert_exporter": "script",
   "pygments_lexer": "typescript",
   "version": "5.6.2"
  }
 },
 "nbformat": 4,
 "nbformat_minor": 5
}
