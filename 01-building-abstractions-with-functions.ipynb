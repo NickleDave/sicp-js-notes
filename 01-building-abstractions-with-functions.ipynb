{
 "cells": [
  {
   "cell_type": "markdown",
   "id": "669fd12a-3e9f-4e8b-b51c-92bfe622c8df",
   "metadata": {},
   "source": [
    "## 1.1 The Elements of Programming\n",
    "\n",
    "Programming languages have three mechanisms for combining simple ideas to form more complex ideas:\n",
    "1. *primitive expressions*, the simplest entities the language is concerned with\n",
    "2. *means of combination* by which compound elements are built from simpler ones, and\n",
    "3. *means of abstraction* by which compound elements can be named and manipulated as units\n",
    "\n",
    "Programming deals with two kinds of elements: *functions* and *data* (but later we will discover they are really not so distinct).\n",
    "Informally,  \n",
    "1. data: stuff we want to manipulate\n",
    "2. functions: descriptions of rules for manipulating data"
   ]
  },
  {
   "cell_type": "markdown",
   "id": "b1442c33-b654-4532-845e-551b78c96422",
   "metadata": {},
   "source": [
    "### 1.1.1 Expressions\n",
    "\n",
    "We start by typing *statements* into the *interpreter* that *evaluates* those statements.  \n",
    "\n",
    "We start with an expression statement: in javascript, an *expression* followed by a semicolon. One kind of primitive expression is a number."
   ]
  },
  {
   "cell_type": "code",
   "execution_count": 1,
   "id": "8c6410a0-fb71-4648-8bd6-8052d78f12dd",
   "metadata": {},
   "outputs": [
    {
     "data": {
      "text/plain": [
       "\u001b[33m439\u001b[39m"
      ]
     },
     "execution_count": 1,
     "metadata": {},
     "output_type": "execute_result"
    }
   ],
   "source": [
    "439;"
   ]
  },
  {
   "cell_type": "markdown",
   "id": "450f4c0f-e602-483b-b0c9-299486f4b5c8",
   "metadata": {},
   "source": [
    "Expressions representing numbers may be combined with *operators* such as `+` or `*` to form a *compound expression* that represents the application of a corresponding *primitive function* to those numbers:"
   ]
  },
  {
   "cell_type": "code",
   "execution_count": 2,
   "id": "dd42b04a-1c30-4c85-8440-2d74c6a01cd8",
   "metadata": {},
   "outputs": [
    {
     "data": {
      "text/plain": [
       "\u001b[33m576\u001b[39m"
      ]
     },
     "execution_count": 2,
     "metadata": {},
     "output_type": "execute_result"
    }
   ],
   "source": [
    "137 + 439;"
   ]
  },
  {
   "cell_type": "markdown",
   "id": "4658f509-502c-4b78-91c0-f73a18f10cef",
   "metadata": {},
   "source": [
    "Expressions such as these, which contain other expressions as components, are called *combinations*.\n",
    "\n",
    "When a combination is formed by an *operator* symbol in the middle, and *operand* expressions to the left and right, we call it an *operator combination*. The value of an operator combination is obtained by applying the function specified by the operator to the arguments that are the values of the operands.\n",
    "\n",
    "We place the operator between the operands by convention, a convention known as *infix notation*. It follows mathematical notation used in school and everday life.\n",
    "\n",
    "As in mathematics, operator combiniations can be *nested*, that is, they can have operands that themselves are operator combinations:"
   ]
  },
  {
   "cell_type": "code",
   "execution_count": 3,
   "id": "5c1edd66-3b11-4452-ba8f-c651d357750c",
   "metadata": {},
   "outputs": [
    {
     "data": {
      "text/plain": [
       "\u001b[33m19\u001b[39m"
      ]
     },
     "execution_count": 3,
     "metadata": {},
     "output_type": "execute_result"
    }
   ],
   "source": [
    "(3 * 5) + (10 - 6);"
   ]
  },
  {
   "cell_type": "markdown",
   "id": "079f61a0-f2df-417d-a404-b2a8b9e676ca",
   "metadata": {},
   "source": [
    "Parentheses are used to group operator combinations, in order to avoid ambiguities.\n",
    "\n",
    "Javavscript also follows the conventions that multiplication and division bind more strongly than addition and subtraction, i.e, `3 * 5 + 10 / 2;` is equivalent to `(3 * 5) + (10 / 2);`. We say that `*` and `/` have *higher precedence* than `+` and `-`.\n",
    "\n",
    "Sequences are read from left to right. Thus\n",
    "\n",
    "```javascript\n",
    "1 - 5 / 2 * 4 + 3;\n",
    "```\n",
    "\n",
    "stands for\n",
    "\n",
    "```javascript\n",
    "(1 - ((5 / 2) * 4)) + 3;\n",
    "```\n",
    "\n",
    "We say that these operators are *left-associative*.\n",
    "\n",
    "Lastly, note that, regardless of the complexity of the expression, the interpreter always operates in the same simple cycle:\n",
    "1. read a statement typed by the user\n",
    "2. evauate the statement\n",
    "3. print the result\n",
    "\n",
    "We refer to this mode of operation as a *read-evaluate-print loop*, or the initialism *REPL*."
   ]
  },
  {
   "cell_type": "markdown",
   "id": "ed3a7da9-34bf-4b14-ae5b-dc28c81a06ea",
   "metadata": {},
   "source": [
    "### 1.1.2 Naming and the Environment\n",
    "\n",
    "A critical aspect of a programming language is the means it provides for using names to refer to computational objects.\n",
    "We say the name identifies a constant whose *value* is the object.\n",
    "\n",
    "The first such means we will learn in JavaScript is a *constant*. In JavaScript, we name constants with *constant declarations*."
   ]
  },
  {
   "cell_type": "code",
   "execution_count": 4,
   "id": "e920183d-02db-4293-ac04-0683b5604de3",
   "metadata": {},
   "outputs": [],
   "source": [
    "const size = 2;"
   ]
  },
  {
   "cell_type": "markdown",
   "id": "3227f624-c9de-4e51-afa1-c765c3c8f5a4",
   "metadata": {},
   "source": [
    "Once the name `size` has been associated with thbe number 2, we can refer to the value 2 by name:"
   ]
  },
  {
   "cell_type": "code",
   "execution_count": 5,
   "id": "9927c8a6-92e2-43a7-a168-65d536feef93",
   "metadata": {},
   "outputs": [
    {
     "data": {
      "text/plain": [
       "\u001b[33m2\u001b[39m"
      ]
     },
     "execution_count": 5,
     "metadata": {},
     "output_type": "execute_result"
    }
   ],
   "source": [
    "size;"
   ]
  },
  {
   "cell_type": "code",
   "execution_count": 6,
   "id": "7e1da4cb-282e-495a-a9bb-a7d917ae904b",
   "metadata": {},
   "outputs": [
    {
     "data": {
      "text/plain": [
       "\u001b[33m10\u001b[39m"
      ]
     },
     "execution_count": 6,
     "metadata": {},
     "output_type": "execute_result"
    }
   ],
   "source": [
    "5 * size;"
   ]
  },
  {
   "cell_type": "markdown",
   "id": "76292cb7-c1b2-416f-8bc3-57c9003b4cbc",
   "metadata": {},
   "source": [
    "Constant declaration is our language's simplest means of abstraction, for it allows us to use simple names to refer to the results of compound operations, like so:"
   ]
  },
  {
   "cell_type": "code",
   "execution_count": 7,
   "id": "64d2dba2-0a4d-4146-808b-30e1d4a3b1c3",
   "metadata": {},
   "outputs": [
    {
     "data": {
      "text/plain": [
       "\u001b[33m62.8318\u001b[39m"
      ]
     },
     "execution_count": 7,
     "metadata": {},
     "output_type": "execute_result"
    }
   ],
   "source": [
    "const pi = 3.14159;\n",
    "\n",
    "const radius = 10;\n",
    "\n",
    "const circumference = 2 * pi * radius;\n",
    "\n",
    "circumference;"
   ]
  },
  {
   "cell_type": "markdown",
   "id": "3d7eccc8-ed10-4be2-88a3-d7338add2ca1",
   "metadata": {},
   "source": [
    "Means of abstraction like this allow us to build up computational objects with very complex structures. We write programs to avoid having to remember and repeat the details of building up these objects every time we want to use them. Instead, we write programs that construct computational objects of increasing complexity, by building up from simple expressions, step by step.\n",
    "\n",
    "The fact that we can associate names with values implies that the interpreter must maintain some sort of memory that keeps track of name-object pairs. This memory is called the *environment* -- more precisely, the *program environment*, as a computation may involve a number of different environments."
   ]
  },
  {
   "cell_type": "markdown",
   "id": "11ae389b-43dd-4ea6-af0d-f5321ef1129d",
   "metadata": {},
   "source": [
    "### 1.1.3 Evaluating operator combinations\n",
    "\n",
    "One goal of this chapter is to isolate issues about thinking procedurally.\n",
    "\n",
    "As a case in point, let us consider the procedure the interpreter follows when evaluating operator combinations.\n",
    "\n",
    "* To evaluate an operator combination, do the following:\n",
    "  1. Evaluate the operand expressions of the combination.\n",
    "  2. Apply the function that is denoted by the operator to the arguments that are the values of the operands.\n",
    "\n",
    "Even this simple rule illustrates some important points about procedures.  \n",
    "First, observe that the first step dicates we must first perform the evaluation process on each operand. Thus, the evaluation rule is *recursive*: it includes, as one of its steps, the need to invoke the rule itself.\n",
    "\n",
    "Recursion allows us to express succinctly what might otherwise appear to be a rather complicated process.  \n",
    "For example, the following expression requires that the evaluation rule be applied to four different combinations:"
   ]
  },
  {
   "cell_type": "code",
   "execution_count": 8,
   "id": "02134cb8-8dff-488f-b3ad-00a1008eaa34",
   "metadata": {},
   "outputs": [
    {
     "data": {
      "text/plain": [
       "\u001b[33m390\u001b[39m"
      ]
     },
     "execution_count": 8,
     "metadata": {},
     "output_type": "execute_result"
    }
   ],
   "source": [
    "(2 + 4 * 6) * (3 + 12);"
   ]
  },
  {
   "cell_type": "markdown",
   "id": "637d0ac1-53b0-4c64-986a-ea3521d214a4",
   "metadata": {},
   "source": [
    "We can picture this process by representing the combination in the form of a tree, as shown in figure 1.1. Each combination is represented by a *node* with *branches* corresponding to the operator and the operands of the combination stemming from it. The *terminal* nodes, with no branches stemming from them, represent either operators or numbers.\n",
    "\n",
    "![](./figs/fig1.1.png)\n",
    "\n",
    "If we view evaluation in terms of the tree, we can imagine that the values of the operands percolate upward, starting from the terminal nodes and then combining at higher and higher levels. **In general, we will see that recursion is a very powerful technique for dealing with hierarchical, treelike objects.** In fact, the \"percolate values upward\" form of the evaluation rule is an example of a general kind of process known as *tree accumulation*.\n",
    "\n",
    "The second point we can observe about this procedure is that our rules don't tell us how to evaluate primitve expressions -- the *base case* of our recursion. We take care of the primitive cases by stipulating that. \n",
    "* the values of numerals are the numbers that they name, and\n",
    "* the values of names are the objects associated with those names in the environment.\n",
    "\n",
    "The key point here is that **the enviornment plays a role in determining the meaning of names in expressions**. In an interpreted language such as JavaScript, especially when run in an interactive REPL, it is meaningless to talk about the value of an expression such as `x + 1;` without specifying any information about what value the environment would provide for `x`."
   ]
  },
  {
   "cell_type": "markdown",
   "id": "f158a204-601c-4a50-bc65-0074dab3bbef",
   "metadata": {},
   "source": [
    "#### Declarations are not combinations\n",
    "Notice the evaluation rule above does not handle declarations, like the constant declarations we saw above.  \n",
    "We should not think of evaluating `const x = 3;` as applying an equality operator to two arguments `x` and `3`. Therefore `const x = 3;` is not a combination.\n",
    "#### Keywords and rules\n",
    "\n",
    "The word `const` is a *keyword* in JavaScript, a word with a particular meaning. Because they carry these meanings, keywords in languages are always reserved and cannot be used as names (at least, not without breaking programs).\n",
    "\n",
    "A keyword or combination of keywords in a statement instructs the interpreter to treat the statement in a special way. **Each such *syntactic form* has its own evaluation rule.**"
   ]
  },
  {
   "cell_type": "markdown",
   "id": "6e891efe-6214-4df5-a952-f7dfc21aff85",
   "metadata": {},
   "source": [
    "### 1.1.4 Compound Functions\n",
    "\n",
    "So far we have demonstrated with JavaScript some of the elements common to many programming languages:\n",
    "* primitive data and functions: numbers and arithmetic operations\n",
    "* means of combining operations, e.g., nesting with parentheses\n",
    "* a limited means of abstraction: constant declarations that associate names with values\n",
    "\n",
    "Next we learn about a much more powerful abstraction technique: *function declarations* that associate a name with a compound operation, so that the operation can be referred to as a unit.\n",
    "\n",
    "We being with the idea of squaring a number. To express this idea in plain language, we might say, \"To square something, take it times itself.\" We express this in JavaScript as:"
   ]
  },
  {
   "cell_type": "code",
   "execution_count": 9,
   "id": "b74d7cba-2518-445b-9666-703a768af5c6",
   "metadata": {},
   "outputs": [],
   "source": [
    "function square(x) {\n",
    "    return x * x;\n",
    "}"
   ]
  },
  {
   "cell_type": "markdown",
   "id": "eb9ad7e0-1533-4063-851f-f443e65cb45d",
   "metadata": {},
   "source": [
    "The name `square` identifies our *compound function*. The function represents the operation of multiplying something by itself. Notice that the thing to be multiplied is given a local name, `x`. This is similar to the role pronouns play in natural language.\n",
    "\n",
    "The simplest form of a function declaration is:\n",
    "\n",
    "`function` *name*`{`*parameters*`) { return` *expression*`; }`\n",
    "\n",
    "where *name* is a symbol to be associated with the function in the environment, and the *parameters* are the names used within the body of the function to refer to the corresponding arguments to the function.\n",
    "\n",
    "Here we only have one parameter, but more generall we have a comma-separated list of a parameters, and in an application of the function we will likewise have a comma-separated list of arguments, the values that the parameters take on when the function is applied.\n",
    "\n",
    "In its simplest form, the *body* of a function declaration is a single *return statement*, the keyword `return` followed by the *return expression* that will yield the value of the function application."
   ]
  },
  {
   "cell_type": "markdown",
   "id": "ca062c20-2d88-4e76-b7b5-17e92526a6e8",
   "metadata": {},
   "source": [
    "Having declared `square`, we can now use it in a *function application* expression."
   ]
  },
  {
   "cell_type": "code",
   "execution_count": 10,
   "id": "6177a0b0-9522-4c0d-ac6b-996b69bb713c",
   "metadata": {},
   "outputs": [
    {
     "data": {
      "text/plain": [
       "\u001b[33m441\u001b[39m"
      ]
     },
     "execution_count": 10,
     "metadata": {},
     "output_type": "execute_result"
    }
   ],
   "source": [
    "square(21);"
   ]
  },
  {
   "cell_type": "markdown",
   "id": "75a21a65-70a5-49a2-abc6-f8d8e336084f",
   "metadata": {},
   "source": [
    "Function applications are--after operator combinations--the second kind of combination of expressions into larger expressions that we encounter. The general form is:\n",
    "\n",
    "*function-expression(argument-expressions)*\n",
    "\n",
    "where the *function-expression* of the application specifies the function to be applied to the comma-separated *argument-expressions*.\n",
    "\n",
    "To evaluate a function application, the interpreter follows a procedure quite similar to the procedure for operator combinations described in section 1.1.3.\n",
    "\n",
    "* To evaluate a function application, do the following:\n",
    "  1. Evaluate the subexpressions of the application, namely the function expression and the argument expressions.\n",
    "  2. Apply the function that is the value of the function expression to the values of the argument expressions.\n",
    "\n",
    "To see the generality of this procedure, take for example a case where the argument expression is itself a compound expression:"
   ]
  },
  {
   "cell_type": "code",
   "execution_count": 11,
   "id": "62d1fccd-0344-4e73-9098-d579b9d3285b",
   "metadata": {},
   "outputs": [
    {
     "data": {
      "text/plain": [
       "\u001b[33m49\u001b[39m"
      ]
     },
     "execution_count": 11,
     "metadata": {},
     "output_type": "execute_result"
    }
   ],
   "source": [
    "square(2 + 5);"
   ]
  },
  {
   "cell_type": "markdown",
   "id": "385a3d9a-b5d4-4e71-83da-98cf5529ffe7",
   "metadata": {},
   "source": [
    "We can see that the interpreter indeed follows our procedure, evaluating the argument expression first before applying the value of the function expression to the value of the argument expression.\n",
    "\n",
    "Observe that function applicaton expressions can also serve as argument expressions:"
   ]
  },
  {
   "cell_type": "code",
   "execution_count": 12,
   "id": "ff1d5f03-bb72-4890-8407-4c817230089f",
   "metadata": {},
   "outputs": [
    {
     "data": {
      "text/plain": [
       "\u001b[33m81\u001b[39m"
      ]
     },
     "execution_count": 12,
     "metadata": {},
     "output_type": "execute_result"
    }
   ],
   "source": [
    "square(square(3));"
   ]
  },
  {
   "cell_type": "markdown",
   "id": "424ddf35-040b-49fb-ad20-e96d25443999",
   "metadata": {},
   "source": [
    "We can also use `square` as a building block in defining other functions. For example, $x^2 + y^2$ can be expressed as:\n",
    "\n",
    "`square(x) + square(y)`\n",
    "\n",
    "Using this expression, we can declare a functio `sum_of_squares` that, given any two numbers as arguments, produces the sum of their squares:"
   ]
  },
  {
   "cell_type": "code",
   "execution_count": 13,
   "id": "e513a65d-cb0f-494d-9376-c151ee85d440",
   "metadata": {},
   "outputs": [],
   "source": [
    "function sum_of_squares(x, y) {\n",
    "    return square(x) + square(y);\n",
    "}"
   ]
  },
  {
   "cell_type": "code",
   "execution_count": 14,
   "id": "c9042747-5a13-4a44-9135-7bf49f8eb945",
   "metadata": {},
   "outputs": [
    {
     "data": {
      "text/plain": [
       "\u001b[33m25\u001b[39m"
      ]
     },
     "execution_count": 14,
     "metadata": {},
     "output_type": "execute_result"
    }
   ],
   "source": [
    "sum_of_squares(3, 4);"
   ]
  },
  {
   "cell_type": "markdown",
   "id": "742cf64d-79b5-4936-977b-42d07524ddc9",
   "metadata": {},
   "source": [
    "And by extension we can use `sum_of_squares` as a building block in constructing yet more functions:"
   ]
  },
  {
   "cell_type": "code",
   "execution_count": 15,
   "id": "5658a03e-b08c-4def-8d71-669c9a82eea7",
   "metadata": {},
   "outputs": [],
   "source": [
    "function f(a) {\n",
    "    return sum_of_squares(a + 1, a * 2);\n",
    "}"
   ]
  },
  {
   "cell_type": "code",
   "execution_count": 16,
   "id": "e7df5847-0c78-49ff-95a4-9c2b7be63f6e",
   "metadata": {},
   "outputs": [
    {
     "data": {
      "text/plain": [
       "\u001b[33m136\u001b[39m"
      ]
     },
     "execution_count": 16,
     "metadata": {},
     "output_type": "execute_result"
    }
   ],
   "source": [
    "f(5);"
   ]
  },
  {
   "cell_type": "markdown",
   "id": "414175ac-0f92-4b5c-814b-6bbc92c13a8e",
   "metadata": {},
   "source": [
    "In addition to compound functions, any JavaScript environment provides primitive functions that are built into the interpreter or loaded from libraries. These additional primitive functions are used in the exact same way as compuond functions. This means that it doesn't matter when we write a compound function like `sum_of_squares` whether `square` was built into the interpreter, loaded from a library, or itself defined as a compound function."
   ]
  },
  {
   "cell_type": "markdown",
   "id": "7d5a5934-532b-4ab0-ac6f-bca07d509630",
   "metadata": {},
   "source": [
    "### 1.1.5 The Substitution Model for Function Application\n",
    "\n",
    "To evaluate a function application, the interpreter follows the procedure described in section 1.1.4. For primitive functions, this is handled by the interpreter or libraries. For compound functions, the application process is as follows:\n",
    "* To apply a compound function to arguments, evaluate the return expression of the function with each parameter replaced by the corresponding argument.\n",
    "\n",
    "We can apply this process to the functions we declared above.  \n",
    "Let's evaluate the application\n",
    "\n",
    "```javascript\n",
    "f(5);\n",
    "```\n",
    "\n",
    "where `f` is the function we just declared.  \n",
    "We begin by retrieving the return expression of `f`:\n",
    "```javascript\n",
    "sum_of_squares(a + 1, a * 2);\n",
    "```\n",
    "Then we replace the parameter `a` with the argument 5:\n",
    "```javascript\n",
    "sum_of_squares(5 + 1, 5 * 2)\n",
    "```\n",
    "Thus the problem reduces to the evaluation of an application with two arguments and a function expression `sum_of_squares`. Evaluating this applications involves three subproblems. We continue substituting to reduce these subproblems until we end up with two primitive expressions and a primitive function, an operator applied to them: `36 + 100`. This gives us, finally, `136`."
   ]
  },
  {
   "cell_type": "markdown",
   "id": "308b4689-db2a-4d8a-85f1-1a59ec8cd92b",
   "metadata": {},
   "source": [
    "The process we have just described is called the *substitution model* for function application.\n",
    "\n",
    "Two points that should be stressed:\n",
    "1. The purpose of the substitution is to help us to think about function application. It is *not* a description of how the interpreter really works: typically interpreters do not evaluate function applications by manipulating the text of the function to substitute values for parameters. In practice, the \"substitution\" is accomplished by using a local environment for the parameters.\n",
    "2. Over the course of this book, we present a sequence of increasingly elaborate models of how interpreters work, culminating with a complete implementation of an interpreter and compiler. The substitution model is only the first of these. When we address the use of functions with mutable data, we will see that the substitution model breaks down and must be replaced by a more complicated model of function evaluation."
   ]
  },
  {
   "cell_type": "markdown",
   "id": "80c7d337-d3df-44e4-a8ef-b4100552e049",
   "metadata": {},
   "source": [
    "#### Applicative order versus normal order\n",
    "\n",
    "The procedure given in 1.1.4 is not the only way to perform evaluation. An alternative model would not evaluate arguments until their values were needed. Instaed, it would first substitute argument epxressions for parameters until it obtained an expression involving only operators and primitive functions, and would then perform the evaluation.\n",
    "\n",
    "If we used this method, the evaluation of `f(5)` would proceed according to the sequence of expansions\n",
    "```javascript\n",
    "sum_of_squares(5 + 1, 5 * 2)\n",
    "\n",
    "square(5 + 1) + square(5 * 2)\n",
    "\n",
    "(5 + 1) * (5 + 1) + (5 * 2) * (5 * 2)\n",
    "```\n",
    "followed by the reductions\n",
    "```javascript\n",
    "6 * 6 + 10 * 10\n",
    "36 + 100\n",
    "136\n",
    "```\n",
    "This gives the same answer as our previous evaluation model, but the process is different. In particular, the evaluations of `5 + 1` and `5 * 2` are each performed twice here, corresponding to the reduction of the expression\n",
    "```javascript\n",
    "x * x\n",
    "```\n",
    "with `x` replaced, respectively, by `5 + 1` and `5 * 2`.\n",
    "\n",
    "With the order we followed above, we would isntead have done\n",
    "```javascript\n",
    "sum_of_squares(5 + 1, 5 * 2)\n",
    "\n",
    "sum_of_squares(6, 10)\n",
    "\n",
    "square(6) + square(10)\n",
    "```\n",
    "and then the reduction would have proceeded as just shown.\n",
    "\n",
    "This alternative method of fully expanding and then reducing is known as *normal-order evaluation*. The interpreter actually evaluates the arguments and then applies functions, and this is called *applicative-order evaluation*. It can be shown that, for function applications that can be modeled using substitution and that yield legitimate values, normal-order and applicative-order evaluation produce the same value. JavaScript uses applicative-order evaluation. This is partly because of the additional efficiency obtained from avoiding multiple evauations of expressions, as just demonstrated. More significantly, normal-order evaluation becomes much more complicated to deal with when we leave the realm of functions that can be modeled by substitution. On the other hand, normal-order evaluation can be an extremely valuable tool."
   ]
  },
  {
   "cell_type": "markdown",
   "id": "b6986188-3d6b-4d99-ba2a-0844078d00d8",
   "metadata": {},
   "source": [
    "### 1.1.6 Conditional Expressions and Predicates\n",
    "\n",
    "The expressive power of the class of functions that we can define at this point is very limited, because we have no way to make tests and to perform different operations depending on the result of a test.\n",
    "\n",
    "$$\n",
    "|x| = \n",
    "\\begin{cases}\n",
    "x \\text{ if } x \\ge 0 \\\\\n",
    "-x \\text{ otherwise }\n",
    "\\end{cases}\n",
    "$$\n",
    "\n",
    "This construct is a *case analysis* and can be written in JavaScript using a *conditional expression* as"
   ]
  },
  {
   "cell_type": "code",
   "execution_count": 17,
   "id": "5ea556e1-0c47-4dcc-938a-d85b8c54bca1",
   "metadata": {},
   "outputs": [],
   "source": [
    "function abs(x) {\n",
    "    return x >= 0 ? x : -x;\n",
    "}"
   ]
  },
  {
   "cell_type": "markdown",
   "id": "0ecf9641-4fd7-491b-be0f-741c4b6aaaef",
   "metadata": {},
   "source": [
    "This can be expressed in English as \"If $x$ is greater than or equal to zero, return $x$; otherwise return $-x$\".\n",
    "\n",
    "The general form of a conditional expression is \n",
    "\n",
    "*predicate* `?` *consequent-expression* `:` *alternative-expression*\n",
    "\n",
    "Conditional expressions begin with a *predicate*, an expression whose value evaluates to either *true* or *false*, the two distinguished *boolean* values in JavaaScript. The primitive boolean expressions are `true` and `false`. The predicate is followed by a question mark, then the *consequent-epxression*, a colon, and finally the *alternative-expression*.\n",
    "\n",
    "To evaluate a conditional expression, the interpreter starts by evaluating the *predicate*. If the *predicate* evaluates to true, the interpreter evaluates the *consequent-expression* and returns its value as the value of the conditional. If the predicate evaluates as false, the interpreter evaluates the *alternative-expression* and returns that instead."
   ]
  },
  {
   "cell_type": "markdown",
   "id": "491c75e8-f0e3-40bc-a827-9a47e60bf75b",
   "metadata": {},
   "source": [
    "The word *predicate* is used for operators and functions that return true or false, as well as for expressions that evaluate to true or false. Our absolute-value function `abs` makes use of the primitive predicate `>=`.\n",
    "\n",
    "We could specify our absolute value function so that it has more than two cases:\n",
    "$$\n",
    "|x| = \n",
    "\\begin{cases}\n",
    "&x &\\text{if } x \\gt 0 \\\\\n",
    "&0 &\\text{if } x = 0 \\\\\n",
    "&-x &\\text{otherwise}\n",
    "\\end{cases}\n",
    "$$\n",
    "\n",
    "In JavaScript, we express a case analysis with multiple cases by nesting conditional expressions as alternative experssions inside other conditional expressions:"
   ]
  },
  {
   "cell_type": "code",
   "execution_count": 18,
   "id": "7d35a332-7336-4ad6-8836-0e6b8cbf61ef",
   "metadata": {},
   "outputs": [],
   "source": [
    "function abs(x) {\n",
    "    return x > 0\n",
    "           ? x\n",
    "           : x === 0\n",
    "           ? 0\n",
    "           : -x;\n",
    "}"
   ]
  },
  {
   "cell_type": "markdown",
   "id": "24b79652-14f3-401e-b107-71559b46d5a1",
   "metadata": {},
   "source": [
    "Parentheses are not needed around the alternatve expression `x === 0 ? 0 : -x` because the conditional-expression syntactic form is right-associative.\n",
    "\n",
    "The general form of a case analysis is  \n",
    "$p_1$\n",
    "`?` $e_1$  \n",
    "`:` $p_2$  \n",
    "`?` $e_2$  \n",
    "$\\vdots$  \n",
    "`:` $p_n$  \n",
    "`?` $e_n$  \n",
    "`:` *final-alternative-expression*\n",
    "\n",
    "We call a predicate $p_i$ together with its consequent expression $e_i$ a *clause*. A case analysis can be seen as a sequence of clauses, followed by a final alternative expression. We can evaluate a case analysis using what we know about how the interpreter evaluates conditonal expressions: first the interpreter evaluates the predicate $p_1$. If its value is false, then $p_2$ is evaluated. If $p_2$'s value is also found to be false, then $p_3$ is evaluated. this process continues until a predicate $p_i$ is found whose value is true, in which case the interpreter returns the value of the corresponding consequent expression $e_i$ as the value of the case analysis. If none of the $p$s is found to be true, the value of the case analysis is the value of the final alternative expression."
   ]
  },
  {
   "cell_type": "markdown",
   "id": "a5088cad-3fa5-4dae-9f1b-f7ff3191c9bc",
   "metadata": {},
   "source": [
    "In addition to primitve predicates (`>=`, `>`, `<`, `<=`, `===`, and `!==`) that are applied to numbers, there are logical composition operations that enable us to construct *compound predicates*. The three most frequently used are these:\n",
    "\n",
    "1. $expression_1$ `&&` $expression_2$  \n",
    "   This operation expresses *logical conjunction*, roughly the same as the English word \"and\". We assume this form to be syntactic sugar for $expression_1$ `?` $expression_2$ `: false`. Note in these definitions we assume that evaluating $expression_1$ and $expression_2$ can only produce boolean values.\n",
    "\n",
    "2. $expression_1$ `||` $expression_2$  \n",
    "   This operation expresses *logical disjunction*, roughly the same as the English word \"or\". We assume this form to be syntactic sugar for $expression_1$ `?` `true :` $expression_2$\n",
    "\n",
    "3. `!` $expression$  \n",
    "   This operation expresses *logical negation*, roughly the same as the English word \"not\". The value of the expression is true when $expression$ evaluates to false, and false when $expresssion$ evaluates to true."
   ]
  },
  {
   "cell_type": "markdown",
   "id": "67ba1fa5-2d23-4258-9d63-9a9230c2e0ad",
   "metadata": {},
   "source": [
    "Notice that `&&` and `||` are syntactic forms, not operators; their right-hand expression is not always evaluated. This is a case of what is sometimes called *syntactic sugar*.\n",
    "\n",
    "The operator `!`, on the other hand, follows the evaluation rule of section 1.1.3. It is a *unary* operator, meaning it takes only one argument, whereas the arithemetic operators and primitive predicates discussed so far are *binary*, taking two arguments. The operator `!` precedes its argument, so we call it a *prefix operator* (as opposed to the infix operators we have seen so far). Another prefix operator is the numeric negation operator, an example of which we saw as `-x` in the `abs` function above."
   ]
  },
  {
   "cell_type": "markdown",
   "id": "f9cbf2d5-2913-48d2-ab01-ad205315b7a7",
   "metadata": {},
   "source": [
    "Let's look at an example of how these predicates are used.  \n",
    "The condition that a number $x$ be in the range $5 < x < 10$ may be expressed as\n",
    "\n",
    "```javascript\n",
    "x > 5 && x < 10\n",
    "```\n",
    "\n",
    "The syntactic form `&&` has lower precedence than the comparison operators `>` and `<`, and the conditional-expression syntactic form $\\dots$ `?` $\\dots$ `:` $\\dots$ has lower precedence than any other operator we have encountered so far, a property we used in the `abs` functions above.\n",
    "\n",
    "As another example, we can declare a predicate to test whether one number is greater than or equal to another as\n",
    "\n",
    "```javascript\n",
    "function greater_or_equal(x, y) {\n",
    "    return x > y || x === y;\n",
    "}\n",
    "```\n",
    "\n",
    "or alternatively as\n",
    "\n",
    "```javascript\n",
    "function greater_or_equal(x, y) {\n",
    "    return ! (x < y);\n",
    "}\n",
    "```\n",
    "\n",
    "Unary operators have higher precedence than binary operators, making the parentheses necessary in the second version of the function.\n",
    "\n",
    "These functions, when applied to two numbers, behaves the same as the operator `>=`."
   ]
  },
  {
   "cell_type": "markdown",
   "id": "4b156b53-700a-4450-a0eb-a01658c69d74",
   "metadata": {},
   "source": [
    "#### Exercise 1.3"
   ]
  },
  {
   "cell_type": "code",
   "execution_count": 19,
   "id": "fd9a2910-fdc7-47d2-8902-8fce72a68d4f",
   "metadata": {},
   "outputs": [],
   "source": [
    "function sum_of_squares_largest(a, b, c) {\n",
    "    return a > c && b > c\n",
    "           ? sum_of_squares(a, b)\n",
    "           : a > b && c > b\n",
    "           ? sum_of_squares(a, c)\n",
    "           : sum_of_squares(b, c)\n",
    "}"
   ]
  },
  {
   "cell_type": "markdown",
   "id": "104631e4-a2b0-4006-a1b2-219e23901a56",
   "metadata": {},
   "source": [
    "### 1.1.7 Example: Square Roots by Newton's Method\n",
    "\n",
    "As introduced above, functions are much like ordinary mathematical functions. They specify values that are determined by one or more parameters. But there is an important difference between mathematical functions and computer functions, that we now illustrate.\n",
    "\n",
    "Consider the problem of computing square roots. We can define the square-root function as  \n",
    "\n",
    "$$\n",
    "\\sqrt{x} = \\text{ the } y \\text{ such that } y \\ge 0 \\text{ and }y^2 = x\n",
    "$$\n",
    "\n",
    "This describes a legitimate mathetmatical function we could use to recognize whether one number is the square root of another, or to derive facts about square roots in general. But this definition does not describe a computer function. It tells us nothing about *how* to find the square root of a given number. We can make this obvious by rephrasing the definition in pseudo-JavaScript:  \n",
    "\n",
    "```javascript\n",
    "function sqrt(x) {\n",
    "    return the y with y >=0 && square(y) === x;\n",
    "}\n",
    "```\n",
    "\n",
    "The difference between these two types of functions is the difference between describing properties of things and describing how to do things. We can say the first is declarative knowledge and the second is imperative knowledge. **In mathematics, we are usually concerned with declarative \"what is\" descriptions, whereas in computer science we are usually concerned with imperative \"how to\" descriptions.**"
   ]
  },
  {
   "cell_type": "markdown",
   "id": "d35b3ed9-6978-4e20-b2b9-58b223317816",
   "metadata": {},
   "source": [
    "How does one compute square roots? The most common way is to use Newton's method of successive approximations. This method says that whenever we have a guess $y$ for the value of the square root of a number $x$, we can perform a simple manipulation to get a better guess, closer to the actual square root, by averaging $y$ with $x/y$.\n",
    "\n",
    "Now let's formalize this process in terms of (computer) functions. We start with a value for the radicand--the number whose square root we are trying to compute--and a value for the guess. If the guess is good enough for our purposes, we are done; if not we must repeat the process with an improved guess. We write this as a function."
   ]
  },
  {
   "cell_type": "code",
   "execution_count": 20,
   "id": "62baac80-7e63-4c51-8102-81987cc6b56c",
   "metadata": {},
   "outputs": [],
   "source": [
    "function sqrt_iter(guess, x) {\n",
    "    return is_good_enough(guess, x)\n",
    "           ? guess\n",
    "           : sqrt_iter(improve(guess, x), x);\n",
    "}"
   ]
  },
  {
   "cell_type": "markdown",
   "id": "86f247b8-b8da-414f-9f61-161fe2b9ced7",
   "metadata": {},
   "source": [
    "A guess is improved by averaging it with the quotient of the radicand and the old guess:"
   ]
  },
  {
   "cell_type": "code",
   "execution_count": 21,
   "id": "5614806e-f5ff-4998-83ee-ecb8e3be4b4d",
   "metadata": {},
   "outputs": [],
   "source": [
    "function improve(guess, x) {\n",
    "    return average(guess, x / guess);\n",
    "}"
   ]
  },
  {
   "cell_type": "markdown",
   "id": "f8f029ab-2d71-4fef-b692-7ae2c3aaacc9",
   "metadata": {},
   "source": [
    "where"
   ]
  },
  {
   "cell_type": "code",
   "execution_count": 22,
   "id": "6dc7a5db-97e5-455c-b5c3-ec0d33586082",
   "metadata": {},
   "outputs": [],
   "source": [
    "function average(x, y) {\n",
    "    return (x + y) / 2;\n",
    "}"
   ]
  },
  {
   "cell_type": "markdown",
   "id": "ad9d53ed-aef4-411e-9b58-2a4fec54b4a8",
   "metadata": {},
   "source": [
    "We also have to say what we mean by \"good enough.\" The following will do for illustration. The idea is to improve the answer until it is close enough so that its square differs from the radicand by less than a predetermined tolerance, here 0.001:"
   ]
  },
  {
   "cell_type": "code",
   "execution_count": 23,
   "id": "a30bc971-967f-4719-bc86-89e6996703f9",
   "metadata": {},
   "outputs": [],
   "source": [
    "function is_good_enough(guess, x) {\n",
    "    return abs(square(guess) - x) < 0.001;\n",
    "}"
   ]
  },
  {
   "cell_type": "markdown",
   "id": "7e1b5967-67d7-4307-b016-278955702c84",
   "metadata": {},
   "source": [
    "Finally, we need a way to get started. For instance, we can always guess that the square root of any number is 1:"
   ]
  },
  {
   "cell_type": "code",
   "execution_count": 24,
   "id": "dd8e098a-eb7c-459f-88f0-868bc1225277",
   "metadata": {},
   "outputs": [],
   "source": [
    "function sqrt(x) {\n",
    "    return sqrt_iter(1, x);\n",
    "}"
   ]
  },
  {
   "cell_type": "markdown",
   "id": "3a576fe7-6341-4206-ac89-fcaa217e8253",
   "metadata": {},
   "source": [
    "Having typed these declarations into the interpreter, we can use `sqrt` just as we can use any function:"
   ]
  },
  {
   "cell_type": "code",
   "execution_count": 25,
   "id": "dd8b7c63-66b6-45cf-a66c-f5c92a828ef2",
   "metadata": {},
   "outputs": [
    {
     "data": {
      "text/plain": [
       "\u001b[33m3.00009155413138\u001b[39m"
      ]
     },
     "execution_count": 25,
     "metadata": {},
     "output_type": "execute_result"
    }
   ],
   "source": [
    "sqrt(9);"
   ]
  },
  {
   "cell_type": "markdown",
   "id": "bd91503c-1a00-482d-ba74-0fd5c6a1a8ca",
   "metadata": {},
   "source": [
    "The `sqrt` program also illustrates that the simple functional language we have introduced so far is sufficient for writing any purely numerical program that one could write in, say, C or Pascal. this might seem surprising, since we have not included in our language any iterative (looping) constructs that direct the computer to do something over and over again. However, the function `sqrt_iter` demonstrates that iteration can be accomplished using no special construct other than the ordinary ability to call a function."
   ]
  },
  {
   "cell_type": "markdown",
   "id": "c4c1a979-7625-4755-89c8-f99050eeb967",
   "metadata": {},
   "source": [
    "#### Exercise 1.6\n",
    "Alyssa P. Hacker doesn’t like the syntax of conditional expressions, involving the characters `?` and `:`. “Why can’t I just declare an ordinary conditional function whose application works just like conditional expressions?” she asks.22 Alyssa’s friend Eva Lu Ator claims this can indeed be done, and she declares a conditional function as follows:"
   ]
  },
  {
   "cell_type": "code",
   "execution_count": 26,
   "id": "7200536f-b0f9-4e1c-8d64-f7e551d14f62",
   "metadata": {},
   "outputs": [],
   "source": [
    "function conditional(predicate, then_clause, else_clause) {\n",
    "    return predicate ? then_clause : else_clause;\n",
    "}"
   ]
  },
  {
   "cell_type": "markdown",
   "id": "8e767f61-1db2-4591-a4db-220e5d3024c2",
   "metadata": {},
   "source": [
    "Eva demonstrates the program for Alyssa:"
   ]
  },
  {
   "cell_type": "code",
   "execution_count": 27,
   "id": "eb8e9561-6b80-4f68-8b8a-ce3e82b87b97",
   "metadata": {},
   "outputs": [
    {
     "data": {
      "text/plain": [
       "\u001b[33m5\u001b[39m"
      ]
     },
     "execution_count": 27,
     "metadata": {},
     "output_type": "execute_result"
    }
   ],
   "source": [
    "conditional(2 === 3, 0, 5);"
   ]
  },
  {
   "cell_type": "markdown",
   "id": "68a65699-6c99-410b-93e8-b1384e7080f3",
   "metadata": {},
   "source": [
    "Delighted, Alyssa uses conditional to rewrite the square-root program:"
   ]
  },
  {
   "cell_type": "code",
   "execution_count": 28,
   "id": "16e790c2-d005-4c79-826c-42e658c7a2d5",
   "metadata": {},
   "outputs": [],
   "source": [
    "function sqrt_iter_conditional(guess, x) {\n",
    "    return conditional(is_good_enough(guess, x),\n",
    "                       guess,\n",
    "                       sqrt_iter_conditional(improve(guess, x),\n",
    "                                             x));\n",
    "}"
   ]
  },
  {
   "cell_type": "code",
   "execution_count": 29,
   "id": "5ac4ed58-4fe8-459d-b969-7d03c0640593",
   "metadata": {},
   "outputs": [],
   "source": [
    "function sqrt2(x) {\n",
    "    return sqrt_iter_conditional(1, x);\n",
    "}"
   ]
  },
  {
   "cell_type": "markdown",
   "id": "b9cea760-988f-484e-ac69-3e1c01b10322",
   "metadata": {},
   "source": [
    "What happens when Alyssa attempts to use this to compute square roots? Explain."
   ]
  },
  {
   "cell_type": "code",
   "execution_count": 30,
   "id": "a0ae94a5-5d3a-489c-a312-23d4ebdb6e3e",
   "metadata": {},
   "outputs": [
    {
     "ename": "RangeError",
     "evalue": "Maximum call stack size exceeded",
     "output_type": "error",
     "traceback": [
      "Stack trace:",
      "RangeError: Maximum call stack size exceeded",
      "    at is_good_enough (<anonymous>:1:1)",
      "    at sqrt_iter_conditional (<anonymous>:1:1)",
      "    at sqrt_iter_conditional (<anonymous>:1:1)",
      "    at sqrt_iter_conditional (<anonymous>:1:1)",
      "    at sqrt_iter_conditional (<anonymous>:1:1)",
      "    at sqrt_iter_conditional (<anonymous>:1:1)",
      "    at sqrt_iter_conditional (<anonymous>:1:1)",
      "    at sqrt_iter_conditional (<anonymous>:1:1)",
      "    at sqrt_iter_conditional (<anonymous>:1:1)",
      "    at sqrt_iter_conditional (<anonymous>:1:1)"
     ]
    }
   ],
   "source": [
    "sqrt2(4);"
   ]
  },
  {
   "cell_type": "markdown",
   "id": "09683c76-f422-4b56-ba00-e1123b78883d",
   "metadata": {},
   "source": [
    "When Alyssa rewrite `sqrt` as `sqrt_iter_conditional` using `conditional`, she changes from using the conditional expression to using a function application. According to the procedure we described in section 1.1.4 for evaluating a function, the interpreter first evaluates all elements of the applcation, including the arguments, and then applies the function to the arguments. This means that every time `sqrt_iter_conditional` calls `conditional`, it will evaluate all arguments, including another call to `sqrt_iter_conditional`. And this causes the infinite recursion. We don't have this problem with the conditional expression because the *else-clause* is only evaluated if the *predicate* evaluates to `false`."
   ]
  },
  {
   "cell_type": "markdown",
   "id": "4d36bc32-7145-4b3a-ad99-4d31d3a3aeb3",
   "metadata": {},
   "source": [
    "#### Exercise 1.7\n",
    "The `is_good_enough` test used in computing square roots will not be very effective for finding the square roots of very small numbers. Also, in real computers, arithmetic operations are almost always performed with limited precision. This makes our test inadequate for very large numbers. Explain these statements, with examples showing how the test fails for small and large numbers."
   ]
  },
  {
   "cell_type": "markdown",
   "id": "5e7fe93c-9829-4f71-b369-eff7dd3e4ed9",
   "metadata": {},
   "source": [
    "For very small numbers, we get similar answers for different inputs `x`."
   ]
  },
  {
   "cell_type": "code",
   "execution_count": 31,
   "id": "7bdcabe6-d2fa-4759-8414-0e60ded15420",
   "metadata": {},
   "outputs": [
    {
     "data": {
      "text/plain": [
       "\u001b[33m0.031250000008525\u001b[39m"
      ]
     },
     "execution_count": 31,
     "metadata": {},
     "output_type": "execute_result"
    }
   ],
   "source": [
    "sqrt(0.0000000000008);"
   ]
  },
  {
   "cell_type": "code",
   "execution_count": 32,
   "id": "2f1af4b7-0899-4554-b543-6d3350e51c27",
   "metadata": {},
   "outputs": [
    {
     "data": {
      "text/plain": [
       "\u001b[33m0.031250000001705\u001b[39m"
      ]
     },
     "execution_count": 32,
     "metadata": {},
     "output_type": "execute_result"
    }
   ],
   "source": [
    "sqrt(0.00000000000016);"
   ]
  },
  {
   "cell_type": "markdown",
   "id": "df216edb-c0ef-4b58-a686-f77380f79e42",
   "metadata": {},
   "source": [
    "This is because the difference between `x` and the square of our guess at $\\sqrt{x}$ can be less than our hard-coded value of `0.001` and still be far from the true value of the square root."
   ]
  },
  {
   "cell_type": "markdown",
   "id": "a86b1288-5e73-41e0-9558-24279899a7ae",
   "metadata": {},
   "source": [
    "For very large numbers, our hard-coded value of `0.001` is too small to detect when we are close to the true value of the square root, so we end up with a recursion larger than the maximum call stack size."
   ]
  },
  {
   "cell_type": "code",
   "execution_count": 33,
   "id": "bf285b34-de9b-4ef5-b479-b1da63ed82ee",
   "metadata": {},
   "outputs": [
    {
     "ename": "RangeError",
     "evalue": "Maximum call stack size exceeded",
     "output_type": "error",
     "traceback": [
      "Stack trace:",
      "RangeError: Maximum call stack size exceeded",
      "    at is_good_enough (<anonymous>:1:1)",
      "    at sqrt_iter (<anonymous>:1:1)",
      "    at sqrt_iter (<anonymous>:1:1)",
      "    at sqrt_iter (<anonymous>:1:1)",
      "    at sqrt_iter (<anonymous>:1:1)",
      "    at sqrt_iter (<anonymous>:1:1)",
      "    at sqrt_iter (<anonymous>:1:1)",
      "    at sqrt_iter (<anonymous>:1:1)",
      "    at sqrt_iter (<anonymous>:1:1)",
      "    at sqrt_iter (<anonymous>:1:1)"
     ]
    }
   ],
   "source": [
    "sqrt(10**10**2);"
   ]
  },
  {
   "cell_type": "markdown",
   "id": "2dc76be2-00ce-4970-a4d9-4f55521b214d",
   "metadata": {},
   "source": [
    "See better phrasing of my answers here: https://mk12.github.io/sicp/exercise/1/1.html#ex1.7\n",
    "> The `is_good_enough` predicate does not work well for small numbers because the tolerance is fixed. If the number is smaller than the tolerance, the result will be hopelessly inaccurate, like measuring an atom with a yard stick. It is also inadequate for very large numbers. With limited precision, it is impossible to represent small differences between large numbers. This means the algorithm might never terminate, because the guess never satisfies `is_good_enough` no matter how many times `improve` is called."
   ]
  },
  {
   "cell_type": "markdown",
   "id": "da4a0533-1e2f-455e-9a38-56c704ec536e",
   "metadata": {},
   "source": [
    "An alternative strategy for implementing `is_good_enough` is to watch how guess changes from one iteration to the next and to stop when the change is a very small fraction of the guess. Design a square-root function that uses this kind of end test. Does this work better for small and large numbers?"
   ]
  },
  {
   "cell_type": "code",
   "execution_count": 34,
   "id": "d3c3d0b4-37af-471f-82ef-4cae6c4548d2",
   "metadata": {},
   "outputs": [],
   "source": [
    "function is_good_enough2(guess, last_guess) {\n",
    "    return abs(guess - last_guess) / guess < 0.001;\n",
    "}"
   ]
  },
  {
   "cell_type": "code",
   "execution_count": 35,
   "id": "70378a2b-2ed6-4e1b-a44e-96d8ce317115",
   "metadata": {},
   "outputs": [],
   "source": [
    "function sqrt_iter2(guess, x) {\n",
    "    return is_good_enough2(improve(guess, x), guess)\n",
    "           ? guess\n",
    "           : sqrt_iter2(improve(guess, x), x);\n",
    "}"
   ]
  },
  {
   "cell_type": "code",
   "execution_count": 36,
   "id": "e56f03f9-5a7f-4538-b9d9-8b8f34cb0761",
   "metadata": {},
   "outputs": [],
   "source": [
    "function sqrt3(x) {\n",
    "    return sqrt_iter2(1, x);\n",
    "}"
   ]
  },
  {
   "cell_type": "markdown",
   "id": "0f74270a-cf19-492a-a5f8-4ab6f5a1875d",
   "metadata": {},
   "source": [
    "For small numbers, we now get a much more accurate guess. So, yes it works better overall."
   ]
  },
  {
   "cell_type": "code",
   "execution_count": 37,
   "id": "9717aff5-9178-4cfe-853a-c677a976bddc",
   "metadata": {},
   "outputs": [
    {
     "data": {
      "text/plain": [
       "\u001b[33m8.944277349423199e-7\u001b[39m"
      ]
     },
     "execution_count": 37,
     "metadata": {},
     "output_type": "execute_result"
    }
   ],
   "source": [
    "sqrt3(0.0000000000008);"
   ]
  },
  {
   "cell_type": "code",
   "execution_count": 38,
   "id": "b3f8f14a-9f97-4541-9cc8-85ffd2502d63",
   "metadata": {},
   "outputs": [
    {
     "data": {
      "text/plain": [
       "\u001b[33m4.00001186011135e-7\u001b[39m"
      ]
     },
     "execution_count": 38,
     "metadata": {},
     "output_type": "execute_result"
    }
   ],
   "source": [
    "sqrt3(0.00000000000016);"
   ]
  },
  {
   "cell_type": "markdown",
   "id": "2777d711-9cc7-49da-90cf-55d18bb05e9a",
   "metadata": {},
   "source": [
    "For large numbers, it works in the sense that it terminates. But the estimate is not as precise compared to small numbers because a \"small\" change in the difference between guesses, relative to the guess itself, can still be quite large for these large numbers."
   ]
  },
  {
   "cell_type": "code",
   "execution_count": 39,
   "id": "b7ba5bc8-9d78-4410-a80f-703a39fa6533",
   "metadata": {},
   "outputs": [
    {
     "data": {
      "text/plain": [
       "\u001b[33m1.000000633105179e+50\u001b[39m"
      ]
     },
     "execution_count": 39,
     "metadata": {},
     "output_type": "execute_result"
    }
   ],
   "source": [
    "sqrt3(10 ** 10 ** 2);"
   ]
  },
  {
   "cell_type": "markdown",
   "id": "45708fe9-fc08-4661-a914-ceb2e6d3f4ed",
   "metadata": {},
   "source": [
    "#### Exercise 1.8\n",
    "Newton’s method for cube roots is based on the fact that if $y$ is an approximation to the cube root of $x$, then a better approximation is given by the value\n",
    "\n",
    "$$\n",
    "\\frac{x/y^2 + 2y}{3}\n",
    "$$\n",
    "\n",
    "Use this formula to implement a cube-root function analogous to the square-root function."
   ]
  },
  {
   "cell_type": "code",
   "execution_count": 40,
   "id": "c3e9adb4-d475-4c9c-aa6f-ef29d803ad1e",
   "metadata": {},
   "outputs": [],
   "source": [
    "function improve_cubrt(guess, x) {\n",
    "    return ((x / guess ** 2) + 2 * guess) / 3\n",
    "}"
   ]
  },
  {
   "cell_type": "code",
   "execution_count": 41,
   "id": "538f7a6a-cebb-4655-a5d5-4c8324f57529",
   "metadata": {},
   "outputs": [],
   "source": [
    "function cubrt_iter(guess, x) {\n",
    "    return is_good_enough2(improve_cubrt(guess, x), guess)\n",
    "           ? guess\n",
    "           : cubrt_iter(improve_cubrt(guess, x), x);\n",
    "}"
   ]
  },
  {
   "cell_type": "code",
   "execution_count": 42,
   "id": "4f661e55-de28-454b-b995-bb86fd393928",
   "metadata": {},
   "outputs": [],
   "source": [
    "function cubrt(x) {\n",
    "    return cubrt_iter(1, x);\n",
    "}"
   ]
  },
  {
   "cell_type": "code",
   "execution_count": 43,
   "id": "06520c1c-9075-41c6-9a38-64cc99f6bd63",
   "metadata": {},
   "outputs": [
    {
     "data": {
      "text/plain": [
       "\u001b[33m3.001274406506175\u001b[39m"
      ]
     },
     "execution_count": 43,
     "metadata": {},
     "output_type": "execute_result"
    }
   ],
   "source": [
    "cubrt(27);"
   ]
  },
  {
   "cell_type": "markdown",
   "id": "35caa2e1-2cdc-4b33-aed3-431c28dfc380",
   "metadata": {},
   "source": [
    "### 1.1.8 Functions as Black-Box Abstractions\n",
    "\n",
    "The function `sqrt` is our first example of a process defined by a set of mutually defined functions. Note that `sqrt_iter` is *recursive*: the function is defined in terms of itsefl. We address how this works more carefully in section 1.2. First let us consider some other points illustrated by the `sqrt` example.\n",
    "\n",
    "Observe that the problem of computing square roots breaks up naturally into a number of subproblems. Each of these is accomplished by a separate function. The entire `sqrt` program can be viewed as a tree of functions, shown in figure 1.2, that mirrors the decomposition of the problem into subproblemns.\n",
    "\n",
    "![fig 1.2](./figs/fig1.2.png)"
   ]
  },
  {
   "cell_type": "markdown",
   "id": "01b757e6-e277-4c46-a268-d65f09ff4563",
   "metadata": {},
   "source": [
    "What is important in this decomposition strategy is that each function accomplishes an identifiable task that can be used as a module in defining other functions. For example, when we define the `is_good_enough` function in terms of `square`, we regard the `square` function as a black box. As we define `is_good_enough`, we are not concerned with *how* the `square` function computes its result, only with the fact *that* it computes the square. We can ignore the details of *how* for now. As far as the `is_good_enough` function is concerned, `square` is a *functional abstraction*. At this level of abstraction, *any* function that computes the square is equally good. Thus the following two functions `square` are indistinguishable.\n",
    "\n",
    "```javascript\n",
    "function square(x) {\n",
    "    return x * x;\n",
    "}\n",
    "\n",
    "function double(x) {\n",
    "    return x + x;\n",
    "}\n",
    "\n",
    "function square(x) {\n",
    "    return math_exp(double(math_log(x)));\n",
    "}\n",
    "```"
   ]
  },
  {
   "cell_type": "markdown",
   "id": "6c6aaaf3-d3af-43c8-8ccd-097533458e80",
   "metadata": {},
   "source": [
    "So: a function should be able to suppress detail. Users of a function may not have written it themselves, but may have obtained it from another programmer as a black box. A user should not need to know how the function is implemented in order to use it."
   ]
  },
  {
   "cell_type": "markdown",
   "id": "fcedad05-3d3a-4c32-80ba-e9ec22782557",
   "metadata": {},
   "source": [
    "#### Local names\n",
    "\n",
    "One detail of a function's implementation that should not affect users of the function is the names that the implementer of the function chooses for the parameters. Thus, from the point of the view of a user's program, the following functions should not be distinguishable:\n",
    "\n",
    "```javascript\n",
    "function square(x) {\n",
    "    return x * x;\n",
    "}\n",
    "\n",
    "function square(y) {\n",
    "    return y * y;\n",
    "}\n",
    "```\n",
    "\n",
    "The principle that the result of a function should not depend on parameter names may seem self-evident, but its consequences are profound. The simplest consequence is that parameter names of a function must be local to the body of the function.\n",
    "\n",
    "Notice that the function `is_good_enough` has two parameters, `guess` and `x`.\n",
    "\n",
    "```javascript\n",
    "function is_good_enough(guess, x) {\n",
    "    return abs(square(guess) - x) < 0.0001;\n",
    "}\n",
    "```\n",
    "\n",
    "The function `square`, that we use to write `is_good_enough` also has an argument `x`.\n",
    "\n",
    "```javascript\n",
    "function square(x) {\n",
    "    return x * x;\n",
    "}\n",
    "```\n",
    "\n",
    "We see that the `x` in `is_good_enough` *must* be a different `x` than the one in `square`. Running the function `square` must not affect the value of `x` that is used by `is_good_enough`, because that value of `x` may be needed by `is_good_enough` after `square` is done computing.  \n",
    "If parameters were not local to the bodies of their respective functions, then the parameter `x` in square could be confused with the parameter `x` in `is_good_enough`, and the behavior of `is_good_enough` would depend on which version of `square` we used. If this were true, `square` would not be the black box we desire."
   ]
  },
  {
   "cell_type": "markdown",
   "id": "fe52a436-39b5-498b-9d84-6acccf25b372",
   "metadata": {},
   "source": [
    "In order to for functions to work as black boxes, the names of parameters must be *bound*. We say that a function declaration *binds* its parameters. This means that a function declaration is unchanged if a bound name is consistently renamed throughout the declaration, i.e. if you declare a function with parameter `x` and you change that name to `y` along with every occurrence of `x` in the body of the function. If a name is not bound, we say it is *free*. The set of statements for which a binding declares a name is called the *scope* of that name. In a function declaration, the bound names declared as the parameters of the function have the body of the function as their scope.\n",
    "\n",
    "In the declaration of `is_good_enough` above, `guess` and `x` are bound names, but `abs` and `square` are free. The meaning of `is_good_enough` should be independent of the names we choose for `guess` and `x` so long as they are distinct and different from `abs` and `square`."
   ]
  },
  {
   "cell_type": "markdown",
   "id": "fa42bc02-d259-4cbe-b54d-5109aba97e48",
   "metadata": {},
   "source": [
    "#### Internal declarations and block structure\n",
    "\n",
    "We have one kind of name isolation available to us so far: the parameters of a function are local to the body of the function.\n",
    "\n",
    "The square root program illustrates another way in which we would like to control the use of names. The existing program consistes of separate functions:\n",
    "\n",
    "```javascript\n",
    "function sqrt(x) {\n",
    "    return sqrt_iter(1, x); \n",
    "} \n",
    "\n",
    "function sqrt_iter(guess, x) {\n",
    "    return is_good_enough(guess, x) \n",
    "            ? guess \n",
    "            : sqrt_iter(improve(guess, x), x); \n",
    "}\n",
    "\n",
    "function is_good_enough(guess, x) {\n",
    "    return abs(square(guess) - x) < 0.001; \n",
    "}\n",
    "\n",
    "function improve(guess, x) {\n",
    "    return average(guess, x / guess); \n",
    "}\n",
    "```\n",
    "\n",
    "The problem with this program is that the only function that is important to users of `sqrt` is `sqrt`. The other functions only clutter up their minds. They may not declare any other function called `is_good_enough` as part of another program, because `sqrt` needs that name. This problem is especially severe in the construction of large systems by many separate programmers. For example, in the construction of a large library of numerical functions, many are computed as successive approximations and thus might have functions named `is_good_enough` and `improve` as auxiliary functions. We would like to localize the subfunctions, hiding them inside `sqrt` so that `sqrt` could coexist with other successive approximations, each having its own private `is_good_enough` function.\n",
    "\n",
    "To make this possible, we allow a function to have internal declarations that are local that function. For example, we can write `sqrt` as:\n",
    "\n",
    "```javascript\n",
    "function sqrt(x) {\n",
    "    function is_good_enough(guess, x) {\n",
    "        return abs(square(guess) - x) < 0.001; \n",
    "    }\n",
    "    \n",
    "    function improve(guess, x) {\n",
    "        return average(guess, x / guess); \n",
    "    }\n",
    "        return sqrt_iter(1, x); \n",
    "    } \n",
    "    function sqrt_iter(guess, x) {\n",
    "        return is_good_enough(guess, x) \n",
    "                ? guess \n",
    "                : sqrt_iter(improve(guess, x), x); \n",
    "    }\n",
    "    return sqrt_iter(1, x);\n",
    "}\n",
    "```\n",
    "\n",
    "Any matching pair of braces designates a *block*, and declarations inside a block are local to that block. Such nesting of declarations, called *block structure*, is basically the right solution to the simplest name-packaging problem. But there is a better idea lurking here."
   ]
  },
  {
   "cell_type": "markdown",
   "id": "d730d705-b7f2-4c11-85d4-4907698652ad",
   "metadata": {},
   "source": [
    "In addition to internalizing the declarations of auxiliary functions, we can simply them. Since `x` is bound in the declaration of `sqrt`, the functions declared internally to `sqrt` are in the scope of `x`. So it is not necessary to pass `x` explicitly to each of these functions. Instead, we allow `x` to be a free name in the internal declarations, as shown below. Then `x` gets its value from the argument with which the enclosing function `sqrt` is called. This discipline is called *lexical scoping*.\n",
    "\n",
    "```javascript\n",
    "function sqrt(x) {\n",
    "    function is_good_enough(guess) {\n",
    "        return abs(square(guess) - x) < 0.001; \n",
    "    }\n",
    "    \n",
    "    function improve(guess) {\n",
    "        return average(guess, x / guess); \n",
    "    }\n",
    "        return sqrt_iter(1, x); \n",
    "    } \n",
    "    function sqrt_iter(guess) {\n",
    "        return is_good_enough(guess, x) \n",
    "                ? guess \n",
    "                : sqrt_iter(improve(guess, x), x); \n",
    "    }\n",
    "    return sqrt_iter(1);\n",
    "}\n",
    "```\n",
    "\n",
    "We will use block structure extensively to help us break up large programs into tractable pieces. The idea of block structure originated with the programming language Algol 60. It appears in most advanced programming languages and is an important tool for helping to organize the construction of large programs."
   ]
  },
  {
   "cell_type": "markdown",
   "id": "63ce6118-21b4-4128-abe1-94e50bb71e6d",
   "metadata": {},
   "source": [
    "## 1.2 Functions and the processes they generate\n",
    "\n",
    "A function is a pattern for the *local evolution* of a computational process. We would like to be able to make statements about the overall, *global*, behavior of a process whose local evolution has been specified by a function. This is very difficult in general, but we can at least describe some typical patterns of process evolution.\n",
    "\n",
    "We do so here. We also investigate the rates at which these processes consume the important computational resources of time and sapce. The functions we consider are very simple. Their role is like that played by test patterns in photography: as oversimplified prototypical patterns, rather than practical examples in their own right."
   ]
  },
  {
   "cell_type": "markdown",
   "id": "4ea22c30-3534-4def-9a61-873ca88440e5",
   "metadata": {},
   "source": [
    "### 1.2.1 Linear Recursion and Iteration\n",
    "\n",
    "We begin by considering the factorial function\n",
    "\n",
    "$$\n",
    "n! = n \\cdot (n - 1) \\cdot (n - 2) \\dots 3 \\cdot 2 \\cdot 1\n",
    "$$\n",
    "\n",
    "There are many ways to compute factorials. One way is to make use of the observation that $n!$ is equal to $n$ times $(n -1)!$ for any positive integer $n$:\n",
    "\n",
    "$$\n",
    "n! = n \\cdot [(n - 1) \\cdot (n - 2) \\dots 3 \\cdot 2 \\cdot 1] = n \\cdot (n - 1)!\n",
    "$$\n",
    "\n",
    "Thus we can compute $n!$ by computing $(n - 1)!$ and multiplying the result by $n$. If we add the stipulation that $1!$ is equal to $1$, this observation translates directly into a computer function:\n",
    "\n",
    "```javascript\n",
    "function factorial(n) {\n",
    "    return n === 1\n",
    "           ? 1\n",
    "           : n * factorial(n - 1);\n",
    "}\n",
    "```\n",
    "\n",
    "We can use the substitution model of section 1.1.5 to watch this function in action computing $6!$, as shown in figure 1.3.\n",
    "\n",
    "![fig 1.3](./figs/fig1.3.png)"
   ]
  },
  {
   "cell_type": "markdown",
   "id": "8883e1b3-188b-47c2-ad25-577e6b4298cd",
   "metadata": {},
   "source": [
    "Now let's take a different perspective. We could also describe a rule for computing $n!$ by specifying that we first multiply 1 by 2, then multiply the result by 3, then by 4, and so on until we reach $n$. More formally, we maintain a running product, together with a counter that counts from 1 up to $n$. We can describe the computation by saying that the counter and the product simultaneously change from one step to the next according to the rule\n",
    "\n",
    "$$\n",
    "\\begin{align}\n",
    "\\text{product} &\\leftarrow \\text{counter} \\cdot \\text{product} \\\\\n",
    "\\text{counter} &\\leftarrow \\text{counter} + 1\n",
    "\\end{align}\n",
    "$$\n",
    "\n",
    "and stipulating that $n!$ is the value of the product when the counter exceeds $n$.\n",
    "\n",
    "As before, we can write this description as a computer function:\n",
    "\n",
    "```javascript\n",
    "function factorial(n) {\n",
    "    return fact_iter(1, 1, n);\n",
    "}\n",
    "function fact_iter(product, counter, max_count) {\n",
    "    return counter > max_count\n",
    "           ? product\n",
    "           ? fact_iter(counter * product,\n",
    "                       counter + 1,\n",
    "                       max_count);\n",
    "}\n",
    "```\n",
    "\n",
    "And again we can use the substitution model to visualize the process of computing $6!$, as shown in figure 1.4.\n",
    "\n",
    "![fig 1.4](./figs/fig1.4.png)"
   ]
  },
  {
   "cell_type": "markdown",
   "id": "4e24bdb7-4a07-4c36-9a23-ac45434c1f7f",
   "metadata": {},
   "source": [
    "Consider again the first process. The substitution model reveals a shape of expansion followed by contraction, indicated by the arrow in figure 1.3. The expansion occurs as the process builds up a chain of *deferred operations* (in this case, a chain of multiplications). The contraction occurs as the operations are actually performed. This type of process, characterized by a chain of deferred operations, is called a *recursive process*. It requires that the interpreter keep track of the operations to be performed later on. In the computation of $n!$, the length of the chain of deferred multiplications, and hence the amount of information needed to keep track of it, grows linearly with $n$ (\"is proportial to $n$\"), just like the number of steps. Such a process is called a *linear recursive process*."
   ]
  },
  {
   "cell_type": "markdown",
   "id": "b0d8a44d-3722-49f6-b24a-343b5b7ff2c3",
   "metadata": {},
   "source": [
    "By contrast, the second process does not grow and shrink. At each step, all we need to keep track of are the current values for the names `product`, `counter`, and `max_count`. We call this an *iterative process*. In general, an iterative process is one whose sstate can be summarized by a fixed number of *state variables*, together with a fixed rule that describes how the state variables should be updated as the process moves from state to state and an (optional) end test that specifies conditions under which the process should terminate. In computing $n!$ this way, the number of steps required grows linearly with $n$. Such a process is called a *linear iterative process*."
   ]
  },
  {
   "cell_type": "markdown",
   "id": "955c27e1-0eee-4673-a56b-ea1feae56e47",
   "metadata": {},
   "source": [
    "We can think of the difference between these two processes another way. In the iterative case, the state variables provide a comple description of the state of the process at any point. We can stop at any step and then resume later as long as we supply the interpreter with the values of the three state variables. Not so with the recursive process. In this case, there is additional \"hidden\" information not contained in the state variables that is instead maintained by the interpreter. That information indicates where the process is in negotiating the chain of deferred operations. Later we will see this uses an auxiliary data structure known as a *stack*."
   ]
  },
  {
   "cell_type": "markdown",
   "id": "d3b12e80-bccd-47e4-b64e-4e954003ad34",
   "metadata": {},
   "source": [
    "Notice there is a difference between a recursive *process* and a recursive *function*. The latter name refers to the syntactic fact that the function declaration refers to the function itself, either directly or indirectyl. When we describe a process that is, for example, linearly recursive, we are talking about how the process evolves, not about the syntax of how a function is written. This means a recursive function can generate an iterative process, as confusing as that may be. As long as the state is captured completely by the variables, then the process is iterative, even if the function is syntactically recursive."
   ]
  },
  {
   "cell_type": "markdown",
   "id": "ffd88902-5a5b-48ae-b23d-4ac1d6473f3a",
   "metadata": {},
   "source": [
    "Most implementations of common languages are designed in such a way that the interpretation of any recursive function consumes an amount of memroy that grows with the number of function calls, even when the process described is, in principle, iterative. As a consequence, these langauges can describe iterative processes only by resorting to special-purpose looping constructs such as `do`, `repeat`, `for`, and `while`. In chapter 5 we consider an implementation of JavaScript that instead executes an iterative process in constant spcae, even if the iterative process is described by a recursive function. An implementation with this property is called *tail-recursive*."
   ]
  },
  {
   "cell_type": "markdown",
   "id": "1b1b48d1-8ab2-455a-98fa-67c3c4b758af",
   "metadata": {},
   "source": [
    "#### Exercise 1.9\n",
    "\n",
    "Each of the following two functions defines a method for adding two positive integers in terms of the functions `inc`, which increments its argument by 1, and `dec`, which decrements its argument by 1.\n",
    "\n",
    "```javascript\n",
    "function plus(a, b) {\n",
    "    return a === 0 ? b : inc(plus(dec(a), b));\n",
    "}\n",
    "\n",
    "function plus(a, b) {\n",
    "    return a === 0 ? b : plus(dec(a), inc(b));\n",
    "}\n",
    "```\n",
    "\n",
    "Using the substitution model, illustrate the process generated by each function in evaluating `plus(4, 5);`. Are these processes iterative or recursive?\n",
    "\n",
    "Function 1:\n",
    "```\n",
    "plus(4, 5)\n",
    "inc(plus(3, 5))\n",
    "inc(plus(2, 5))\n",
    "inc(plus(1, 5))\n",
    "inc(plus(0, 5))\n",
    "6\n",
    "7\n",
    "8\n",
    "9\n",
    "```\n",
    "\n",
    "This is recursive because we have to keep a stack of the calls to `inc(plus(dec(a), b))`.\n",
    "\n",
    "Function 2:\n",
    "```\n",
    "plus(4, 5)\n",
    "plus(3, 6)\n",
    "plus(2, 7)\n",
    "plus(1, 8)\n",
    "plus(0, 9)\n",
    "9\n",
    "```\n",
    "\n",
    "This is iterative; we just return the result of the last call to `plus(dec(a), inc(b))`."
   ]
  },
  {
   "cell_type": "markdown",
   "id": "7b5c6518-7560-4a0e-b388-616dc58420dd",
   "metadata": {},
   "source": [
    "#### Exercise 1.10\n",
    "\n",
    "The following function computes a mathematical function called Ackermann’s function."
   ]
  },
  {
   "cell_type": "code",
   "execution_count": 44,
   "id": "9a36e668-99aa-4a07-a5b1-c161a86b4abe",
   "metadata": {},
   "outputs": [],
   "source": [
    "function A(x, y) {\n",
    "    return y === 0\n",
    "           ? 0\n",
    "           : x === 0\n",
    "           ? 2 * y\n",
    "           : y === 1\n",
    "           ? 2\n",
    "           : A(x - 1, A(x, y - 1));\n",
    "}"
   ]
  },
  {
   "cell_type": "markdown",
   "id": "cab68e8f-17dd-42f0-a9bf-b53afdc36876",
   "metadata": {},
   "source": [
    "What are the values of the following statements?"
   ]
  },
  {
   "cell_type": "code",
   "execution_count": 45,
   "id": "a8b8fc5b-d0e9-402d-8ed0-14c67ab4329b",
   "metadata": {},
   "outputs": [
    {
     "data": {
      "text/plain": [
       "\u001b[33m1024\u001b[39m"
      ]
     },
     "execution_count": 45,
     "metadata": {},
     "output_type": "execute_result"
    }
   ],
   "source": [
    "A(1, 10);"
   ]
  },
  {
   "cell_type": "code",
   "execution_count": 46,
   "id": "6f04dd43-f00e-4b70-bfe0-9f35545a8777",
   "metadata": {},
   "outputs": [
    {
     "data": {
      "text/plain": [
       "\u001b[33m65536\u001b[39m"
      ]
     },
     "execution_count": 46,
     "metadata": {},
     "output_type": "execute_result"
    }
   ],
   "source": [
    "A(2, 4);"
   ]
  },
  {
   "cell_type": "code",
   "execution_count": 47,
   "id": "50e9d290-8da0-4027-81e4-13bcb8a08c71",
   "metadata": {},
   "outputs": [
    {
     "data": {
      "text/plain": [
       "\u001b[33m65536\u001b[39m"
      ]
     },
     "execution_count": 47,
     "metadata": {},
     "output_type": "execute_result"
    }
   ],
   "source": [
    "A(3, 3);"
   ]
  },
  {
   "cell_type": "markdown",
   "id": "112eb755-81c9-4cc5-875f-e36ea3d9045e",
   "metadata": {},
   "source": [
    "Consider the following functions, where `A` is the function declared above:"
   ]
  },
  {
   "cell_type": "code",
   "execution_count": 48,
   "id": "7cd97633-c1e0-4791-946b-0e2fb71660f2",
   "metadata": {},
   "outputs": [],
   "source": [
    "function f(n) {\n",
    "    return A(0, n);\n",
    "}"
   ]
  },
  {
   "cell_type": "code",
   "execution_count": 49,
   "id": "593556ed-d7b3-41f8-b057-7ae3d90fe8a8",
   "metadata": {},
   "outputs": [],
   "source": [
    "function g(n) {\n",
    "    return A(1, n);\n",
    "}"
   ]
  },
  {
   "cell_type": "code",
   "execution_count": 50,
   "id": "1e779da6-3ae2-46f1-becf-511f2250b48e",
   "metadata": {},
   "outputs": [],
   "source": [
    "function h(n) {\n",
    "    return A(2, n);\n",
    "}"
   ]
  },
  {
   "cell_type": "code",
   "execution_count": 51,
   "id": "c487085e-3449-4e46-a5e7-8d8aa61371d9",
   "metadata": {},
   "outputs": [],
   "source": [
    "function k(n) {\n",
    "    return 5 * n * n;\n",
    "}"
   ]
  },
  {
   "cell_type": "markdown",
   "id": "73c12250-6eb8-408d-a309-04ab1089ba3a",
   "metadata": {},
   "source": [
    "Give concise mathematical definitions for the functions computed by the functions `f`, `g`, and `h` for positive integer values of $n$. For example, `k(n)` computes $5n^2$."
   ]
  },
  {
   "cell_type": "markdown",
   "id": "4b84e586-d292-4273-a8f7-e4a9ab4bef96",
   "metadata": {},
   "source": [
    "> `f(n)` computes $2n$\n",
    ">\n",
    "> `g(n)` computes $2^n$\n",
    ">\n",
    "> `h(n)` computes ${}^n2$ (this is [tetration](https://en.wikipedia.org/wiki/Tetration))"
   ]
  },
  {
   "cell_type": "markdown",
   "id": "7789bb84-55a2-4c65-a23c-9e9dc5ff7810",
   "metadata": {},
   "source": [
    "### 1.2.2 Tree Recursion\n",
    "\n",
    "Another common pattern of computation is called *tree recursion*. As an example, consider computing the sequence of Fibonacci numbers, in which each number is the sum of the preceding two:\n",
    "\n",
    "$$\n",
    "0, 1, 1, 2, 3, 5, 8, 13, 21, \\dots\n",
    "$$\n",
    "\n",
    "In general, the Fibonacci numbers can be defined by the rule\n",
    "\n",
    "$$\n",
    "\\text{Fib}(n) = \n",
    "\\begin{cases}\n",
    "&0 &\\text{if } n=0 \\\\\n",
    "&1 &\\text{if } n=1 \\\\\n",
    "&\\text{Fib}(n -1) + \\text{Fib}(n - 2) &\\text{otherwise} \\\\\n",
    "\\end{cases}\n",
    "$$\n",
    "\n",
    "We can immediately tranlsate this definition into a recursive functino for computing Fibonacci numbers:"
   ]
  },
  {
   "cell_type": "code",
   "execution_count": 52,
   "id": "d5bf0e46-ade9-4beb-96b9-b460df48fe6b",
   "metadata": {},
   "outputs": [],
   "source": [
    "function fib(n) {\n",
    "    return n === 0\n",
    "           ? 0\n",
    "           : n === 1\n",
    "           ? 1\n",
    "           : fib(n - 1) + fib(n - 2);\n",
    "}"
   ]
  },
  {
   "cell_type": "markdown",
   "id": "1344815b-1a22-483c-a252-648ba3fcb3ee",
   "metadata": {},
   "source": [
    "Consider the pattern of this computation. To compute `fib(5)`, we compute `fib(4)` and `fib(3)`. To compute `fib(4)`, we compute `fib(3)` and `fib(2)`. In general, the evolved process looks like a tree, as shown in figure 1.5. Notice that the branches split into two at each level (except at the bottom); this reflects the fact that the `fib` function calls itself twice each time it is invoked.\n",
    "\n",
    "![fig 1.5](./figs/fig1.5.png)"
   ]
  },
  {
   "cell_type": "markdown",
   "id": "5176d8ed-b8b0-483a-916c-95b421118eba",
   "metadata": {},
   "source": [
    "This function is instructive as a prototypical tree recusion, but it is a terrible way to cmpute Fibonacci numbers because it does so much redundant computation. Notice in figure 1.5 that the entire computation of `fib(3)`--almost half the work--is duplicated. It is not hard to show that the number of times the function will compute `fib(1)` or `fib(0)`, the number of leaves in the tree, is precisely $\\text{Fib}(n + 1)$.\n",
    "\n",
    "Thus, the process uses a number of steps that grows exponentially with the input. On the other hand, the space required grows only linearly with the input, because we need keep track only of which nodes are above us in the tree at any point in the computation. In general, the number of steps required by a tree-recursive process will be proportional to the number of nodes in the tree, while the space required will be proportional to the maximum depth of the tree."
   ]
  },
  {
   "cell_type": "markdown",
   "id": "6a35065d-fb6a-4fdb-b54f-d87010184c4e",
   "metadata": {},
   "source": [
    "We can also formulate an iterative process for computing the Fibonacci numbers. The idea is to use a pair of integers $a$ and $b$, initialized to $\\text{Fib}(1) = 1$ and $\\text{Fib}(0) = 0$, and to repeatedly apply the simultaneous transformations\n",
    "\n",
    "$$\n",
    "\\begin{align}\n",
    "a &\\leftarrow a + b \\\\\n",
    "b &\\leftarrow a\n",
    "\\end{align}\n",
    "$$\n",
    "\n",
    "It is not hard to show that, after applying this transformation $n$ times, $a$ and $b$ will be equal, respectively, to $\\text{Fib}(n + 1)$ and $\\text{Fib}(n)$... Thus, we can compute Fibonacci numbers tieratively using the function"
   ]
  },
  {
   "cell_type": "code",
   "execution_count": 53,
   "id": "4f34d650-ceab-4c15-b9ef-774a86b07518",
   "metadata": {},
   "outputs": [],
   "source": [
    "function fib(n) {\n",
    "    return fib_iter(1, 0, n);\n",
    "}\n",
    "function fib_iter(a, b, count) {\n",
    "    return count === 0\n",
    "           ? b\n",
    "           : fib_iter(a + b, a, count - 1);\n",
    "}"
   ]
  },
  {
   "cell_type": "markdown",
   "id": "af183a74-b302-4b80-baed-15ac2492b6e8",
   "metadata": {},
   "source": [
    "This second method for computing $\\text{Fib}(n)$ is a linear iteration. The difference in number of steps required by the two methods--one linear in $n$, one growing as fast as $\\text{Fib}(n)$ itself--is enormous, even for small outputs."
   ]
  },
  {
   "cell_type": "markdown",
   "id": "407cc62b-1417-4fc5-af9a-ca65b35c60ee",
   "metadata": {},
   "source": [
    "One should not conclude from this that tree-recursive processes are useless. When we consider processes that operate on hierarchically srtuctured data rather than numbers, we will find that tree recursion is a natural and powerful tool. But even in numerical operations, tree-recursive processes can be useful in helping us to understand and design programs. In our example of the Fibonacci sequence, even though the first `fib` function is much less efficient than the second one, it is straightforward, being little more than a translation into JavaScript of the definition of a Fibonacci sequence. To formulate the iterative algorithm required noticing that the computation could be recast as an iteration with three state variables."
   ]
  },
  {
   "cell_type": "markdown",
   "id": "3d07f7b0-464e-436b-84fa-d3eef87e2950",
   "metadata": {},
   "source": [
    "#### Example: Counting change\n",
    "\n",
    "Consider the following problem: How many different ways can we make change of $1.00 (100 cents), given half-dollars, quarters, dimes, nickels, and pennies (50 cents, 25 cents, 10 cents, 5 cents, and 1 cent, respectively)? More generally, can we write a function to compute the number of ways to change any given amount of money?"
   ]
  },
  {
   "cell_type": "markdown",
   "id": "914844f9-bda4-4c16-979a-ef9ac9118097",
   "metadata": {},
   "source": [
    "This problem has a simple solution as a recursive function. Suppose we think of the types of coins available as arranged in some order. Then the following relation holds: \n",
    "The number of ways to change amount $a$ using $n$ kinds of coins equals\n",
    "- the number of ways to change amount $a$ using all but the first kind of coin, plus\n",
    "- the number of ways to change amount $a – d$ using all $n$ kinds of coins, where $d$ is the denomination of the first kind of coin."
   ]
  },
  {
   "cell_type": "markdown",
   "id": "8adb003d-3e80-4ca4-8883-32ffd86995dc",
   "metadata": {},
   "source": [
    "To see why this is true, observe that the ways to make change can be divided into two groups: those that do not use any of the first kind of coin, and those that do. Therefore, the total number of ways to make change for some amount is equal to the number of ways to make change for the amount without using any of the first kind of coin, plus the number of ways to make change assuming that we do use the first kind of coin. But the latter number is equal to the number of ways to make change for the amount that remains after using a coin of the first kind."
   ]
  },
  {
   "cell_type": "markdown",
   "id": "6c9d3b5e-a06c-4747-8062-450a685aa73f",
   "metadata": {},
   "source": [
    "Thus, we can recursively reduce the problem of changing a given amount to problems of changing smaller amounts or using fewer kinds of coins. Consider this reduction rule carefully, and convince yourself that we can use it to describe an algorithm if we specify the following degenerate cases:  \n",
    "\n",
    "- If $a$ is exactly 0, we should count that as 1 way to make change.\n",
    "- If $a$ is less than 0, we should count that as 0 ways to make change.\n",
    "- If $n$ is 0, we should count that as 0 ways to make change.\n",
    "\n",
    "We can easily translate this description into a recursive function:"
   ]
  },
  {
   "cell_type": "code",
   "execution_count": 54,
   "id": "e2644116-2290-4771-87c0-8b31613d3399",
   "metadata": {},
   "outputs": [],
   "source": [
    "function count_change(amount) {\n",
    "    return cc(amount, 5);\n",
    "}\n",
    "function cc(amount, kinds_of_coins) {\n",
    "    return amount === 0\n",
    "           ? 1\n",
    "           : amount < 0 || kinds_of_coins === 0\n",
    "           ? 0\n",
    "           : cc(amount, kinds_of_coins - 1)\n",
    "             +\n",
    "             cc(amount - first_denomination(kinds_of_coins),\n",
    "                kinds_of_coins);\n",
    "}\n",
    "function first_denomination(kinds_of_coins) {\n",
    "    return kinds_of_coins === 1 ? 1\n",
    "         : kinds_of_coins === 2 ? 5\n",
    "         : kinds_of_coins === 3 ? 10\n",
    "         : kinds_of_coins === 4 ? 25\n",
    "         : kinds_of_coins === 5 ? 50\n",
    "         : 0;\n",
    "}"
   ]
  },
  {
   "cell_type": "markdown",
   "id": "1ff2d81f-2c73-44fb-a978-fce11bf8eeb6",
   "metadata": {},
   "source": [
    "We can now answer our original question about changing a dollar:"
   ]
  },
  {
   "cell_type": "code",
   "execution_count": 55,
   "id": "5de4e60f-3fd6-4240-a850-79e3a0c79d7e",
   "metadata": {},
   "outputs": [
    {
     "data": {
      "text/plain": [
       "\u001b[33m292\u001b[39m"
      ]
     },
     "execution_count": 55,
     "metadata": {},
     "output_type": "execute_result"
    }
   ],
   "source": [
    "count_change(100);"
   ]
  },
  {
   "cell_type": "markdown",
   "id": "e9b3b18a-1b49-4466-8980-3ddb1854d5cc",
   "metadata": {},
   "source": [
    "The function `count_change` generates a tree-recursive process with redundancies similar to those in our first implementation of `fib`. On the other hand, it is not obvious how to design a better algorithm for computing the result, and we leave this problem as a challenge. The observation that a tree-recursive process may be highly inefficient but often easy to specify and understand has led people to propose that one could get the best of both worlds by designing a “smart compiler” that could transform tree-recursive functions into more efficient functions that compute the same result."
   ]
  },
  {
   "cell_type": "code",
   "execution_count": 56,
   "id": "ceb4effc-489f-4c94-93cf-cd6b33817ed1",
   "metadata": {},
   "outputs": [],
   "source": [
    "function f(n) {\n",
    "    return n < 3 ? n\n",
    "           : f(n - 1) + 2 * f(n - 2) + 3 * f(n - 3);\n",
    "}"
   ]
  },
  {
   "cell_type": "code",
   "execution_count": 57,
   "id": "f9297f69-dd4c-47ea-9867-8cc95f8d69ff",
   "metadata": {},
   "outputs": [
    {
     "data": {
      "text/plain": [
       "\u001b[33m4\u001b[39m"
      ]
     },
     "execution_count": 57,
     "metadata": {},
     "output_type": "execute_result"
    }
   ],
   "source": [
    "f(3)"
   ]
  },
  {
   "cell_type": "markdown",
   "id": "7abf4217-c9ba-4c1c-b1a6-357ce6a46581",
   "metadata": {},
   "source": [
    "#### Exercise 1.12\n",
    "\n",
    "Write a function that computes elements of Pascal’s triangle by means of a recursive process."
   ]
  },
  {
   "cell_type": "code",
   "execution_count": 58,
   "id": "208d2b2f-06fc-482b-badc-af7318818638",
   "metadata": {},
   "outputs": [],
   "source": [
    "function pascal(row, col) {\n",
    "    return col == 0 || col == row ? 1\n",
    "           : pascal(row - 1, col - 1) + pascal(row - 1, col);\n",
    "}"
   ]
  },
  {
   "cell_type": "code",
   "execution_count": 59,
   "id": "058b06e3-2e8f-4dd5-98bc-48de3ba39b80",
   "metadata": {},
   "outputs": [
    {
     "data": {
      "text/plain": [
       "\u001b[33m1\u001b[39m"
      ]
     },
     "execution_count": 59,
     "metadata": {},
     "output_type": "execute_result"
    }
   ],
   "source": [
    "pascal(3, 0);"
   ]
  },
  {
   "cell_type": "code",
   "execution_count": 60,
   "id": "65c7bc5e-ca15-4da2-9757-d057e2a5588b",
   "metadata": {},
   "outputs": [
    {
     "data": {
      "text/plain": [
       "\u001b[33m3\u001b[39m"
      ]
     },
     "execution_count": 60,
     "metadata": {},
     "output_type": "execute_result"
    }
   ],
   "source": [
    "pascal(3, 1);"
   ]
  },
  {
   "cell_type": "code",
   "execution_count": 61,
   "id": "b12e7c08-f789-46e9-82c3-7294c96a92a0",
   "metadata": {},
   "outputs": [
    {
     "data": {
      "text/plain": [
       "\u001b[33m3\u001b[39m"
      ]
     },
     "execution_count": 61,
     "metadata": {},
     "output_type": "execute_result"
    }
   ],
   "source": [
    "pascal(3, 2);"
   ]
  },
  {
   "cell_type": "code",
   "execution_count": 62,
   "id": "07200619-d2a8-4abf-b1d8-1553cdee2d6f",
   "metadata": {},
   "outputs": [
    {
     "data": {
      "text/plain": [
       "\u001b[33m1\u001b[39m"
      ]
     },
     "execution_count": 62,
     "metadata": {},
     "output_type": "execute_result"
    }
   ],
   "source": [
    "pascal(3, 3);"
   ]
  },
  {
   "cell_type": "code",
   "execution_count": 63,
   "id": "901de01b-dc63-492b-804f-40dcb52ff1da",
   "metadata": {},
   "outputs": [
    {
     "data": {
      "text/plain": [
       "\u001b[33m1\u001b[39m"
      ]
     },
     "execution_count": 63,
     "metadata": {},
     "output_type": "execute_result"
    }
   ],
   "source": [
    "pascal(0, 0);"
   ]
  },
  {
   "cell_type": "code",
   "execution_count": 64,
   "id": "d11543b3-d513-4988-bf82-9a7502738237",
   "metadata": {},
   "outputs": [
    {
     "data": {
      "text/plain": [
       "\u001b[33m1\u001b[39m"
      ]
     },
     "execution_count": 64,
     "metadata": {},
     "output_type": "execute_result"
    }
   ],
   "source": [
    "pascal(1, 0);"
   ]
  },
  {
   "cell_type": "code",
   "execution_count": 65,
   "id": "78a4a890-2bc2-426f-b30b-862d3969ca14",
   "metadata": {},
   "outputs": [
    {
     "data": {
      "text/plain": [
       "\u001b[33m1\u001b[39m"
      ]
     },
     "execution_count": 65,
     "metadata": {},
     "output_type": "execute_result"
    }
   ],
   "source": [
    "pascal(1, 1);"
   ]
  },
  {
   "cell_type": "markdown",
   "id": "024f99b7-7697-43f3-9922-e6dffe3c32d7",
   "metadata": {},
   "source": [
    "### 1.2.3 Orders of Growth\n",
    "\n",
    "The previous examples illustrate that processes can differ considerably in the rates at which they consume computational resources. One convenient way to describe this difference is to use the notion of *order of growth* to obtain a gross measure of the resources required by a process as the inputs become larger.\n",
    "\n",
    "Let $n$ be a parameter that measures the size of the problem, and let $R(n)$ be the amount of resources the process requires for a problem of size $n$. In our previous examples we took $n$ to be the number for which a given function is to be computed, but there are other possibilities. For instance, if our goal is to compute an approximation to the square root of a number, we might take $n$ to be the number of digits accuracy required.\n",
    "\n",
    "We say that $R(n)$ has order of growth $\\Theta(f(n))$, written $R(n) = \\Theta(f(n))$ (pronounced “theta of $f(n)$”), if there are positive constants $k_1$ and $k_2$ independent of $n$ such that \n",
    "\n",
    "$$\n",
    "k_1 f(n) \\le R(n) \\le k_2 f(n)\n",
    "$$\n",
    "\n",
    "for any sufficiently large value of $n$. (In other words, for large $n$, the value $R(n)$ is sandwiched between $k_1 f (n)$ and $k_2 f(n)$.)"
   ]
  },
  {
   "cell_type": "markdown",
   "id": "7fd7de98-6fed-4152-9000-bd4f7d265f50",
   "metadata": {},
   "source": [
    "Orders of growth provide only a crude description of the behavior of a process. For example, a process requiring $n^2$ steps and a process requiring $1000 n^2$ steps and a process requiring $3n^2 + 10n + 17$ steps all have $\\Theta(n^2)$ order of growth. On the other hand, order of growth provides a useful indication of how we may expect the behavior of the process to change as we change the size of the problem. For a $\\Theta(n)$ (linear) process, doubling the size will roughly double the amount of resources used. For an exponential process, each increment in problem size will multiply the resource utilization by a constant factor. In the remainder of section 1.2 we will examine two algorithms whose order of growth is logarithmic, so that doubling the problem size increases the resource requirement by a constant amount."
   ]
  },
  {
   "cell_type": "markdown",
   "id": "b4421b53-8afe-4c14-9659-3bc9ad2110c6",
   "metadata": {},
   "source": [
    "#### Exercise 1.14\n",
    "\n",
    "Basing my answer on [this one](https://mk12.github.io/sicp/exercise/1/2.html#ex1.14).\n",
    "The order of growth $\\Theta(n)$ of the space and number of steps of `count_change`, as a function of the amount to be changed $n$ increases, are $\\Theta(n^5)$ and $\\Theta(n)$, respectively. This is because `count_change` is a tree recursive process. For such a process, the space used is proportional to the maximum depth of the tree, in our case 5. So there will be exponential growth as the amount to be changed increases. The steps for such a process will be equal to the number of leaves of the tree and so this will grow linearly ($\\Theta(n)$) as the amount to be changed increases."
   ]
  },
  {
   "cell_type": "markdown",
   "id": "a14ff071-ffbb-4177-b04b-c73d2b710c4a",
   "metadata": {},
   "source": [
    "## 1.3 Formulating Abstractions with Higher-Order Functions\n",
    "\n",
    "We have seen that functions are, in effect, abstractions that describe compound operations on numbers independent of the particular numbers. For example, when we declare"
   ]
  },
  {
   "cell_type": "code",
   "execution_count": 71,
   "id": "6b5d09fa-cf56-46fa-af63-a5507775ef41",
   "metadata": {},
   "outputs": [],
   "source": [
    "function cube(x) {\n",
    "    return x * x * x; \n",
    "}"
   ]
  },
  {
   "cell_type": "markdown",
   "id": "16d4880e-f91c-48e5-8128-e4b3a6813bd8",
   "metadata": {},
   "source": [
    "we are not talking about the cube of a particular number, but rather about a method for obtaining the cube of any number. Of course we could get along without ever declaring this function, by always writing expressions such as\n",
    "\n",
    "```\n",
    "3 * 3 * 3\n",
    "x * x * x\n",
    "y * y * y\n",
    "```\n",
    "\n",
    "and never mentioning `cube` explicitly. This would place us at a serious disadvantage, forcing us to work always at the level of the particular operations that happen to be primitives in the language (multiplication, in this case) rather than in terms of higher-level operations. **Our programs would be able to compute cubes, but our language would lack the ability to express the concept of cubing.** One of the things we should demand from a powerful programming language is the ability to build abstractions by assigning names to common patterns and then to work in terms of the abstractions directly. Functions provide this ability.\n",
    "\n",
    "Yet even in numerical processing we will be severely limited in our ability to create abstractions if we are restricted to functions whose parameters must be numbers. Often the same programming pattern will be used with a number of different functions. To express such patterns as concepts, we will need to construct functions that can accept functions as arguments or return functions as values. **Functions that manipulate functions are called *higher-order functions***. This section shows how higher-order functions can serve as powerful abstraction mechanisms, vastly increasing the expressive power of our language."
   ]
  },
  {
   "cell_type": "markdown",
   "id": "f8ab809f-aac4-4034-b9f4-92a8ad7ea9e6",
   "metadata": {},
   "source": [
    "### 1.3.1 Functions as Arguments\n",
    "\n",
    "Consider the following three functions. The first computes the sum of the integers from `a` through `b`:\n",
    "\n",
    "```javascript\n",
    "function sum_integers(a, b) {\n",
    "    return a > b \n",
    "           ? 0 \n",
    "           : a + sum_integers(a + 1, b); \n",
    "}\n",
    "```\n",
    "\n",
    "The second computes the sum of the cubes of the integers in the given range:\n",
    "\n",
    "```javascript\n",
    "function sum_cubes(a, b) {\n",
    "    return a > b\n",
    "           ? 0 \n",
    "           : cube(a) + sum_cubes(a + 1, b); \n",
    "}\n",
    "```\n",
    "\n",
    "The third computes the sum of a sequence of terms in the series\n",
    "\n",
    "$$\n",
    "\\frac{1}{1 \\cdot 3} + \\frac{1}{5 \\cdot 7} + \\frac{1}{9 \\cdot 11} + \\dots\n",
    "$$\n",
    "\n",
    "which converges to $\\pi / 8$ (very slowly):\n",
    "\n",
    "```javascript\n",
    "function pi_sum(a, b) {\n",
    "    return a > b\n",
    "           ? 0\n",
    "           : 1 / (a * (a + 2)) + pi_sum(a + 4, b);\n",
    "}\n",
    "```\n",
    "\n",
    "These three functions clearly share a common underlying pattern. They are for the most part identical, differing only in: (1) the name of the function, (2) the function of `a` used to compute the term to be added, and (3) the function that provides the next value of `a`. We could generate each of the functions by filling in slots in the same template:\n",
    "\n",
    "`function` *name* `(a, b) {`  \n",
    "`    return a > b`  \n",
    "`           ? 0`  \n",
    "`           :` *term* `(a) + ` *name* `(` *next* `(a), b);`  \n",
    "`}`\n",
    "\n",
    "The presence of such a common pattern is strong evidence that there is a useful abstraction waiting to be brought to the surface. Indeed, mathematicians long ago identified the abstraction of *summation of a series* and invented “sigma notation,” for example\n",
    "\n",
    "$$\n",
    "\\sum^b_{n=a} f(n) = f(a) + \\dots + f(b)\n",
    "$$\n",
    "\n",
    "to express this concept. The power of sigma notation is that it allows mathematicians to deal with the concept of summation itself rather than only with particular sums--for example, to formulate general results about sums that are independent of the particular series being summed."
   ]
  },
  {
   "cell_type": "markdown",
   "id": "07cfeab2-19b9-476a-9898-a0221825f635",
   "metadata": {},
   "source": [
    "Similarly, as program designers, we would like our language to be powerful enough so that we can write a function that expresses the concept of summation itself rather than only functions that compute particular sums. We can do so readily in our functional language by taking the common template shown above and transforming the “slots” into parameters:"
   ]
  },
  {
   "cell_type": "code",
   "execution_count": 66,
   "id": "ffc23a45-08b6-4166-8f12-c4f82be6428c",
   "metadata": {},
   "outputs": [],
   "source": [
    "function sum(term, a, next, b) {\n",
    "    return a > b\n",
    "           ? 0\n",
    "           : term(a) + sum(term, next(a), next, b);\n",
    "}"
   ]
  },
  {
   "cell_type": "markdown",
   "id": "6a573e80-2cfc-4e87-a080-b6870e58af26",
   "metadata": {},
   "source": [
    "Notice that `sum` takes as its arguments the lower and upper bounds `a` and `b` together with the functions `term` and `next`. We can use `sum` just as we would any function. For example, we can use it (along with a function `inc` that increments its argument by 1) to define `sum_cubes`:"
   ]
  },
  {
   "cell_type": "code",
   "execution_count": 67,
   "id": "901f95f5-b9b5-479a-bd7a-11749fba59dd",
   "metadata": {},
   "outputs": [],
   "source": [
    "function inc(n) {\n",
    "    return n + 1;\n",
    "}"
   ]
  },
  {
   "cell_type": "code",
   "execution_count": 68,
   "id": "5e671920-bc55-479d-b5d0-fd3ccaddb96b",
   "metadata": {},
   "outputs": [],
   "source": [
    "function sum_cubes(a, b) {\n",
    "    return sum(cube, a, inc, b);\n",
    "}"
   ]
  },
  {
   "cell_type": "code",
   "execution_count": 72,
   "id": "55ff8b10-5632-4800-8db9-f232b1219615",
   "metadata": {},
   "outputs": [
    {
     "data": {
      "text/plain": [
       "\u001b[33m3025\u001b[39m"
      ]
     },
     "execution_count": 72,
     "metadata": {},
     "output_type": "execute_result"
    }
   ],
   "source": [
    "sum_cubes(1, 10);"
   ]
  },
  {
   "cell_type": "markdown",
   "id": "be17735a-d340-4c8a-90be-eba4633e80e9",
   "metadata": {},
   "source": [
    "With the aid of an identity function to compute the term, we can define `sum_integers` in terms of `sum`:"
   ]
  },
  {
   "cell_type": "code",
   "execution_count": 73,
   "id": "f51e618a-ef68-43ba-83a0-18544caa20f1",
   "metadata": {},
   "outputs": [],
   "source": [
    "function identity(x) {\n",
    "    return x;\n",
    "}"
   ]
  },
  {
   "cell_type": "code",
   "execution_count": 74,
   "id": "c789274a-0e8e-4bc5-8c53-3881df34afef",
   "metadata": {},
   "outputs": [],
   "source": [
    "function sum_integers(a, b) {\n",
    "    return sum(identity, a, inc, b);\n",
    "}"
   ]
  },
  {
   "cell_type": "markdown",
   "id": "176b832b-4e5b-4bb9-afe6-4f1a152030ba",
   "metadata": {},
   "source": [
    "Then we can add up the integers from 1 to 10:"
   ]
  },
  {
   "cell_type": "code",
   "execution_count": 76,
   "id": "2877d42a-aa4a-4b49-9452-5f675090cbc1",
   "metadata": {},
   "outputs": [
    {
     "data": {
      "text/plain": [
       "\u001b[33m55\u001b[39m"
      ]
     },
     "execution_count": 76,
     "metadata": {},
     "output_type": "execute_result"
    }
   ],
   "source": [
    "sum_integers(1, 10);"
   ]
  },
  {
   "cell_type": "markdown",
   "id": "034931d3-7c09-4bfb-9029-dc70bb286253",
   "metadata": {},
   "source": [
    "We can also define `pi_sum` in the same way:"
   ]
  },
  {
   "cell_type": "code",
   "execution_count": 79,
   "id": "2bf771cf-60cb-45a8-a105-6d11eddf5e07",
   "metadata": {},
   "outputs": [],
   "source": [
    "function pi_sum(a, b) {\n",
    "    function pi_term(x) {\n",
    "        return 1 / (x * (x + 2));\n",
    "    }\n",
    "    function pi_next(x) {\n",
    "        return x + 4;\n",
    "    }\n",
    "    return sum(pi_term, a, pi_next, b);\n",
    "}"
   ]
  },
  {
   "cell_type": "markdown",
   "id": "a43f0837-fdfd-42cd-82e2-da6189350293",
   "metadata": {},
   "source": [
    "Using these functions, we can compute an approximation to $\\pi$:"
   ]
  },
  {
   "cell_type": "code",
   "execution_count": 80,
   "id": "8a4337c2-3a35-487a-a4f5-beaf53593387",
   "metadata": {},
   "outputs": [
    {
     "data": {
      "text/plain": [
       "\u001b[33m3.139592655589783\u001b[39m"
      ]
     },
     "execution_count": 80,
     "metadata": {},
     "output_type": "execute_result"
    }
   ],
   "source": [
    "8 * pi_sum(1, 1000);"
   ]
  },
  {
   "cell_type": "markdown",
   "id": "d1f21d5f-fb59-4557-ab94-d6d0291d34e0",
   "metadata": {},
   "source": [
    "Once we have `sum`, we can use it as a building block in formulating further concepts. For instance, the definite integral of a function $f$ between the limits $a$ and $b$ can be approximated numerically using the formula\n",
    "\n",
    "$$\n",
    "\\int_a^b f = \\left[ f(a + \\frac{dx}{2}) + f( a + dx + \\frac{dx}{2}) + f(a + 2dx +\\frac{dx}{2}) + \\dots \\right] dx\n",
    "$$\n",
    "\n",
    "for small values of $dx$. We can express this directly as a function:"
   ]
  },
  {
   "cell_type": "code",
   "execution_count": 86,
   "id": "39a41833-e592-400c-a679-d72bb99fab29",
   "metadata": {},
   "outputs": [],
   "source": [
    "function integral(f, a, b, dx) {\n",
    "    function add_dx(x) {\n",
    "        return x + dx;\n",
    "    }\n",
    "    return sum(f, a + dx / 2, add_dx, b) * dx;\n",
    "}"
   ]
  },
  {
   "cell_type": "code",
   "execution_count": 87,
   "id": "dafb97b6-6b0d-4c57-99b4-44155283774d",
   "metadata": {},
   "outputs": [
    {
     "data": {
      "text/plain": [
       "\u001b[33m0.2499875000000004\u001b[39m"
      ]
     },
     "execution_count": 87,
     "metadata": {},
     "output_type": "execute_result"
    }
   ],
   "source": [
    "integral(cube, 0, 1, 0.01);"
   ]
  },
  {
   "cell_type": "code",
   "execution_count": 83,
   "id": "12f28166-b2ec-4ecd-a923-a78907be873a",
   "metadata": {},
   "outputs": [
    {
     "data": {
      "text/plain": [
       "\u001b[33m0.249999875000001\u001b[39m"
      ]
     },
     "execution_count": 83,
     "metadata": {},
     "output_type": "execute_result"
    }
   ],
   "source": [
    "integral(cube, 0, 1, 0.001);"
   ]
  },
  {
   "cell_type": "markdown",
   "id": "aa75f28a-f74f-48a1-a425-f64394e78f4b",
   "metadata": {},
   "source": [
    "(The exact value of the integral of cube between 0 and 1 is 1/4.)"
   ]
  },
  {
   "cell_type": "markdown",
   "id": "3cf80a90-c12c-45b6-baf2-38be5494b60f",
   "metadata": {},
   "source": [
    "#### Exercise 1.29\n",
    "\n",
    "Simpson’s Rule is a more accurate method of numerical integration than the method illustrated above. Using Simpson’s Rule, the integral of a function $f$ between $a$ and $b$ is approximated as\n",
    "\n",
    "$$\n",
    "\\frac{h}{3} [ y_0 + 4y_1 + 2y_2 + 4y_3 + 2y_4 + \\dots + 2y_{n-2} + 4y_{n-1} + y_n ]\n",
    "$$\n",
    "\n",
    "where $h = (b - a) / n$, for some even integer $n$, and $y_k = f (a + kh)$. (Increasing $n$ increases the accuracy of the approximation.) Declare a function that takes as arguments $f$, $a$, $b$, and $n$ and returns the value of the integral, computed using Simpson’s Rule. Use your function to integrate `cube` between 0 and 1 (with $n = 100$ and $n = 1000$), and compare the results to those of the integral function shown above."
   ]
  },
  {
   "cell_type": "code",
   "execution_count": null,
   "id": "7ec92b16-5ccf-40c8-b5cf-6201222e8563",
   "metadata": {},
   "outputs": [],
   "source": [
    "function simpsons(f, a, b, n) {\n",
    "    function add_dx(x) {\n",
    "        return x + dx;\n",
    "    }\n",
    "    function h {\n",
    "        return (b - a) / n;\n",
    "    }\n",
    "    return sum(f, a + dx / 2, add_dx, b) * h;\n",
    "}"
   ]
  },
  {
   "cell_type": "markdown",
   "id": "5f00e140-3947-4775-abb1-be247457e9bc",
   "metadata": {},
   "source": [
    "I think I need to write another recursion to compute the term in square brackets? I.e., to go from $0$ to $n$, in steps of $2$, so that $n$ is always even.\n",
    "\n",
    "It gets extra complicated because the term needs to incorporate $k$ -- this is the other reason I think we need another recursion?"
   ]
  },
  {
   "cell_type": "code",
   "execution_count": null,
   "id": "db61f353-8630-423e-97bd-5c8222849d0a",
   "metadata": {},
   "outputs": [],
   "source": [
    "function square_brackets(k, n) {\n",
    "    return k > n\n",
    "           ? 0\n",
    "           : (a + k * h) + square_brackets(k + 2, n);\n",
    "}"
   ]
  },
  {
   "cell_type": "markdown",
   "id": "f68a8595-e4ec-455a-a318-8eae27f88a8a",
   "metadata": {},
   "source": [
    "Or maybe I'm not seeing that these are the `term` and `next` exactly somehow"
   ]
  },
  {
   "cell_type": "markdown",
   "id": "aee7fe6e-cfde-4bb0-9855-a10e0eb62893",
   "metadata": {},
   "source": [
    "#### Exercise 1.30\n",
    "\n",
    "The `sum` function above generates a linear recursion. The function can be rewritten so that the sum is performed iteratively. Show how to do this by filling in the missing expressions in the following declaration:\n",
    "\n",
    "`function sum(term, a, next, b) {`  \n",
    "`    function iter(a, result) {`  \n",
    "`        return `$<??>$  \n",
    "`               ? ` $<??>$  \n",
    "`               : iter(` $<??>$ `, ` $<??>$ `);`  \n",
    "`    return iter(` $<??>$ `, ` $<??>$ `);`  \n",
    "\n",
    "`}`  "
   ]
  },
  {
   "cell_type": "code",
   "execution_count": 108,
   "id": "12e3144c-f393-4707-a72b-17a4ae2978d8",
   "metadata": {},
   "outputs": [],
   "source": [
    "function sum_iter(term, a, next, b) {\n",
    "    function iter(a, result) {\n",
    "        return a >= b\n",
    "               ? result\n",
    "               : result + sum_iter(term, next(a), next, b);\n",
    "    }\n",
    "    return iter(a, term(a));\n",
    "}"
   ]
  },
  {
   "cell_type": "code",
   "execution_count": 109,
   "id": "b37c2f3e-4d36-4b2e-81e0-1a61f1594334",
   "metadata": {},
   "outputs": [],
   "source": [
    "function sum_integers_iter(a, b) {\n",
    "    return sum_iter(identity, a, inc, b);\n",
    "}"
   ]
  },
  {
   "cell_type": "code",
   "execution_count": 110,
   "id": "72708b53-7a51-470b-b6fb-885b50a90c71",
   "metadata": {},
   "outputs": [
    {
     "data": {
      "text/plain": [
       "\u001b[33m55\u001b[39m"
      ]
     },
     "execution_count": 110,
     "metadata": {},
     "output_type": "execute_result"
    }
   ],
   "source": [
    "sum_integers_iter(1, 10);"
   ]
  },
  {
   "cell_type": "markdown",
   "id": "88294bb5-ec86-496d-94da-c1f48f70644e",
   "metadata": {},
   "source": [
    "### 1.3.2 Constructing Functions using Lambda Expressions \n",
    "\n",
    "In using `sum` as in section 1.3.1, it seems terribly awkward to have to declare trivial functions such as `pi_term` and `pi_next` just so we can use them as arguments to our higher-order function. Rather than declare `pi_next` and `pi_term`, it would be more convenient to have a way to directly specify “the function that returns its input incremented by 4” and “the function that returns the reciprocal of its input times its input plus 2.” We can do this by introducing the *lambda expression* as a syntactic form for creating functions. Using lambda expressions, we can describe what we want as\n",
    "\n",
    "```javascript\n",
    "x => x + 4\n",
    "```\n",
    "\n",
    "and\n",
    "\n",
    "```javascript\n",
    "x => 1 / (x * (x + 2))\n",
    "```\n",
    "\n",
    "Then we can express our `pi_sum` function without declaring any auxiliary functions:"
   ]
  },
  {
   "cell_type": "code",
   "execution_count": 111,
   "id": "0e1e1463-04cc-46d2-b057-18a79147f6b8",
   "metadata": {},
   "outputs": [],
   "source": [
    "function pi_sum(a, b) {\n",
    "    return sum(x => 1 / (x * (x + 2)),\n",
    "               a,\n",
    "               x => x + 4,\n",
    "               b);\n",
    "}"
   ]
  },
  {
   "cell_type": "markdown",
   "id": "21a62c61-25b7-47b2-b114-d6b2ae9004af",
   "metadata": {},
   "source": [
    "Again using a lambda expression, we can write the `integral` function without having to declare the auxiliary function `add_dx`:"
   ]
  },
  {
   "cell_type": "code",
   "execution_count": 120,
   "id": "59e1c4e6-b3fc-4034-b878-8153c0c59ca5",
   "metadata": {},
   "outputs": [],
   "source": [
    "function integral(f, a, b, dx) {\n",
    "    return sum(f,\n",
    "               a + dx / 2,\n",
    "               x => x + dx,\n",
    "               b)\n",
    "            *\n",
    "            dx;\n",
    "}"
   ]
  },
  {
   "cell_type": "markdown",
   "id": "5c3ae988-978a-46e3-bda7-20f86ee91c35",
   "metadata": {},
   "source": [
    "In general, lambda expressions are used to create functions in the same way as function declarations, except that no name is specified for the function and the `return` keyword and braces are omitted (if there is only one parameter, the parentheses around the parameter list can also be omitted, as in the examples we have seen).\n",
    "\n",
    "`(` *parameters* `) =>` *expression*\n",
    "\n",
    "The resulting function is just as much a function as one that is created using a function declaration statement. The only difference is that it has not been associated with any name in the environment. We consider\n",
    "\n",
    "```javascript\n",
    "function plus4(x) {\n",
    "    return x + 4;\n",
    "}\n",
    "```\n",
    "\n",
    "to be equivalent to\n",
    "\n",
    "```javascript\n",
    "const plus4 = x => x + 4;\n",
    "```\n",
    "\n",
    "We can read a lambda expression as follows:\n",
    "![](./figs/lambda-expression-fig-1.3.2.png)\n",
    "\n",
    "Like any expression that has a function as its value, a lambda expression can be used as the function expression in an application such as"
   ]
  },
  {
   "cell_type": "code",
   "execution_count": 122,
   "id": "956034e4-e946-43b7-b1b5-8193cb439d9a",
   "metadata": {},
   "outputs": [
    {
     "data": {
      "text/plain": [
       "\u001b[33m12\u001b[39m"
      ]
     },
     "execution_count": 122,
     "metadata": {},
     "output_type": "execute_result"
    }
   ],
   "source": [
    "((x, y, z) => x + y + square(z))(1, 2, 3);"
   ]
  },
  {
   "cell_type": "markdown",
   "id": "9af6e593-ebc2-4ca2-a5e1-ee8eb22b9c5c",
   "metadata": {},
   "source": [
    "or, more generally, in any context where we would normally use a function name. Note that `=>` has lower precedence than function application and thus the parentheses around the lambda expression are necessary here."
   ]
  },
  {
   "cell_type": "code",
   "execution_count": null,
   "id": "90b8c485-0736-43cf-b0b1-f011cadce9cf",
   "metadata": {},
   "outputs": [],
   "source": []
  }
 ],
 "metadata": {
  "kernelspec": {
   "display_name": "Deno",
   "language": "typescript",
   "name": "deno"
  },
  "language_info": {
   "codemirror_mode": "typescript",
   "file_extension": ".ts",
   "mimetype": "text/x.typescript",
   "name": "typescript",
   "nbconvert_exporter": "script",
   "pygments_lexer": "typescript",
   "version": "5.6.2"
  }
 },
 "nbformat": 4,
 "nbformat_minor": 5
}
