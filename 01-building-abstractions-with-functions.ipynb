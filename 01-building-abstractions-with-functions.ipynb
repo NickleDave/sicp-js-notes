{
 "cells": [
  {
   "cell_type": "markdown",
   "id": "669fd12a-3e9f-4e8b-b51c-92bfe622c8df",
   "metadata": {},
   "source": [
    "## 1.1 The Elements of Programming\n",
    "\n",
    "Programming languages have three mechanisms for combining simple ideas to form more complex ideas:\n",
    "1. *primitive expressions*, the simplest entities the language is concerned with\n",
    "2. *means of combination* by which compound elements are built from simpler ones, and\n",
    "3. *means of abstraction* by which compound elements can be named and manipulated as units\n",
    "\n",
    "Programming deals with two kinds of elements: *functions* and *data* (but later we will discover they are really not so distinct).\n",
    "Informally,  \n",
    "1. data: stuff we want to manipulate\n",
    "2. functions: descriptions of rules for manipulating data"
   ]
  },
  {
   "cell_type": "markdown",
   "id": "b1442c33-b654-4532-845e-551b78c96422",
   "metadata": {},
   "source": [
    "### 1.1.1 Expressions\n",
    "\n",
    "We start by typing *statements* into the *interpreter* that *evaluates* those statements.  \n",
    "\n",
    "We start with an expression statement: in javascript, an *expression* followed by a semicolon. One kind of primitive expression is a number."
   ]
  },
  {
   "cell_type": "code",
   "execution_count": 2,
   "id": "8c6410a0-fb71-4648-8bd6-8052d78f12dd",
   "metadata": {},
   "outputs": [
    {
     "data": {
      "text/plain": [
       "\u001b[33m439\u001b[39m"
      ]
     },
     "execution_count": 2,
     "metadata": {},
     "output_type": "execute_result"
    }
   ],
   "source": [
    "439;"
   ]
  },
  {
   "cell_type": "markdown",
   "id": "450f4c0f-e602-483b-b0c9-299486f4b5c8",
   "metadata": {},
   "source": [
    "Expressions representing numbers may be combined with *operators* such as `+` or `*` to form a *compound expression* that represents the application of a corresponding *primitive function* to those numbers:"
   ]
  },
  {
   "cell_type": "code",
   "execution_count": 3,
   "id": "dd42b04a-1c30-4c85-8440-2d74c6a01cd8",
   "metadata": {},
   "outputs": [
    {
     "data": {
      "text/plain": [
       "\u001b[33m576\u001b[39m"
      ]
     },
     "execution_count": 3,
     "metadata": {},
     "output_type": "execute_result"
    }
   ],
   "source": [
    "137 + 439;"
   ]
  },
  {
   "cell_type": "markdown",
   "id": "4658f509-502c-4b78-91c0-f73a18f10cef",
   "metadata": {},
   "source": [
    "Expressions such as these, which contain other expressions as components, are called *combinations*.\n",
    "\n",
    "When a combination is formed by an *operator* symbol in the middle, and *operand* expressions to the left and right, we call it an *operator combination*. The value of an operator combination is obtained by applying the function specified by the operator to the arguments that are the values of the operands.\n",
    "\n",
    "We place the operator between the operands by convention, a convention known as *infix notation*. It follows mathematical notation used in school and everday life.\n",
    "\n",
    "As in mathematics, operator combiniations can be *nested*, that is, they can have operands that themselves are operator combinations:"
   ]
  },
  {
   "cell_type": "code",
   "execution_count": 4,
   "id": "5c1edd66-3b11-4452-ba8f-c651d357750c",
   "metadata": {},
   "outputs": [
    {
     "data": {
      "text/plain": [
       "\u001b[33m19\u001b[39m"
      ]
     },
     "execution_count": 4,
     "metadata": {},
     "output_type": "execute_result"
    }
   ],
   "source": [
    "(3 * 5) + (10 - 6);"
   ]
  },
  {
   "cell_type": "markdown",
   "id": "079f61a0-f2df-417d-a404-b2a8b9e676ca",
   "metadata": {},
   "source": [
    "Parentheses are used to group operator combinations, in order to avoid ambiguities.\n",
    "\n",
    "Javavscript also follows the conventions that multiplication and division bind more strongly than addition and subtraction, i.e, `3 * 5 + 10 / 2;` is equivalent to `(3 * 5) + (10 / 2);`. We say that `*` and `/` have *higher precedence* than `+` and `-`.\n",
    "\n",
    "Sequences are read from left to right. Thus\n",
    "\n",
    "```javascript\n",
    "1 - 5 / 2 * 4 + 3;\n",
    "```\n",
    "\n",
    "stands for\n",
    "\n",
    "```javascript\n",
    "(1 - ((5 / 2) * 4)) + 3;\n",
    "```\n",
    "\n",
    "We say that these operators are *left-associative*.\n",
    "\n",
    "Lastly, note that, regardless of the complexity of the expression, the interpreter always operates in the same simple cycle:\n",
    "1. read a statement typed by the user\n",
    "2. evauate the statement\n",
    "3. print the result\n",
    "\n",
    "We refer to this mode of operation as a *read-evaluate-print loop*, or the initialism *REPL*."
   ]
  },
  {
   "cell_type": "markdown",
   "id": "ed3a7da9-34bf-4b14-ae5b-dc28c81a06ea",
   "metadata": {},
   "source": [
    "### 1.1.2 Naming and the Environment\n",
    "\n",
    "A critical aspect of a programming language is the means it provides for using names to refer to computational objects.\n",
    "We say the name identifies a constant whose *value* is the object.\n",
    "\n",
    "The first such means we will learn in JavaScript is a *constant*. In JavaScript, we name constants with *constant declarations*."
   ]
  },
  {
   "cell_type": "code",
   "execution_count": 5,
   "id": "e920183d-02db-4293-ac04-0683b5604de3",
   "metadata": {},
   "outputs": [],
   "source": [
    "const size = 2;"
   ]
  },
  {
   "cell_type": "markdown",
   "id": "3227f624-c9de-4e51-afa1-c765c3c8f5a4",
   "metadata": {},
   "source": [
    "Once the name `size` has been associated with thbe number 2, we can refer to the value 2 by name:"
   ]
  },
  {
   "cell_type": "code",
   "execution_count": 6,
   "id": "9927c8a6-92e2-43a7-a168-65d536feef93",
   "metadata": {},
   "outputs": [
    {
     "data": {
      "text/plain": [
       "\u001b[33m2\u001b[39m"
      ]
     },
     "execution_count": 6,
     "metadata": {},
     "output_type": "execute_result"
    }
   ],
   "source": [
    "size;"
   ]
  },
  {
   "cell_type": "code",
   "execution_count": 7,
   "id": "7e1da4cb-282e-495a-a9bb-a7d917ae904b",
   "metadata": {},
   "outputs": [
    {
     "data": {
      "text/plain": [
       "\u001b[33m10\u001b[39m"
      ]
     },
     "execution_count": 7,
     "metadata": {},
     "output_type": "execute_result"
    }
   ],
   "source": [
    "5 * size;"
   ]
  },
  {
   "cell_type": "markdown",
   "id": "76292cb7-c1b2-416f-8bc3-57c9003b4cbc",
   "metadata": {},
   "source": [
    "Constant declaration is our language's simplest means of abstraction, for it allows us to use simple names to refer to the results of compound operations, like so:"
   ]
  },
  {
   "cell_type": "code",
   "execution_count": 8,
   "id": "64d2dba2-0a4d-4146-808b-30e1d4a3b1c3",
   "metadata": {},
   "outputs": [
    {
     "data": {
      "text/plain": [
       "\u001b[33m62.8318\u001b[39m"
      ]
     },
     "execution_count": 8,
     "metadata": {},
     "output_type": "execute_result"
    }
   ],
   "source": [
    "const pi = 3.14159;\n",
    "\n",
    "const radius = 10;\n",
    "\n",
    "const circumference = 2 * pi * radius;\n",
    "\n",
    "circumference;"
   ]
  },
  {
   "cell_type": "markdown",
   "id": "3d7eccc8-ed10-4be2-88a3-d7338add2ca1",
   "metadata": {},
   "source": [
    "Means of abstraction like this allow us to build up computational objects with very complex structures. We write programs to avoid having to remember and repeat the details of building up these objects every time we want to use them. Instead, we write programs that construct computational objects of increasing complexity, by building up from simple expressions, step by step.\n",
    "\n",
    "The fact that we can associate names with values implies that the interpreter must maintain some sort of memory that keeps track of name-object pairs. This memory is called the *environment* -- more precisely, the *program environment*, as a computation may involve a number of different environments."
   ]
  },
  {
   "cell_type": "markdown",
   "id": "11ae389b-43dd-4ea6-af0d-f5321ef1129d",
   "metadata": {},
   "source": [
    "### 1.1.3 Evaluating operator combinations\n",
    "\n",
    "One goal of this chapter is to isolate issues about thinking procedurally.\n",
    "\n",
    "As a case in point, let us consider the procedure the interpreter follows when evaluating operator combinations.\n",
    "\n",
    "* To evaluate an operator combination, do the following:\n",
    "  1. Evaluate the operand expressions of the combination.\n",
    "  2. Apply the function that is denoted by the operator to the arguments that are the values of the operands.\n",
    "\n",
    "Even this simple rule illustrates some important points about procedures.  \n",
    "First, observe that the first step dicates we must first perform the evaluation process on each operand. Thus, the evaluation rule is *recursive*: it includes, as one of its steps, the need to invoke the rule itself.\n",
    "\n",
    "Recursion allows us to express succinctly what might otherwise appear to be a rather complicated process.  \n",
    "For example, the following expression requires that the evaluation rule be applied to four different combinations:"
   ]
  },
  {
   "cell_type": "code",
   "execution_count": 9,
   "id": "02134cb8-8dff-488f-b3ad-00a1008eaa34",
   "metadata": {},
   "outputs": [
    {
     "data": {
      "text/plain": [
       "\u001b[33m390\u001b[39m"
      ]
     },
     "execution_count": 9,
     "metadata": {},
     "output_type": "execute_result"
    }
   ],
   "source": [
    "(2 + 4 * 6) * (3 + 12);"
   ]
  },
  {
   "cell_type": "markdown",
   "id": "637d0ac1-53b0-4c64-986a-ea3521d214a4",
   "metadata": {},
   "source": [
    "We can picture this process by representing the combination in the form of a tree, as shown in figure 1.1. Each combination is represented by a *node* with *branches* corresponding to the operator and the operands of the combination stemming from it. The *terminal* nodes, with no branches stemming from them, represent either operators or numbers.\n",
    "\n",
    "![](./figs/fig1.1.png)\n",
    "\n",
    "If we view evaluation in terms of the tree, we can imagine that the values of the operands percolate upward, starting from the terminal nodes and then combining at higher and higher levels. **In general, we will see that recursion is a very powerful technique for dealing with hierarchical, treelike objects.** In fact, the \"percolate values upward\" form of the evaluation rule is an example of a general kind of process known as *tree accumulation*.\n",
    "\n",
    "The second point we can observe about this procedure is that our rules don't tell us how to evaluate primitve expressions -- the *base case* of our recursion. We take care of the primitive cases by stipulating that. \n",
    "* the values of numerals are the numbers that they name, and\n",
    "* the values of names are the objects associated with those names in the environment.\n",
    "\n",
    "The key point here is that **the enviornment plays a role in determining the meaning of names in expressions**. In an interpreted language such as JavaScript, especially when run in an interactive REPL, it is meaningless to talk about the value of an expression such as `x + 1;` without specifying any information about what value the environment would provide for `x`."
   ]
  },
  {
   "cell_type": "markdown",
   "id": "f158a204-601c-4a50-bc65-0074dab3bbef",
   "metadata": {},
   "source": [
    "#### Declarations are not combinations\n",
    "Notice the evaluation rule above does not handle declarations, like the constant declarations we saw above.  \n",
    "We should not think of evaluating `const x = 3;` as applying an equality operator to two arguments `x` and `3`. Therefore `const x = 3;` is not a combination.\n",
    "#### Keywords and rules\n",
    "\n",
    "The word `const` is a *keyword* in JavaScript, a word with a particular meaning. Because they carry these meanings, keywords in languages are always reserved and cannot be used as names (at least, not without breaking programs).\n",
    "\n",
    "A keyword or combination of keywords in a statement instructs the interpreter to treat the statement in a special way. **Each such *syntactic form* has its own evaluation rule.**"
   ]
  }
 ],
 "metadata": {
  "kernelspec": {
   "display_name": "Deno",
   "language": "typescript",
   "name": "deno"
  },
  "language_info": {
   "codemirror_mode": "typescript",
   "file_extension": ".ts",
   "mimetype": "text/x.typescript",
   "name": "typescript",
   "nbconvert_exporter": "script",
   "pygments_lexer": "typescript",
   "version": "5.6.2"
  }
 },
 "nbformat": 4,
 "nbformat_minor": 5
}
