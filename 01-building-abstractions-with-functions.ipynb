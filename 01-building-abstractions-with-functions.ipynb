{
 "cells": [
  {
   "cell_type": "markdown",
   "id": "669fd12a-3e9f-4e8b-b51c-92bfe622c8df",
   "metadata": {},
   "source": [
    "## 1.1 The Elements of Programming\n",
    "\n",
    "Programming languages have three mechanisms for combining simple ideas to form more complex ideas:\n",
    "1. *primitive expressions*, the simplest entities the language is concerned with\n",
    "2. *means of combination* by which compound elements are built from simpler ones, and\n",
    "3. *means of abstraction* by which compound elements can be named and manipulated as units\n",
    "\n",
    "Programming deals with two kinds of elements: *functions* and *data* (but later we will discover they are really not so distinct).\n",
    "Informally,  \n",
    "1. data: stuff we want to manipulate\n",
    "2. functions: descriptions of rules for manipulating data"
   ]
  },
  {
   "cell_type": "markdown",
   "id": "b1442c33-b654-4532-845e-551b78c96422",
   "metadata": {},
   "source": [
    "### 1.1.1 Expressions\n",
    "\n",
    "We start by typing *statements* into the *interpreter* that *evaluates* those statements.  \n",
    "\n",
    "We start with an expression statement: in javascript, an *expression* followed by a semicolon. One kind of primitive expression is a number."
   ]
  },
  {
   "cell_type": "code",
   "execution_count": 1,
   "id": "8c6410a0-fb71-4648-8bd6-8052d78f12dd",
   "metadata": {},
   "outputs": [
    {
     "data": {
      "text/plain": [
       "\u001b[33m439\u001b[39m"
      ]
     },
     "execution_count": 1,
     "metadata": {},
     "output_type": "execute_result"
    }
   ],
   "source": [
    "439;"
   ]
  },
  {
   "cell_type": "markdown",
   "id": "450f4c0f-e602-483b-b0c9-299486f4b5c8",
   "metadata": {},
   "source": [
    "Expressions representing numbers may be combined with *operators* such as `+` or `*` to form a *compound expression* that represents the application of a corresponding *primitive function* to those numbers:"
   ]
  },
  {
   "cell_type": "code",
   "execution_count": 2,
   "id": "dd42b04a-1c30-4c85-8440-2d74c6a01cd8",
   "metadata": {},
   "outputs": [
    {
     "data": {
      "text/plain": [
       "\u001b[33m576\u001b[39m"
      ]
     },
     "execution_count": 2,
     "metadata": {},
     "output_type": "execute_result"
    }
   ],
   "source": [
    "137 + 439;"
   ]
  },
  {
   "cell_type": "markdown",
   "id": "4658f509-502c-4b78-91c0-f73a18f10cef",
   "metadata": {},
   "source": [
    "Expressions such as these, which contain other expressions as components, are called *combinations*.\n",
    "\n",
    "When a combination is formed by an *operator* symbol in the middle, and *operand* expressions to the left and right, we call it an *operator combination*. The value of an operator combination is obtained by applying the function specified by the operator to the arguments that are the values of the operands.\n",
    "\n",
    "We place the operator between the operands by convention, a convention known as *infix notation*. It follows mathematical notation used in school and everday life.\n",
    "\n",
    "As in mathematics, operator combiniations can be *nested*, that is, they can have operands that themselves are operator combinations:"
   ]
  },
  {
   "cell_type": "code",
   "execution_count": 3,
   "id": "5c1edd66-3b11-4452-ba8f-c651d357750c",
   "metadata": {},
   "outputs": [
    {
     "data": {
      "text/plain": [
       "\u001b[33m19\u001b[39m"
      ]
     },
     "execution_count": 3,
     "metadata": {},
     "output_type": "execute_result"
    }
   ],
   "source": [
    "(3 * 5) + (10 - 6);"
   ]
  },
  {
   "cell_type": "markdown",
   "id": "079f61a0-f2df-417d-a404-b2a8b9e676ca",
   "metadata": {},
   "source": [
    "Parentheses are used to group operator combinations, in order to avoid ambiguities.\n",
    "\n",
    "Javavscript also follows the conventions that multiplication and division bind more strongly than addition and subtraction, i.e, `3 * 5 + 10 / 2;` is equivalent to `(3 * 5) + (10 / 2);`. We say that `*` and `/` have *higher precedence* than `+` and `-`.\n",
    "\n",
    "Sequences are read from left to right. Thus\n",
    "\n",
    "```javascript\n",
    "1 - 5 / 2 * 4 + 3;\n",
    "```\n",
    "\n",
    "stands for\n",
    "\n",
    "```javascript\n",
    "(1 - ((5 / 2) * 4)) + 3;\n",
    "```\n",
    "\n",
    "We say that these operators are *left-associative*.\n",
    "\n",
    "Lastly, note that, regardless of the complexity of the expression, the interpreter always operates in the same simple cycle:\n",
    "1. read a statement typed by the user\n",
    "2. evauate the statement\n",
    "3. print the result\n",
    "\n",
    "We refer to this mode of operation as a *read-evaluate-print loop*, or the initialism *REPL*."
   ]
  },
  {
   "cell_type": "markdown",
   "id": "ed3a7da9-34bf-4b14-ae5b-dc28c81a06ea",
   "metadata": {},
   "source": [
    "### 1.1.2 Naming and the Environment\n",
    "\n",
    "A critical aspect of a programming language is the means it provides for using names to refer to computational objects.\n",
    "We say the name identifies a constant whose *value* is the object.\n",
    "\n",
    "The first such means we will learn in JavaScript is a *constant*. In JavaScript, we name constants with *constant declarations*."
   ]
  },
  {
   "cell_type": "code",
   "execution_count": 4,
   "id": "e920183d-02db-4293-ac04-0683b5604de3",
   "metadata": {},
   "outputs": [],
   "source": [
    "const size = 2;"
   ]
  },
  {
   "cell_type": "markdown",
   "id": "3227f624-c9de-4e51-afa1-c765c3c8f5a4",
   "metadata": {},
   "source": [
    "Once the name `size` has been associated with thbe number 2, we can refer to the value 2 by name:"
   ]
  },
  {
   "cell_type": "code",
   "execution_count": 5,
   "id": "9927c8a6-92e2-43a7-a168-65d536feef93",
   "metadata": {},
   "outputs": [
    {
     "data": {
      "text/plain": [
       "\u001b[33m2\u001b[39m"
      ]
     },
     "execution_count": 5,
     "metadata": {},
     "output_type": "execute_result"
    }
   ],
   "source": [
    "size;"
   ]
  },
  {
   "cell_type": "code",
   "execution_count": 6,
   "id": "7e1da4cb-282e-495a-a9bb-a7d917ae904b",
   "metadata": {},
   "outputs": [
    {
     "data": {
      "text/plain": [
       "\u001b[33m10\u001b[39m"
      ]
     },
     "execution_count": 6,
     "metadata": {},
     "output_type": "execute_result"
    }
   ],
   "source": [
    "5 * size;"
   ]
  },
  {
   "cell_type": "markdown",
   "id": "76292cb7-c1b2-416f-8bc3-57c9003b4cbc",
   "metadata": {},
   "source": [
    "Constant declaration is our language's simplest means of abstraction, for it allows us to use simple names to refer to the results of compound operations, like so:"
   ]
  },
  {
   "cell_type": "code",
   "execution_count": 7,
   "id": "64d2dba2-0a4d-4146-808b-30e1d4a3b1c3",
   "metadata": {},
   "outputs": [
    {
     "data": {
      "text/plain": [
       "\u001b[33m62.8318\u001b[39m"
      ]
     },
     "execution_count": 7,
     "metadata": {},
     "output_type": "execute_result"
    }
   ],
   "source": [
    "const pi = 3.14159;\n",
    "\n",
    "const radius = 10;\n",
    "\n",
    "const circumference = 2 * pi * radius;\n",
    "\n",
    "circumference;"
   ]
  },
  {
   "cell_type": "markdown",
   "id": "3d7eccc8-ed10-4be2-88a3-d7338add2ca1",
   "metadata": {},
   "source": [
    "Means of abstraction like this allow us to build up computational objects with very complex structures. We write programs to avoid having to remember and repeat the details of building up these objects every time we want to use them. Instead, we write programs that construct computational objects of increasing complexity, by building up from simple expressions, step by step.\n",
    "\n",
    "The fact that we can associate names with values implies that the interpreter must maintain some sort of memory that keeps track of name-object pairs. This memory is called the *environment* -- more precisely, the *program environment*, as a computation may involve a number of different environments."
   ]
  },
  {
   "cell_type": "markdown",
   "id": "11ae389b-43dd-4ea6-af0d-f5321ef1129d",
   "metadata": {},
   "source": [
    "### 1.1.3 Evaluating operator combinations\n",
    "\n",
    "One goal of this chapter is to isolate issues about thinking procedurally.\n",
    "\n",
    "As a case in point, let us consider the procedure the interpreter follows when evaluating operator combinations.\n",
    "\n",
    "* To evaluate an operator combination, do the following:\n",
    "  1. Evaluate the operand expressions of the combination.\n",
    "  2. Apply the function that is denoted by the operator to the arguments that are the values of the operands.\n",
    "\n",
    "Even this simple rule illustrates some important points about procedures.  \n",
    "First, observe that the first step dicates we must first perform the evaluation process on each operand. Thus, the evaluation rule is *recursive*: it includes, as one of its steps, the need to invoke the rule itself.\n",
    "\n",
    "Recursion allows us to express succinctly what might otherwise appear to be a rather complicated process.  \n",
    "For example, the following expression requires that the evaluation rule be applied to four different combinations:"
   ]
  },
  {
   "cell_type": "code",
   "execution_count": 8,
   "id": "02134cb8-8dff-488f-b3ad-00a1008eaa34",
   "metadata": {},
   "outputs": [
    {
     "data": {
      "text/plain": [
       "\u001b[33m390\u001b[39m"
      ]
     },
     "execution_count": 8,
     "metadata": {},
     "output_type": "execute_result"
    }
   ],
   "source": [
    "(2 + 4 * 6) * (3 + 12);"
   ]
  },
  {
   "cell_type": "markdown",
   "id": "637d0ac1-53b0-4c64-986a-ea3521d214a4",
   "metadata": {},
   "source": [
    "We can picture this process by representing the combination in the form of a tree, as shown in figure 1.1. Each combination is represented by a *node* with *branches* corresponding to the operator and the operands of the combination stemming from it. The *terminal* nodes, with no branches stemming from them, represent either operators or numbers.\n",
    "\n",
    "![](./figs/fig1.1.png)\n",
    "\n",
    "If we view evaluation in terms of the tree, we can imagine that the values of the operands percolate upward, starting from the terminal nodes and then combining at higher and higher levels. **In general, we will see that recursion is a very powerful technique for dealing with hierarchical, treelike objects.** In fact, the \"percolate values upward\" form of the evaluation rule is an example of a general kind of process known as *tree accumulation*.\n",
    "\n",
    "The second point we can observe about this procedure is that our rules don't tell us how to evaluate primitve expressions -- the *base case* of our recursion. We take care of the primitive cases by stipulating that. \n",
    "* the values of numerals are the numbers that they name, and\n",
    "* the values of names are the objects associated with those names in the environment.\n",
    "\n",
    "The key point here is that **the enviornment plays a role in determining the meaning of names in expressions**. In an interpreted language such as JavaScript, especially when run in an interactive REPL, it is meaningless to talk about the value of an expression such as `x + 1;` without specifying any information about what value the environment would provide for `x`."
   ]
  },
  {
   "cell_type": "markdown",
   "id": "f158a204-601c-4a50-bc65-0074dab3bbef",
   "metadata": {},
   "source": [
    "#### Declarations are not combinations\n",
    "Notice the evaluation rule above does not handle declarations, like the constant declarations we saw above.  \n",
    "We should not think of evaluating `const x = 3;` as applying an equality operator to two arguments `x` and `3`. Therefore `const x = 3;` is not a combination.\n",
    "#### Keywords and rules\n",
    "\n",
    "The word `const` is a *keyword* in JavaScript, a word with a particular meaning. Because they carry these meanings, keywords in languages are always reserved and cannot be used as names (at least, not without breaking programs).\n",
    "\n",
    "A keyword or combination of keywords in a statement instructs the interpreter to treat the statement in a special way. **Each such *syntactic form* has its own evaluation rule.**"
   ]
  },
  {
   "cell_type": "markdown",
   "id": "6e891efe-6214-4df5-a952-f7dfc21aff85",
   "metadata": {},
   "source": [
    "### 1.1.4 Compound Functions\n",
    "\n",
    "So far we have demonstrated with JavaScript some of the elements common to many programming languages:\n",
    "* primitive data and functions: numbers and arithmetic operations\n",
    "* means of combining operations, e.g., nesting with parentheses\n",
    "* a limited means of abstraction: constant declarations that associate names with values\n",
    "\n",
    "Next we learn about a much more powerful abstraction technique: *function declarations* that associate a name with a compound operation, so that the operation can be referred to as a unit.\n",
    "\n",
    "We being with the idea of squaring a number. To express this idea in plain language, we might say, \"To square something, take it times itself.\" We express this in JavaScript as:"
   ]
  },
  {
   "cell_type": "code",
   "execution_count": 9,
   "id": "b74d7cba-2518-445b-9666-703a768af5c6",
   "metadata": {},
   "outputs": [],
   "source": [
    "function square(x) {\n",
    "    return x * x;\n",
    "}"
   ]
  },
  {
   "cell_type": "markdown",
   "id": "eb9ad7e0-1533-4063-851f-f443e65cb45d",
   "metadata": {},
   "source": [
    "The name `square` identifies our *compound function*. The function represents the operation of multiplying something by itself. Notice that the thing to be multiplied is given a local name, `x`. This is similar to the role pronouns play in natural language.\n",
    "\n",
    "The simplest form of a function declaration is:\n",
    "\n",
    "`function` *name*`{`*parameters*`) { return` *expression*`; }`\n",
    "\n",
    "where *name* is a symbol to be associated with the function in the environment, and the *parameters* are the names used within the body of the function to refer to the corresponding arguments to the function.\n",
    "\n",
    "Here we only have one parameter, but more generall we have a comma-separated list of a parameters, and in an application of the function we will likewise have a comma-separated list of arguments, the values that the parameters take on when the function is applied.\n",
    "\n",
    "In its simplest form, the *body* of a function declaration is a single *return statement*, the keyword `return` followed by the *return expression* that will yield the value of the function application."
   ]
  },
  {
   "cell_type": "markdown",
   "id": "ca062c20-2d88-4e76-b7b5-17e92526a6e8",
   "metadata": {},
   "source": [
    "Having declared `square`, we can now use it in a *function application* expression."
   ]
  },
  {
   "cell_type": "code",
   "execution_count": 10,
   "id": "6177a0b0-9522-4c0d-ac6b-996b69bb713c",
   "metadata": {},
   "outputs": [
    {
     "data": {
      "text/plain": [
       "\u001b[33m441\u001b[39m"
      ]
     },
     "execution_count": 10,
     "metadata": {},
     "output_type": "execute_result"
    }
   ],
   "source": [
    "square(21);"
   ]
  },
  {
   "cell_type": "markdown",
   "id": "75a21a65-70a5-49a2-abc6-f8d8e336084f",
   "metadata": {},
   "source": [
    "Function applications are--after operator combinations--the second kind of combination of expressions into larger expressions that we encounter. The general form is:\n",
    "\n",
    "*function-expression(argument-expressions)*\n",
    "\n",
    "where the *function-expression* of the application specifies the function to be applied to the comma-separated *argument-expressions*.\n",
    "\n",
    "To evaluate a function application, the interpreter follows a procedure quite similar to the procedure for operator combinations described in section 1.1.3.\n",
    "\n",
    "* To evaluate a function application, do the following:\n",
    "  1. Evaluate the subexpressions of the application, namely the function expression and the argument expressions.\n",
    "  2. Apply the function that is the value of the function expression to the values of the argument expressions.\n",
    "\n",
    "To see the generality of this procedure, take for example a case where the argument expression is itself a compound expression:"
   ]
  },
  {
   "cell_type": "code",
   "execution_count": 11,
   "id": "62d1fccd-0344-4e73-9098-d579b9d3285b",
   "metadata": {},
   "outputs": [
    {
     "data": {
      "text/plain": [
       "\u001b[33m49\u001b[39m"
      ]
     },
     "execution_count": 11,
     "metadata": {},
     "output_type": "execute_result"
    }
   ],
   "source": [
    "square(2 + 5);"
   ]
  },
  {
   "cell_type": "markdown",
   "id": "385a3d9a-b5d4-4e71-83da-98cf5529ffe7",
   "metadata": {},
   "source": [
    "We can see that the interpreter indeed follows our procedure, evaluating the argument expression first before applying the value of the function expression to the value of the argument expression.\n",
    "\n",
    "Observe that function applicaton expressions can also serve as argument expressions:"
   ]
  },
  {
   "cell_type": "code",
   "execution_count": 12,
   "id": "ff1d5f03-bb72-4890-8407-4c817230089f",
   "metadata": {},
   "outputs": [
    {
     "data": {
      "text/plain": [
       "\u001b[33m81\u001b[39m"
      ]
     },
     "execution_count": 12,
     "metadata": {},
     "output_type": "execute_result"
    }
   ],
   "source": [
    "square(square(3));"
   ]
  },
  {
   "cell_type": "markdown",
   "id": "424ddf35-040b-49fb-ad20-e96d25443999",
   "metadata": {},
   "source": [
    "We can also use `square` as a building block in defining other functions. For example, $x^2 + y^2$ can be expressed as:\n",
    "\n",
    "`square(x) + square(y)`\n",
    "\n",
    "Using this expression, we can declare a functio `sum_of_squares` that, given any two numbers as arguments, produces the sum of their squares:"
   ]
  },
  {
   "cell_type": "code",
   "execution_count": 13,
   "id": "e513a65d-cb0f-494d-9376-c151ee85d440",
   "metadata": {},
   "outputs": [],
   "source": [
    "function sum_of_squares(x, y) {\n",
    "    return square(x) + square(y);\n",
    "}"
   ]
  },
  {
   "cell_type": "code",
   "execution_count": 14,
   "id": "c9042747-5a13-4a44-9135-7bf49f8eb945",
   "metadata": {},
   "outputs": [
    {
     "data": {
      "text/plain": [
       "\u001b[33m25\u001b[39m"
      ]
     },
     "execution_count": 14,
     "metadata": {},
     "output_type": "execute_result"
    }
   ],
   "source": [
    "sum_of_squares(3, 4);"
   ]
  },
  {
   "cell_type": "markdown",
   "id": "742cf64d-79b5-4936-977b-42d07524ddc9",
   "metadata": {},
   "source": [
    "And by extension we can use `sum_of_squares` as a building block in constructing yet more functions:"
   ]
  },
  {
   "cell_type": "code",
   "execution_count": 15,
   "id": "5658a03e-b08c-4def-8d71-669c9a82eea7",
   "metadata": {},
   "outputs": [],
   "source": [
    "function f(a) {\n",
    "    return sum_of_squares(a + 1, a * 2);\n",
    "}"
   ]
  },
  {
   "cell_type": "code",
   "execution_count": 16,
   "id": "e7df5847-0c78-49ff-95a4-9c2b7be63f6e",
   "metadata": {},
   "outputs": [
    {
     "data": {
      "text/plain": [
       "\u001b[33m136\u001b[39m"
      ]
     },
     "execution_count": 16,
     "metadata": {},
     "output_type": "execute_result"
    }
   ],
   "source": [
    "f(5);"
   ]
  },
  {
   "cell_type": "markdown",
   "id": "414175ac-0f92-4b5c-814b-6bbc92c13a8e",
   "metadata": {},
   "source": [
    "In addition to compound functions, any JavaScript environment provides primitive functions that are built into the interpreter or loaded from libraries. These additional primitive functions are used in the exact same way as compuond functions. This means that it doesn't matter when we write a compound function like `sum_of_squares` whether `square` was built into the interpreter, loaded from a library, or itself defined as a compound function."
   ]
  },
  {
   "cell_type": "markdown",
   "id": "7d5a5934-532b-4ab0-ac6f-bca07d509630",
   "metadata": {},
   "source": [
    "### 1.1.5 The Substitution Model for Function Application\n",
    "\n",
    "To evaluate a function application, the interpreter follows the procedure described in section 1.1.4. For primitive functions, this is handled by the interpreter or libraries. For compound functions, the application process is as follows:\n",
    "* To apply a compound function to arguments, evaluate the return expression of the function with each parameter replaced by the corresponding argument.\n",
    "\n",
    "We can apply this process to the functions we declared above.  \n",
    "Let's evaluate the application\n",
    "\n",
    "```javascript\n",
    "f(5);\n",
    "```\n",
    "\n",
    "where `f` is the function we just declared.  \n",
    "We begin by retrieving the return expression of `f`:\n",
    "```javascript\n",
    "sum_of_squares(a + 1, a * 2);\n",
    "```\n",
    "Then we replace the parameter `a` with the argument 5:\n",
    "```javascript\n",
    "sum_of_squares(5 + 1, 5 * 2)\n",
    "```\n",
    "Thus the problem reduces to the evaluation of an application with two arguments and a function expression `sum_of_squares`. Evaluating this applications involves three subproblems. We continue substituting to reduce these subproblems until we end up with two primitive expressions and a primitive function, an operator applied to them: `36 + 100`. This gives us, finally, `136`."
   ]
  },
  {
   "cell_type": "markdown",
   "id": "308b4689-db2a-4d8a-85f1-1a59ec8cd92b",
   "metadata": {},
   "source": [
    "The process we have just described is called the *substitution model* for function application.\n",
    "\n",
    "Two points that should be stressed:\n",
    "1. The purpose of the substitution is to help us to think about function application. It is *not* a description of how the interpreter really works: typically interpreters do not evaluate function applications by manipulating the text of the function to substitute values for parameters. In practice, the \"substitution\" is accomplished by using a local environment for the parameters.\n",
    "2. Over the course of this book, we present a sequence of increasingly elaborate models of how interpreters work, culminating with a complete implementation of an interpreter and compiler. The substitution model is only the first of these. When we address the use of functions with mutable data, we will see that the substitution model breaks down and must be replaced by a more complicated model of function evaluation."
   ]
  },
  {
   "cell_type": "markdown",
   "id": "80c7d337-d3df-44e4-a8ef-b4100552e049",
   "metadata": {},
   "source": [
    "#### Applicative order versus normal order\n",
    "\n",
    "The procedure given in 1.1.4 is not the only way to perform evaluation. An alternative model would not evaluate arguments until their values were needed. Instaed, it would first substitute argument epxressions for parameters until it obtained an expression involving only operators and primitive functions, and would then perform the evaluation.\n",
    "\n",
    "If we used this method, the evaluation of `f(5)` would proceed according to the sequence of expansions\n",
    "```javascript\n",
    "sum_of_squares(5 + 1, 5 * 2)\n",
    "\n",
    "square(5 + 1) + square(5 * 2)\n",
    "\n",
    "(5 + 1) * (5 + 1) + (5 * 2) * (5 * 2)\n",
    "```\n",
    "followed by the reductions\n",
    "```javascript\n",
    "6 * 6 + 10 * 10\n",
    "36 + 100\n",
    "136\n",
    "```\n",
    "This gives the same answer as our previous evaluation model, but the process is different. In particular, the evaluations of `5 + 1` and `5 * 2` are each performed twice here, corresponding to the reduction of the expression\n",
    "```javascript\n",
    "x * x\n",
    "```\n",
    "with `x` replaced, respectively, by `5 + 1` and `5 * 2`.\n",
    "\n",
    "With the order we followed above, we would isntead have done\n",
    "```javascript\n",
    "sum_of_squares(5 + 1, 5 * 2)\n",
    "\n",
    "sum_of_squares(6, 10)\n",
    "\n",
    "square(6) + square(10)\n",
    "```\n",
    "and then the reduction would have proceeded as just shown.\n",
    "\n",
    "This alternative method of fully expanding and then reducing is known as *normal-order evaluation*. The interpreter actually evaluates the arguments and then applies functions, and this is called *applicative-order evaluation*. It can be shown that, for function applications that can be modeled using substitution and that yield legitimate values, normal-order and applicative-order evaluation produce the same value. JavaScript uses applicative-order evaluation. This is partly because of the additional efficiency obtained from avoiding multiple evauations of expressions, as just demonstrated. More significantly, normal-order evaluation becomes much more complicated to deal with when we leave the realm of functions that can be modeled by substitution. On the other hand, normal-order evaluation can be an extremely valuable tool."
   ]
  },
  {
   "cell_type": "markdown",
   "id": "b6986188-3d6b-4d99-ba2a-0844078d00d8",
   "metadata": {},
   "source": [
    "### 1.1.6 Conditional Expressions and Predicates\n",
    "\n",
    "The expressive power of the class of functions that we can define at this point is very limited, because we have no way to make tests and to perform different operations depending on the result of a test.\n",
    "\n",
    "$$\n",
    "|x| = \n",
    "\\begin{cases}\n",
    "x \\text{ if } x \\ge 0 \\\\\n",
    "-x \\text{ otherwise }\n",
    "\\end{cases}\n",
    "$$\n",
    "\n",
    "This construct is a *case analysis* and can be written in JavaScript using a *conditional expression* as"
   ]
  },
  {
   "cell_type": "code",
   "execution_count": 17,
   "id": "5ea556e1-0c47-4dcc-938a-d85b8c54bca1",
   "metadata": {},
   "outputs": [],
   "source": [
    "function abs(x) {\n",
    "    return x >= 0 ? x : -x;\n",
    "}"
   ]
  },
  {
   "cell_type": "markdown",
   "id": "0ecf9641-4fd7-491b-be0f-741c4b6aaaef",
   "metadata": {},
   "source": [
    "This can be expressed in English as \"If $x$ is greater than or equal to zero, return $x$; otherwise return $-x$\".\n",
    "\n",
    "The general form of a conditional expression is \n",
    "\n",
    "*predicate* `?` *consequent-expression* `:` *alternative-expression*\n",
    "\n",
    "Conditional expressions begin with a *predicate*, an expression whose value evaluates to either *true* or *false*, the two distinguished *boolean* values in JavaaScript. The primitive boolean expressions are `true` and `false`. The predicate is followed by a question mark, then the *consequent-epxression*, a colon, and finally the *alternative-expression*.\n",
    "\n",
    "To evaluate a conditional expression, the interpreter starts by evaluating the *predicate*. If the *predicate* evaluates to true, the interpreter evaluates the *consequent-expression* and returns its value as the value of the conditional. If the predicate evaluates as false, the interpreter evaluates the *alternative-expression* and returns that instead."
   ]
  },
  {
   "cell_type": "markdown",
   "id": "491c75e8-f0e3-40bc-a827-9a47e60bf75b",
   "metadata": {},
   "source": [
    "The word *predicate* is used for operators and functions that return true or false, as well as for expressions that evaluate to true or false. Our absolute-value function `abs` makes use of the primitive predicate `>=`.\n",
    "\n",
    "We could specify our absolute value function so that it has more than two cases:\n",
    "$$\n",
    "|x| = \n",
    "\\begin{cases}\n",
    "&x &\\text{if } x \\gt 0 \\\\\n",
    "&0 &\\text{if } x = 0 \\\\\n",
    "&-x &\\text{otherwise}\n",
    "\\end{cases}\n",
    "$$\n",
    "\n",
    "In JavaScript, we express a case analysis with multiple cases by nesting conditional expressions as alternative experssions inside other conditional expressions:"
   ]
  },
  {
   "cell_type": "code",
   "execution_count": 18,
   "id": "7d35a332-7336-4ad6-8836-0e6b8cbf61ef",
   "metadata": {},
   "outputs": [],
   "source": [
    "function abs(x) {\n",
    "    return x > 0\n",
    "           ? x\n",
    "           : x === 0\n",
    "           ? 0\n",
    "           : -x;\n",
    "}"
   ]
  },
  {
   "cell_type": "markdown",
   "id": "24b79652-14f3-401e-b107-71559b46d5a1",
   "metadata": {},
   "source": [
    "Parentheses are not needed around the alternatve expression `x === 0 ? 0 : -x` because the conditional-expression syntactic form is right-associative.\n",
    "\n",
    "The general form of a case analysis is  \n",
    "$p_1$\n",
    "`?` $e_1$  \n",
    "`:` $p_2$  \n",
    "`?` $e_2$  \n",
    "$\\vdots$  \n",
    "`:` $p_n$  \n",
    "`?` $e_n$  \n",
    "`:` *final-alternative-expression*\n",
    "\n",
    "We call a predicate $p_i$ together with its consequent expression $e_i$ a *clause*. A case analysis can be seen as a sequence of clauses, followed by a final alternative expression. We can evaluate a case analysis using what we know about how the interpreter evaluates conditonal expressions: first the interpreter evaluates the predicate $p_1$. If its value is false, then $p_2$ is evaluated. If $p_2$'s value is also found to be false, then $p_3$ is evaluated. this process continues until a predicate $p_i$ is found whose value is true, in which case the interpreter returns the value of the corresponding consequent expression $e_i$ as the value of the case analysis. If none of the $p$s is found to be true, the value of the case analysis is the value of the final alternative expression."
   ]
  },
  {
   "cell_type": "markdown",
   "id": "a5088cad-3fa5-4dae-9f1b-f7ff3191c9bc",
   "metadata": {},
   "source": [
    "In addition to primitve predicates (`>=`, `>`, `<`, `<=`, `===`, and `!==`) that are applied to numbers, there are logical composition operations that enable us to construct *compound predicates*. The three most frequently used are these:\n",
    "\n",
    "1. $expression_1$ `&&` $expression_2$  \n",
    "   This operation expresses *logical conjunction*, roughly the same as the English word \"and\". We assume this form to be syntactic sugar for $expression_1$ `?` $expression_2$ `: false`\n",
    "\n",
    "2. $expression_1$ `||` $expression_2$  \n",
    "   This operation expresses *logical disjunction*, roughly the same as the English word \"or\". We assume this form to be syntactic sugar for $expression_1$ `?` `true :` $expression_2$\n",
    "\n",
    "3. `!` $expression$  \n",
    "   This operation expresses *logical negation*, roughly the same as the English word \"not\". The value of the expression is true when $expression$ evaluates to false, and false when $expresssion$ evaluates to true."
   ]
  },
  {
   "cell_type": "code",
   "execution_count": null,
   "id": "81eec6c8-38a2-4403-ae3a-85d23306eec6",
   "metadata": {},
   "outputs": [],
   "source": [
    "\n",
    "s"
   ]
  }
 ],
 "metadata": {
  "kernelspec": {
   "display_name": "Deno",
   "language": "typescript",
   "name": "deno"
  },
  "language_info": {
   "codemirror_mode": "typescript",
   "file_extension": ".ts",
   "mimetype": "text/x.typescript",
   "name": "typescript",
   "nbconvert_exporter": "script",
   "pygments_lexer": "typescript",
   "version": "5.6.2"
  }
 },
 "nbformat": 4,
 "nbformat_minor": 5
}
